{
  "cells": [
    {
      "cell_type": "markdown",
      "metadata": {
        "id": "view-in-github",
        "colab_type": "text"
      },
      "source": [
        "<a href=\"https://colab.research.google.com/github/nedokormysh/NLP_Fontanka/blob/main/Pymagic_tuning.ipynb\" target=\"_parent\"><img src=\"https://colab.research.google.com/assets/colab-badge.svg\" alt=\"Open In Colab\"/></a>"
      ]
    },
    {
      "cell_type": "code",
      "execution_count": 2,
      "metadata": {
        "id": "OCAEY3l0GD6Q"
      },
      "outputs": [],
      "source": [
        "!pip install natasha -q\n",
        "!pip install catboost -q"
      ]
    },
    {
      "cell_type": "code",
      "execution_count": 23,
      "metadata": {
        "colab": {
          "base_uri": "https://localhost:8080/"
        },
        "id": "RbWoS0wJFeOn",
        "outputId": "b413f79e-3735-493e-cd30-bb44e38e1867"
      },
      "outputs": [
        {
          "output_type": "stream",
          "name": "stderr",
          "text": [
            "[nltk_data] Downloading package stopwords to /root/nltk_data...\n",
            "[nltk_data]   Package stopwords is already up-to-date!\n"
          ]
        }
      ],
      "source": [
        "import matplotlib.pyplot as plt\n",
        "import matplotlib\n",
        "import seaborn as sns\n",
        "import numpy as np\n",
        "import pandas as pd\n",
        "import datetime\n",
        "from wordcloud import WordCloud, STOPWORDS\n",
        "import datetime\n",
        "\n",
        "import nltk\n",
        "from nltk.corpus import stopwords\n",
        "nltk.download(\"stopwords\")\n",
        "\n",
        "from catboost import CatBoostClassifier\n",
        "\n",
        "from collections import defaultdict\n",
        "from sklearn.feature_extraction.text import TfidfVectorizer\n",
        "from sklearn.model_selection import train_test_split\n",
        "from sklearn.linear_model import LogisticRegression\n",
        "from sklearn.pipeline import make_pipeline, Pipeline\n",
        "from sklearn.metrics import classification_report\n",
        "from sklearn.naive_bayes import MultinomialNB\n",
        "from sklearn.svm import SVC\n",
        "\n",
        "import gensim.downloader\n",
        "from gensim.models import Word2Vec, KeyedVectors\n",
        "from gensim.models.fasttext import FastText\n",
        "from natasha import Doc, Segmenter, MorphVocab, NewsEmbedding, NewsMorphTagger\n",
        "\n",
        "from sklearn.preprocessing import OneHotEncoder, MinMaxScaler, StandardScaler, LabelEncoder, label_binarize\n",
        "# from sklearn.compose import ColumnTransformer\n",
        "from sklearn.base import BaseEstimator, TransformerMixin\n",
        "from sklearn.impute import SimpleImputer\n",
        "from sklearn.metrics import confusion_matrix, ConfusionMatrixDisplay\n",
        "from sklearn.multiclass import OneVsRestClassifier, OneVsOneClassifier\n",
        "\n",
        "from sklearn.model_selection import KFold,\\\n",
        "                                    StratifiedKFold, cross_val_score, \\\n",
        "                                    ShuffleSplit, StratifiedShuffleSplit,\\\n",
        "                                    RandomizedSearchCV\n",
        "\n",
        "from sklearn.metrics import mean_squared_error, mean_absolute_error, \\\n",
        "    precision_score, recall_score, f1_score, roc_auc_score, log_loss, auc,\\\n",
        "    roc_curve, confusion_matrix, ConfusionMatrixDisplay\n",
        "\n",
        "import requests\n",
        "\n",
        "from typing import List, Optional, Tuple, Union\n",
        "\n",
        "import pickle\n",
        "\n",
        "sns.set(style=\"darkgrid\")\n",
        "%matplotlib inline"
      ]
    },
    {
      "cell_type": "markdown",
      "metadata": {
        "id": "1mKn31sX2dHR"
      },
      "source": [
        "# Загрузка данных"
      ]
    },
    {
      "cell_type": "markdown",
      "source": [
        "Загрузка и логика обработки были рассмотрены в ноутбуке EDA"
      ],
      "metadata": {
        "id": "pTmNn9Em-rIO"
      }
    },
    {
      "cell_type": "code",
      "execution_count": null,
      "metadata": {
        "id": "bs1hJfi4FiPW"
      },
      "outputs": [],
      "source": [
        "df = pd.DataFrame()"
      ]
    },
    {
      "cell_type": "code",
      "execution_count": null,
      "metadata": {
        "id": "ebPxNwRnGc8x"
      },
      "outputs": [],
      "source": [
        "for i in range(45):\n",
        "    df_ = pd.read_csv(f'https://github.com/nedokormysh/NLP_Fontanka/raw/main/data/fontanka_intermediate_{i}.csv')\n",
        "    df = pd.concat([df, df_])"
      ]
    },
    {
      "cell_type": "markdown",
      "metadata": {
        "id": "ebzg2lIMbi1y"
      },
      "source": [
        "Хотим решать задачу классификации текстов по темам.\n",
        "\n",
        "Предположим бизнес-задачу: тэгирование текстов.\n"
      ]
    },
    {
      "cell_type": "code",
      "execution_count": null,
      "metadata": {
        "colab": {
          "base_uri": "https://localhost:8080/"
        },
        "id": "Xo_HdCnZ5hLZ",
        "outputId": "846c7d51-de83-4291-f1bd-7640eb1cd0c0"
      },
      "outputs": [
        {
          "data": {
            "text/plain": [
              "False"
            ]
          },
          "execution_count": 6,
          "metadata": {},
          "output_type": "execute_result"
        }
      ],
      "source": [
        "df['topic']= df['topic'].apply(lambda x: x.lower())\n",
        "df.dropna(inplace=True)\n",
        "df.isna().any().any()"
      ]
    },
    {
      "cell_type": "code",
      "execution_count": null,
      "metadata": {
        "id": "-q7m1TThhKHD"
      },
      "outputs": [],
      "source": [
        "# Получаем топ 10 топиков по количеству\n",
        "topic_counts = df.topic.value_counts()\n",
        "top_topics = topic_counts.head(10)\n",
        "df = df[df.topic.isin(top_topics.index)]"
      ]
    },
    {
      "cell_type": "code",
      "execution_count": null,
      "metadata": {
        "id": "aA7MbTl1i0LV"
      },
      "outputs": [],
      "source": [
        "df['datetime'] = pd.to_datetime(df['datetime'], utc=True)\n",
        "# df['date'] = df['datetime'].dt.date\n",
        "df['year'] = df['datetime'].dt.year\n",
        "df['month'] = df['datetime'].dt.strftime(\"%B\")\n",
        "df['weekday'] = df['datetime'].dt.strftime('%A')\n",
        "df['hour'] = df['datetime'].dt.hour"
      ]
    },
    {
      "cell_type": "code",
      "execution_count": null,
      "metadata": {
        "id": "ljJG6t_mri3Q"
      },
      "outputs": [],
      "source": [
        "df['log_views'] = np.log1p(df['views'])"
      ]
    },
    {
      "cell_type": "code",
      "execution_count": null,
      "metadata": {
        "id": "7sohCergxvXV"
      },
      "outputs": [],
      "source": [
        "df['len_title'] = df['title'].str.len()\n",
        "df['len_content'] = df['content'].str.len()"
      ]
    },
    {
      "cell_type": "code",
      "execution_count": null,
      "metadata": {
        "id": "Sf6ma5RS02eS"
      },
      "outputs": [],
      "source": [
        "df['lifetime'] = pd.to_datetime(df['datetime'], utc=True).apply(lambda x: (datetime.datetime.now(datetime.timezone.utc) - x).total_seconds())\n",
        "df['lifetime'] = df['lifetime'].apply(lambda x: divmod(x, 60)[0]) # в минутах"
      ]
    },
    {
      "cell_type": "code",
      "execution_count": null,
      "metadata": {
        "id": "krwfJfeK14sE"
      },
      "outputs": [],
      "source": [
        "df['views_by_minutes'] = (df['views'] + 1) / df['lifetime']\n",
        "df['log_views_by_minutes'] = np.log1p(df['views_by_minutes'])"
      ]
    },
    {
      "cell_type": "markdown",
      "metadata": {
        "id": "hNuZHcuQmu7o"
      },
      "source": [
        "# Преобработка текстов"
      ]
    },
    {
      "cell_type": "code",
      "execution_count": null,
      "metadata": {
        "id": "8dxFVXd1GBjm"
      },
      "outputs": [],
      "source": [
        "RND_STATE = 7575"
      ]
    },
    {
      "cell_type": "code",
      "execution_count": null,
      "metadata": {
        "id": "3tewP-xiILVw"
      },
      "outputs": [],
      "source": [
        "segmenter = Segmenter()\n",
        "morph_vocab = MorphVocab()\n",
        "emb = NewsEmbedding()\n",
        "morph_tagger = NewsMorphTagger(emb)"
      ]
    },
    {
      "cell_type": "code",
      "execution_count": null,
      "metadata": {
        "id": "SAfTQ5nPIN-f"
      },
      "outputs": [],
      "source": [
        "stop_words = stopwords.words('russian')\n",
        "stop_words.extend(['что', 'это', 'так',\n",
        "                    'вот', 'быть', 'как',\n",
        "                    'в', '—', 'к', 'за', 'из', 'из-за',\n",
        "                    'на', 'ок', 'кстати',\n",
        "                    'который', 'мочь', 'весь',\n",
        "                    'еще', 'также', 'свой',\n",
        "                    'ещё', 'самый', 'ул', 'комментарий',\n",
        "                    'английский', 'язык'])"
      ]
    },
    {
      "cell_type": "code",
      "execution_count": null,
      "metadata": {
        "id": "X1aFTw8gIXq3"
      },
      "outputs": [],
      "source": [
        "def text_prep(text: str) -> str:\n",
        "    \"\"\"\n",
        "    Функция предобработки текста: лемматизация, фильтрация от стоп-слов\n",
        "\n",
        "    :param text: строка текста\n",
        "    :return: обработанная строка текста\n",
        "    \"\"\"\n",
        "    doc = Doc(text)\n",
        "    doc.segment(segmenter)\n",
        "    doc.tag_morph(morph_tagger)\n",
        "\n",
        "    for token in doc.tokens:\n",
        "        token.lemmatize(morph_vocab)\n",
        "\n",
        "    lemmas = [_.lemma for _ in doc.tokens]\n",
        "    words = [lemma for lemma in lemmas if lemma.isalpha() and len(lemma) > 2]\n",
        "    filtered_words = [word for word in words if word not in stop_words]\n",
        "    return \" \".join(filtered_words)"
      ]
    },
    {
      "cell_type": "code",
      "execution_count": null,
      "metadata": {
        "colab": {
          "base_uri": "https://localhost:8080/"
        },
        "id": "kiJHLhw9Ia1H",
        "outputId": "49873145-e489-4762-e5bd-898a39fb7785"
      },
      "outputs": [
        {
          "name": "stdout",
          "output_type": "stream",
          "text": [
            "CPU times: user 42min 24s, sys: 25min 10s, total: 1h 7min 34s\n",
            "Wall time: 39min 40s\n"
          ]
        }
      ],
      "source": [
        "%%time\n",
        "df['title_clean'] = df.title.apply(text_prep)\n",
        "df['content_clean'] = df.content.apply(text_prep)"
      ]
    },
    {
      "cell_type": "code",
      "execution_count": null,
      "metadata": {
        "colab": {
          "base_uri": "https://localhost:8080/"
        },
        "id": "nIJD5Tl0QYpW",
        "outputId": "6efa58f3-6f72-4d26-882e-e92cee935967"
      },
      "outputs": [
        {
          "data": {
            "text/plain": [
              "array([['В Пулково задержали жителя Израиля. Интерпол помог установить, под каким именем его помнят в Петербурге',\n",
              "        'пулково задержать житель израиль интерпол помочь установить имя помнить петербург']],\n",
              "      dtype=object)"
            ]
          },
          "execution_count": 19,
          "metadata": {},
          "output_type": "execute_result"
        }
      ],
      "source": [
        "# Заголовок\n",
        "df.sample(1)[['title', 'title_clean']].values"
      ]
    },
    {
      "cell_type": "code",
      "execution_count": null,
      "metadata": {
        "colab": {
          "base_uri": "https://localhost:8080/"
        },
        "id": "gTf80wNIQaOS",
        "outputId": "ce574315-1f69-4402-b93d-eb92be827169"
      },
      "outputs": [
        {
          "data": {
            "text/plain": [
              "array([['Способы облегчить зимнюю уборку в Петербурге становятся все оригинальнее. На битву с наледью пришлось призвать строительный кран, рассказал 4 февраля в соцсетях очевидец.«Строители приходят на помощь коммунальщикам», — лаконично прокомментировал он видео, опубликованное в группе «Признавашки ДТП и ЧП Санкт-Петербург» во «ВКонтакте». На кадрах кран сбивает со здания сосульки, а автор отмечает, что таким образом недолго и кровлю повредить. «Фонтанка» уже рассказывала о ноу-хау, с помощью которого сбивали сосульки на Петроградской стороне. Рабочие использовали «нанолопату», подвешенную на веревке.',\n",
              "        'способ облегчить зимний уборка петербург становиться оригинальнее битва наледь прийтись призвать строительный кран рассказать февраль соцсеть очевидец строитель приходить помощь коммунальщик лаконично прокомментировать видео опубликовать группа признавашки дтп вконтакте кадр кран сбивать здание сосулька автор отмечать образ недолго кровля повредить фонтанка рассказывать помощь сбивать сосулька петроградский сторона рабочий использовать нанолопата подвесить веревка']],\n",
              "      dtype=object)"
            ]
          },
          "execution_count": 20,
          "metadata": {},
          "output_type": "execute_result"
        }
      ],
      "source": [
        "# Содержание\n",
        "df.sample(1)[['content', 'content_clean']].values"
      ]
    },
    {
      "cell_type": "code",
      "execution_count": null,
      "metadata": {
        "colab": {
          "base_uri": "https://localhost:8080/"
        },
        "id": "ApG-Jqm6FqpA",
        "outputId": "ce2d1e6a-a0c9-4c3f-af16-fdf93129abb1"
      },
      "outputs": [
        {
          "name": "stdout",
          "output_type": "stream",
          "text": [
            "<class 'pandas.core.frame.DataFrame'>\n",
            "Index: 45472 entries, 0 to 1039\n",
            "Data columns (total 19 columns):\n",
            " #   Column                Non-Null Count  Dtype              \n",
            "---  ------                --------------  -----              \n",
            " 0   url                   45472 non-null  object             \n",
            " 1   title                 45472 non-null  object             \n",
            " 2   content               45472 non-null  object             \n",
            " 3   topic                 45472 non-null  object             \n",
            " 4   datetime              45472 non-null  datetime64[ns, UTC]\n",
            " 5   views                 45472 non-null  int64              \n",
            " 6   comments_amount       45472 non-null  int64              \n",
            " 7   year                  45472 non-null  int32              \n",
            " 8   month                 45472 non-null  object             \n",
            " 9   weekday               45472 non-null  object             \n",
            " 10  hour                  45472 non-null  int32              \n",
            " 11  log_views             45472 non-null  float64            \n",
            " 12  len_title             45472 non-null  int64              \n",
            " 13  len_content           45472 non-null  int64              \n",
            " 14  lifetime              45472 non-null  float64            \n",
            " 15  views_by_minutes      45472 non-null  float64            \n",
            " 16  log_views_by_minutes  45472 non-null  float64            \n",
            " 17  title_clean           45472 non-null  object             \n",
            " 18  content_clean         45472 non-null  object             \n",
            "dtypes: datetime64[ns, UTC](1), float64(4), int32(2), int64(4), object(8)\n",
            "memory usage: 6.6+ MB\n"
          ]
        }
      ],
      "source": [
        "df.info()"
      ]
    },
    {
      "cell_type": "markdown",
      "source": [
        "# Вспомогательные функции и классы"
      ],
      "metadata": {
        "id": "OquSFCZAV_sd"
      }
    },
    {
      "cell_type": "markdown",
      "source": [
        "Собственный класс для выбора колонок. Т.к. для разных моделей захотелось использовать разные колонки, то будем использовать этот класс"
      ],
      "metadata": {
        "id": "nLsyVefyCzSR"
      }
    },
    {
      "cell_type": "code",
      "source": [
        "class CustomSelectColumns():\n",
        "    \"\"\"\n",
        "    Класс выбора требуемых колонок\n",
        "    \"\"\"\n",
        "    def __init__(self,\n",
        "                 selected_feats: List[str] = None):\n",
        "        \"\"\"\n",
        "        :param selected_feats: лист с выбранными признаками\n",
        "        \"\"\"\n",
        "        self.sel_feats = selected_feats\n",
        "        # print('Init done')\n",
        "    def fit(self,\n",
        "            X: pd.DataFrame,\n",
        "            y: pd.Series = None):\n",
        "        \"\"\"\n",
        "        метод применения класса\n",
        "        :param X: датасет\n",
        "        :param y: целевая переменная\n",
        "        :return: экземпляр класса CustomSelectColumns\n",
        "        \"\"\"\n",
        "        return self\n",
        "\n",
        "    def transform(self,\n",
        "                  X: pd.DataFrame,\n",
        "                  y: pd.Series = None) -> pd.DataFrame:\n",
        "        \"\"\"\n",
        "        метод трансформации датасета\n",
        "        :param X: датасет\n",
        "        :param y: целевая переменная\n",
        "        :return: изменённый датасет\n",
        "        \"\"\"\n",
        "        X_ = X.copy()\n",
        "        X_filtered = X_[self.sel_feats]\n",
        "        X_filtered = pd.DataFrame(X_filtered)\n",
        "        return pd.DataFrame(X_filtered)"
      ],
      "metadata": {
        "id": "aInuPt1Te5LM"
      },
      "execution_count": 3,
      "outputs": []
    },
    {
      "cell_type": "markdown",
      "source": [
        "Будем трансформировать колонки: масштабировать численные переменные, категориальные кодировать, а текстовые либо создавать токены, либо не изменять.\n",
        "Собственный класс для трансформации колонок."
      ],
      "metadata": {
        "id": "YBeV1SVQDDEO"
      }
    },
    {
      "cell_type": "code",
      "source": [
        "class CustomTransformer():\n",
        "    \"\"\"\n",
        "    Класс трансформации признаков.\n",
        "    Числовые данные нормализуются или стандартизируются.\n",
        "    Категориальные признаки не изменяются.\n",
        "    После трансформаци возвращается датафрейм.\n",
        "    \"\"\"\n",
        "    def __init__(self,\n",
        "                 scaler_type: Union[StandardScaler, MinMaxScaler] = None,\n",
        "                 cat_feats: List[str] = ['month', 'weekday'],\n",
        "                 txt_feats: List[str] = ['content'],\n",
        "                 split: bool = False,\n",
        "                 with_mean: bool = True,\n",
        "                 with_std: bool = True,\n",
        "                 feature_range: tuple[int, int]=(0, 1)) -> None:\n",
        "\n",
        "        \"\"\"\n",
        "        :param scaler_type: экземпляр класса мастшабирования или стандартизации\n",
        "        :param cat_feats: лист с категориальными признаками\n",
        "        :param txt_feats: лист с текстовыми призаками\n",
        "        :param split: логическая переменная разбивать строку на токены\n",
        "        :param with_mean: логическая переменная StandardScaler\n",
        "                          - вычитать среднее значение\n",
        "        :param with_std: логическая переменная StandardScaler\n",
        "                          - делить на стандартное отклоннение\n",
        "        :param feature_range: параметр класса MinMaxScaler\n",
        "                          - диапазоном значений, на который масштабируются\n",
        "                          признаки\n",
        "        \"\"\"\n",
        "\n",
        "        self.scaler_type = scaler_type\n",
        "        if scaler_type:\n",
        "            self.scaler = StandardScaler(with_mean=with_mean, with_std=with_std)\n",
        "        else:\n",
        "            self.scaler = MinMaxScaler(feature_range=feature_range)\n",
        "\n",
        "        self.split = split\n",
        "\n",
        "        self.cat_encoder = LabelEncoder()\n",
        "        self.cat_feats = cat_feats\n",
        "        self.txt_feats = txt_feats\n",
        "\n",
        "        # print('Init done')\n",
        "    def fit(self,\n",
        "            X: pd.DataFrame,\n",
        "            y: pd.Series = None):\n",
        "        \"\"\"\n",
        "        метод применения класса\n",
        "        :param X: датасет\n",
        "        :param y: целевая переменная\n",
        "        :return: экземпляр класса CustomSelectColumns\n",
        "        \"\"\"\n",
        "        return self\n",
        "\n",
        "    def transform(self,\n",
        "                  X: pd.DataFrame,\n",
        "                  y: pd.Series=None) -> pd.DataFrame:\n",
        "        \"\"\"\n",
        "        метод трансформации датасета\n",
        "        :param X: датасет\n",
        "        :param y: целевая переменная\n",
        "        :return: изменённый датасет\n",
        "        \"\"\"\n",
        "\n",
        "        X_ = X.copy()\n",
        "        X_cat = X_[self.cat_feats]\n",
        "        # категориальные признаки кодируем label_encoder\n",
        "        for feature in self.cat_feats:\n",
        "            # X_cat[feature + '_encoded'] = self.cat_encoder.fit_transform(X_cat[feature])\n",
        "            X_.loc[:, feature + '_encoded'] = self.cat_encoder.fit_transform(X_[feature])\n",
        "            X_cat = X_cat.drop(columns=[feature])\n",
        "\n",
        "        num_feats = [i for i in X_.columns if i not in self.cat_feats and i not in self.txt_feats]\n",
        "        # числовые признаки масштабируем\n",
        "        X_num = X_[num_feats]\n",
        "\n",
        "        X_num = pd.DataFrame(self.scaler.fit_transform(X_num), columns=num_feats)\n",
        "        # текстовые признаки либо разбиваем на токены, либо оставляем так как есть\n",
        "        if self.split:\n",
        "            X_txt = X_[self.txt_feats].str.split()\n",
        "        else:\n",
        "            X_txt = X_[self.txt_feats]\n",
        "\n",
        "        X_cat = X_cat.reset_index(drop=True)\n",
        "        X_num = X_num.reset_index(drop=True)\n",
        "        X_txt = X_txt.reset_index(drop=True)\n",
        "\n",
        "        res = pd.concat([X_cat, X_num, X_txt], axis=1)\n",
        "        return res.reset_index().set_index('index')"
      ],
      "metadata": {
        "id": "0qk_CxKYe_IT"
      },
      "execution_count": 4,
      "outputs": []
    },
    {
      "cell_type": "markdown",
      "source": [
        "Будем создавать tf-idf вектора наших текстов. Собственный класс для получения взвешенных tfidf векторов.\n",
        "Этот класс для преобразования текстовых данных в числовые векторы, которые могут быть использованы в качестве входных данных для машинного обучения. Он объединяет преимущества TF-IDF (для учета важности слов в тексте) и вложений слов (для учета семантического смысла слов)."
      ],
      "metadata": {
        "id": "ZWLMSMs4fwQ8"
      }
    },
    {
      "cell_type": "code",
      "source": [
        "class TfidfEmbeddingVectorizer(object):\n",
        "    \"\"\"Класс для получения взвешенных tfidf векторов предложения\"\"\"\n",
        "    def __init__(self,\n",
        "                 model,\n",
        "                 column):\n",
        "        \"\"\"\n",
        "        :param model: модель для получения векторных представлений слов\n",
        "        :param column: колонка, к которой применяем\n",
        "        \"\"\"\n",
        "        self.word2vec = model.wv\n",
        "        self.word2weight = None\n",
        "        self.dim = model.vector_size\n",
        "        self.column = column\n",
        "        self.max_idf = None\n",
        "\n",
        "    def tokenize(self, x: List[str]):\n",
        "        \"\"\"\n",
        "        метод для токенизирования, но будем подавать уже токенезированный текст\n",
        "        :return: лист слов предложения\n",
        "        \"\"\"\n",
        "        return x\n",
        "\n",
        "    def get_idf(self, tfidf, word):\n",
        "        index = tfidf.vocabulary_.get(word)\n",
        "        return tfidf.idf_[index] if index is not None else self.max_idf\n",
        "\n",
        "    def default_idf(self):\n",
        "        return self.max_idf\n",
        "\n",
        "    def fit(self,\n",
        "            X: pd.DataFrame,\n",
        "            y: pd.Series):\n",
        "        \"\"\"\n",
        "        метод применения класса\n",
        "        :param X: датасет\n",
        "        :param y: целевая переменная\n",
        "        :return: экземпляр класса CustomSelectColumns\n",
        "        \"\"\"\n",
        "        tfidf = TfidfVectorizer(analyzer=self.tokenize)\n",
        "        tfidf.fit(X[self.column])\n",
        "        self.max_idf = max(tfidf.idf_)\n",
        "        self.word2weight = defaultdict(\n",
        "            self.default_idf,\n",
        "            [(w, self.get_idf(tfidf, w)) for w in tfidf.vocabulary_.items()])\n",
        "\n",
        "        return self\n",
        "\n",
        "    def transform(self, X: pd.DataFrame) -> pd.DataFrame:\n",
        "        \"\"\"\n",
        "        метод трансформации датасета\n",
        "        :param X: датасет\n",
        "        :return: изменённый датасет\n",
        "        \"\"\"\n",
        "        X_tfidf = np.array([\n",
        "                np.mean([self.word2vec.get_vector(w) * self.word2weight[w]\n",
        "                         for w in words if w in self.word2vec] or\n",
        "                        [np.zeros(self.dim)], axis=0)\n",
        "                for words in X[self.column]\n",
        "            ])\n",
        "        X_tfidf = pd.DataFrame(X_tfidf, columns=[f'tfidf_{i}' for i in range(self.dim)])\n",
        "        X.drop(self.column, inplace=True, axis=1)\n",
        "        X = pd.concat([X, X_tfidf], axis=1)\n",
        "\n",
        "        return X"
      ],
      "metadata": {
        "id": "95LYfzPmfHnD"
      },
      "execution_count": 5,
      "outputs": []
    },
    {
      "cell_type": "code",
      "source": [
        "def get_metrics_multiclass(y_test_bin: np.array,\n",
        "                           y_test: np.array,\n",
        "                           y_pred: np.array,\n",
        "                           y_prob: np.array,\n",
        "                           name: str,\n",
        "                           type_multi: str):\n",
        "    \"\"\"\n",
        "\n",
        "    :param y_test_bin: бинаризованные тестовые метки класса\n",
        "    :param y_test: метки класса без бинаризации\n",
        "    :param y_prob: предсказанные вероятности классов\n",
        "    :param name: - название модели/подхода\n",
        "    :param type_multi: тип многоклассовой классификации для ROC-AUC (ovo/ovr)\n",
        "    \"\"\"\n",
        "\n",
        "    df_metrics = pd.DataFrame()\n",
        "\n",
        "\n",
        "    df_metrics['model'] = [name]\n",
        "\n",
        "    df_metrics['ROC_AUC'] = roc_auc_score(y_test_bin,\n",
        "                                          y_prob,\n",
        "                                          multi_class=type_multi)\n",
        "\n",
        "    df_metrics['Precision_micro'] = precision_score(y_test,\n",
        "                                                    y_pred,\n",
        "                                                    average='micro')\n",
        "    df_metrics['Precision_macro'] = precision_score(y_test,\n",
        "                                                    y_pred,\n",
        "                                                    average='macro')\n",
        "\n",
        "    df_metrics['Recall_micro'] = recall_score(y_test, y_pred, average='micro')\n",
        "    df_metrics['Recall_macro'] = recall_score(y_test, y_pred, average='macro')\n",
        "\n",
        "    df_metrics['F1_micro'] = f1_score(y_test, y_pred, average='micro')\n",
        "    df_metrics['F1_macro'] = f1_score(y_test, y_pred, average='macro')\n",
        "    df_metrics['F1_weighted'] = f1_score(y_test, y_pred, average='weighted')\n",
        "\n",
        "    df_metrics['Logloss'] = log_loss(y_test, y_prob)\n",
        "\n",
        "    return df_metrics"
      ],
      "metadata": {
        "id": "eIHVGPasgMMb"
      },
      "execution_count": 6,
      "outputs": []
    },
    {
      "cell_type": "markdown",
      "metadata": {
        "id": "HyInqlURpgml"
      },
      "source": [
        "# Преобработка данных"
      ]
    },
    {
      "cell_type": "code",
      "execution_count": 13,
      "metadata": {
        "id": "AIybad2ypX8Y"
      },
      "outputs": [],
      "source": [
        "df = pd.read_csv('/content/prep.csv')\n",
        "RND_STATE = 7575"
      ]
    },
    {
      "cell_type": "code",
      "execution_count": 14,
      "metadata": {
        "colab": {
          "base_uri": "https://localhost:8080/"
        },
        "id": "E8QyatcBFlgA",
        "outputId": "cde18d50-5cd8-4461-9d5f-1911c629dab3"
      },
      "outputs": [
        {
          "output_type": "stream",
          "name": "stdout",
          "text": [
            "\u001b[1mcat_features:\u001b[0m ['month', 'weekday'], \u001b[1mamount\u001b[0m = 2\n",
            "\u001b[1mnum_features:\u001b[0m ['content', 'comments_amount', 'year', 'hour', 'log_views', 'len_title', 'len_content', 'log_views_by_minutes', 'content_clean'], \u001b[1mamount\u001b[0m = 9\n",
            "\u001b[1mtargets:\u001b[0m ['topic'], \u001b[1mamount\u001b[0m = 1\n"
          ]
        }
      ],
      "source": [
        "# инициализируем листы числовых, категориальных, целевых признаков и признаки,\n",
        "# которые не потребуются для анализа\n",
        "cat_features = [#'title',\n",
        "                #'content',\n",
        "                'month',\n",
        "                'weekday']\n",
        "# cat_features_indxs = [0, 1, 2]\n",
        "targets = ['topic',\n",
        "          #  'views'\n",
        "           ]\n",
        "features2drop = ['url', 'views', 'views_by_minutes', 'lifetime', 'datetime',\n",
        "                 'title', 'title_clean']\n",
        "\n",
        "filtered_features = [i for i in df.columns if (i not in targets and i not in features2drop)]\n",
        "num_features = [i for i in filtered_features if i not in cat_features]\n",
        "\n",
        "print(f'\\033[1mcat_features:\\033[0m {cat_features}, \\033[1mamount\\033[0m = {len(cat_features)}')\n",
        "print(f'\\033[1mnum_features:\\033[0m {num_features}, \\033[1mamount\\033[0m = {len(num_features)}')\n",
        "print(f'\\033[1mtargets:\\033[0m {targets}, \\033[1mamount\\033[0m = {len(targets)}')"
      ]
    },
    {
      "cell_type": "code",
      "execution_count": null,
      "metadata": {
        "id": "jc5EMqP2uEMV"
      },
      "outputs": [],
      "source": [
        "# df.info()"
      ]
    },
    {
      "cell_type": "code",
      "execution_count": 15,
      "metadata": {
        "id": "e8mdXA_0K7IK"
      },
      "outputs": [],
      "source": [
        "# Заменим тип данных object на category в категориальных признаках\n",
        "\n",
        "for col in cat_features:\n",
        "    df[col] = df[col].astype(\"category\")\n",
        "\n",
        "for col in cat_features:\n",
        "    df[col] = df[col].astype(\"category\")"
      ]
    },
    {
      "cell_type": "code",
      "execution_count": 16,
      "metadata": {
        "id": "3su37xCtLMvW"
      },
      "outputs": [],
      "source": [
        "# получаем разбиение на фичи и целевую переменную\n",
        "X = df[filtered_features].drop(targets, axis=1, errors=\"ignore\")\n",
        "y = df[\"topic\"]\n",
        "\n",
        "# разбиение на обучающую и тестовые выборки\n",
        "X_train, X_test, y_train, y_test = train_test_split(X,\n",
        "                                                    y,\n",
        "                                                    test_size=0.25,\n",
        "                                                    random_state=RND_STATE,\n",
        "                                                    shuffle=True)"
      ]
    },
    {
      "cell_type": "code",
      "source": [
        "# кодируем целевую переменную\n",
        "le = LabelEncoder()\n",
        "y_train_num = le.fit_transform(y_train)\n",
        "y_test_num = le.transform(y_test)"
      ],
      "metadata": {
        "id": "YzuA7f4zL9hx"
      },
      "execution_count": 18,
      "outputs": []
    },
    {
      "cell_type": "code",
      "execution_count": 19,
      "metadata": {
        "id": "LjXBCrrkPesW"
      },
      "outputs": [],
      "source": [
        "selected_columns_1 = ['comments_amount',\n",
        "                      'year',\n",
        "                      'month',\n",
        "                      'weekday',\n",
        "                      'hour',\n",
        "                      'log_views',\n",
        "                      'len_title',\n",
        "                      'len_content',\n",
        "                      'log_views_by_minutes',\n",
        "                      # 'title_clean',\n",
        "                      'content_clean']"
      ]
    },
    {
      "cell_type": "markdown",
      "source": [
        "# Модели"
      ],
      "metadata": {
        "id": "Iu8R_UwjxBxa"
      }
    },
    {
      "cell_type": "code",
      "source": [
        "# model = Word2Vec(sentences=X_train['content_clean'].str.split(),\n",
        "#                  vector_size=300,\n",
        "#                  min_count=10,\n",
        "#                  window=5000,\n",
        "#                  seed=RND_STATE)"
      ],
      "metadata": {
        "id": "fMzo6MkJRs5H"
      },
      "execution_count": 15,
      "outputs": []
    },
    {
      "cell_type": "markdown",
      "source": [
        "Загрузим модель, которую уже обучали в Pymagic_baseline"
      ],
      "metadata": {
        "id": "PSYGfxLE-4QI"
      }
    },
    {
      "cell_type": "code",
      "source": [
        "url = 'https://github.com/nedokormysh/NLP_Fontanka/raw/main/Models/Base/model.pkl'\n",
        "response = requests.get(url)\n",
        "\n",
        "with open('model.pkl', 'wb') as f:\n",
        "    f.write(response.content)"
      ],
      "metadata": {
        "id": "Lb7VsEtvsXde"
      },
      "execution_count": 21,
      "outputs": []
    },
    {
      "cell_type": "code",
      "source": [
        "with open('model.pkl', 'rb') as f:\n",
        "    model = pickle.load(f)"
      ],
      "metadata": {
        "id": "DKT7LKhaRF43"
      },
      "execution_count": 22,
      "outputs": []
    },
    {
      "cell_type": "markdown",
      "source": [
        "Рассмотрим разные модели в качестве базовых алгоритмов."
      ],
      "metadata": {
        "id": "xsEEhvBgzkmJ"
      }
    },
    {
      "cell_type": "code",
      "source": [
        "parameters_grid = [{\n",
        "    'clf__C':  np.logspace(-3, 3, num=5),\n",
        "    'clf__kernel': ['linear', 'poly',\n",
        "                          'rbf',\n",
        "                          'sigmoid'\n",
        "                          ],\n",
        "    'clf__degree': [2, 3, 4],\n",
        "    'clf__decision_function_shape': ['ovo', 'ovr'],\n",
        "    'clf__max_iter': [100, 1000, 10000],\n",
        "    'clf__class_weight': ['balanced'],\n",
        "    'clf__random_state': [RND_STATE]\n",
        "}]\n",
        "\n",
        "pipe_svc = Pipeline([('selector', CustomSelectColumns(selected_columns_1)),\n",
        "                 ('preprocessor', CustomTransformer(True, txt_feats='content_clean', split=True)),\n",
        "                 ('tfidf', TfidfEmbeddingVectorizer(model, column='content_clean')),\n",
        "                 ('clf', SVC(random_state=RND_STATE))])\n",
        "\n",
        "# cv = StratifiedKFold(n_splits=3, shuffle=True, random_state=RND_STATE)\n",
        "\n",
        "# # scoring - метрика, по которой выбираете лучшее решение\n",
        "rand_cv = RandomizedSearchCV(pipe_svc,\n",
        "                       parameters_grid,\n",
        "                       scoring='f1_weighted',\n",
        "                      #  cv=cv,\n",
        "                       verbose=2,\n",
        "                       n_jobs=-1)"
      ],
      "metadata": {
        "id": "D2bczgiqM-Fx"
      },
      "execution_count": 110,
      "outputs": []
    },
    {
      "cell_type": "code",
      "source": [
        "%time\n",
        "# производим обучение по сетке\n",
        "rand_cv.fit(X_train, y_train_num)\n",
        "y_pred_num = rand_cv.predict(X_test)"
      ],
      "metadata": {
        "colab": {
          "base_uri": "https://localhost:8080/"
        },
        "id": "JNOuW-YWQUQ6",
        "outputId": "a51bb6c2-7798-4add-f258-a78281850e2c"
      },
      "execution_count": 111,
      "outputs": [
        {
          "output_type": "stream",
          "name": "stdout",
          "text": [
            "CPU times: user 8 µs, sys: 0 ns, total: 8 µs\n",
            "Wall time: 11.7 µs\n",
            "Fitting 5 folds for each of 10 candidates, totalling 50 fits\n"
          ]
        },
        {
          "output_type": "stream",
          "name": "stderr",
          "text": [
            "/usr/local/lib/python3.10/dist-packages/sklearn/svm/_base.py:299: ConvergenceWarning: Solver terminated early (max_iter=1000).  Consider pre-processing your data with StandardScaler or MinMaxScaler.\n",
            "  warnings.warn(\n"
          ]
        }
      ]
    },
    {
      "cell_type": "code",
      "source": [
        "print('Лучшие значения параметров:', rand_cv.best_params_)\n",
        "print('Best score:', rand_cv.best_score_)"
      ],
      "metadata": {
        "id": "wHRwyXmMhDom",
        "colab": {
          "base_uri": "https://localhost:8080/"
        },
        "outputId": "f7f0a414-0482-4009-dae0-9dc1ff5c6fee"
      },
      "execution_count": 112,
      "outputs": [
        {
          "output_type": "stream",
          "name": "stdout",
          "text": [
            "Лучшие значения параметров: {'clf__random_state': 7575, 'clf__max_iter': 1000, 'clf__kernel': 'rbf', 'clf__degree': 3, 'clf__decision_function_shape': 'ovr', 'clf__class_weight': 'balanced', 'clf__C': 31.622776601683793}\n",
            "Best score: 0.6427131001953372\n"
          ]
        }
      ]
    },
    {
      "cell_type": "code",
      "source": [
        "print(classification_report(y_test_num, y_pred_num, target_names=le.classes_))"
      ],
      "metadata": {
        "id": "uMoO7eVOUbC3",
        "colab": {
          "base_uri": "https://localhost:8080/"
        },
        "outputId": "4544a8a8-7383-4b98-cbee-60140d82ef7b"
      },
      "execution_count": 101,
      "outputs": [
        {
          "output_type": "stream",
          "name": "stdout",
          "text": [
            "               precision    recall  f1-score   support\n",
            "\n",
            "         авто       0.01      0.25      0.02         4\n",
            "       бизнес       0.28      0.50      0.36        52\n",
            "       власть       0.26      0.07      0.11       100\n",
            "        город       0.62      0.50      0.55       238\n",
            "     общество       0.66      0.16      0.26       370\n",
            "     политика       0.15      0.97      0.25        31\n",
            " происшествия       0.76      0.72      0.74       322\n",
            "        спорт       0.83      0.93      0.88        61\n",
            "строительство       0.07      0.50      0.12         6\n",
            "      финансы       0.19      0.75      0.30        24\n",
            "\n",
            "     accuracy                           0.46      1208\n",
            "    macro avg       0.38      0.54      0.36      1208\n",
            " weighted avg       0.61      0.46      0.47      1208\n",
            "\n"
          ]
        }
      ]
    },
    {
      "cell_type": "code",
      "source": [
        "np.unique(y_pred_num)"
      ],
      "metadata": {
        "colab": {
          "base_uri": "https://localhost:8080/"
        },
        "id": "woouFRDTF46B",
        "outputId": "eec61cbb-4404-4119-8cde-73404d5f7a3a"
      },
      "execution_count": 85,
      "outputs": [
        {
          "output_type": "execute_result",
          "data": {
            "text/plain": [
              "array([0, 1, 2, 3, 4, 5, 6, 7, 8, 9])"
            ]
          },
          "metadata": {},
          "execution_count": 85
        }
      ]
    },
    {
      "cell_type": "code",
      "source": [
        "np.arange(0, 10)"
      ],
      "metadata": {
        "colab": {
          "base_uri": "https://localhost:8080/"
        },
        "id": "SrOOwcpMLZ2H",
        "outputId": "6e72c9d0-b022-41c9-b3a1-4990048dd345"
      },
      "execution_count": 113,
      "outputs": [
        {
          "output_type": "execute_result",
          "data": {
            "text/plain": [
              "array([0, 1, 2, 3, 4, 5, 6, 7, 8, 9])"
            ]
          },
          "metadata": {},
          "execution_count": 113
        }
      ]
    },
    {
      "cell_type": "code",
      "source": [
        "# # сохраняем модель в файл\n",
        "# with open('pipe_svc.pkl', 'wb') as file:\n",
        "#     pickle.dump(pipe_lr_base, file)"
      ],
      "metadata": {
        "id": "2JG3oQL2vwOa"
      },
      "execution_count": null,
      "outputs": []
    },
    {
      "cell_type": "code",
      "source": [
        "n_classes = len(set(y))\n",
        "y_test_bin = label_binarize(y_test_num, classes=np.arange(0, 10))"
      ],
      "metadata": {
        "id": "H_c2l4QYhio_"
      },
      "execution_count": 86,
      "outputs": []
    },
    {
      "cell_type": "code",
      "source": [
        "y_score = rand_cv.decision_function(X_test)\n",
        "\n",
        "metrics = get_metrics_multiclass(y_test_bin=y_test_bin,\n",
        "                       y_test=y_test_num,\n",
        "                       y_pred=y_pred_num,\n",
        "                       y_prob=y_score,\n",
        "                       name='SVC_RandomizedSearch',\n",
        "                       type_multi='ovr'\n",
        ")\n",
        "metrics"
      ],
      "metadata": {
        "colab": {
          "base_uri": "https://localhost:8080/",
          "height": 81
        },
        "id": "dQ49WPFchlTg",
        "outputId": "fb2f6100-c88c-4996-c70b-2a5ba84cea1b"
      },
      "execution_count": 102,
      "outputs": [
        {
          "output_type": "execute_result",
          "data": {
            "text/plain": [
              "                  model   ROC_AUC  Precision_micro  Precision_macro  \\\n",
              "0  SVC_RandomizedSearch  0.890465         0.458609         0.381526   \n",
              "\n",
              "   Recall_micro  Recall_macro  F1_micro  F1_macro  F1_weighted   Logloss  \n",
              "0      0.458609      0.535793  0.458609   0.36001     0.467947  2.200638  "
            ],
            "text/html": [
              "\n",
              "  <div id=\"df-02eee2b2-f60c-4773-8aef-40dd3f3434c5\" class=\"colab-df-container\">\n",
              "    <div>\n",
              "<style scoped>\n",
              "    .dataframe tbody tr th:only-of-type {\n",
              "        vertical-align: middle;\n",
              "    }\n",
              "\n",
              "    .dataframe tbody tr th {\n",
              "        vertical-align: top;\n",
              "    }\n",
              "\n",
              "    .dataframe thead th {\n",
              "        text-align: right;\n",
              "    }\n",
              "</style>\n",
              "<table border=\"1\" class=\"dataframe\">\n",
              "  <thead>\n",
              "    <tr style=\"text-align: right;\">\n",
              "      <th></th>\n",
              "      <th>model</th>\n",
              "      <th>ROC_AUC</th>\n",
              "      <th>Precision_micro</th>\n",
              "      <th>Precision_macro</th>\n",
              "      <th>Recall_micro</th>\n",
              "      <th>Recall_macro</th>\n",
              "      <th>F1_micro</th>\n",
              "      <th>F1_macro</th>\n",
              "      <th>F1_weighted</th>\n",
              "      <th>Logloss</th>\n",
              "    </tr>\n",
              "  </thead>\n",
              "  <tbody>\n",
              "    <tr>\n",
              "      <th>0</th>\n",
              "      <td>SVC_RandomizedSearch</td>\n",
              "      <td>0.890465</td>\n",
              "      <td>0.458609</td>\n",
              "      <td>0.381526</td>\n",
              "      <td>0.458609</td>\n",
              "      <td>0.535793</td>\n",
              "      <td>0.458609</td>\n",
              "      <td>0.36001</td>\n",
              "      <td>0.467947</td>\n",
              "      <td>2.200638</td>\n",
              "    </tr>\n",
              "  </tbody>\n",
              "</table>\n",
              "</div>\n",
              "    <div class=\"colab-df-buttons\">\n",
              "\n",
              "  <div class=\"colab-df-container\">\n",
              "    <button class=\"colab-df-convert\" onclick=\"convertToInteractive('df-02eee2b2-f60c-4773-8aef-40dd3f3434c5')\"\n",
              "            title=\"Convert this dataframe to an interactive table.\"\n",
              "            style=\"display:none;\">\n",
              "\n",
              "  <svg xmlns=\"http://www.w3.org/2000/svg\" height=\"24px\" viewBox=\"0 -960 960 960\">\n",
              "    <path d=\"M120-120v-720h720v720H120Zm60-500h600v-160H180v160Zm220 220h160v-160H400v160Zm0 220h160v-160H400v160ZM180-400h160v-160H180v160Zm440 0h160v-160H620v160ZM180-180h160v-160H180v160Zm440 0h160v-160H620v160Z\"/>\n",
              "  </svg>\n",
              "    </button>\n",
              "\n",
              "  <style>\n",
              "    .colab-df-container {\n",
              "      display:flex;\n",
              "      gap: 12px;\n",
              "    }\n",
              "\n",
              "    .colab-df-convert {\n",
              "      background-color: #E8F0FE;\n",
              "      border: none;\n",
              "      border-radius: 50%;\n",
              "      cursor: pointer;\n",
              "      display: none;\n",
              "      fill: #1967D2;\n",
              "      height: 32px;\n",
              "      padding: 0 0 0 0;\n",
              "      width: 32px;\n",
              "    }\n",
              "\n",
              "    .colab-df-convert:hover {\n",
              "      background-color: #E2EBFA;\n",
              "      box-shadow: 0px 1px 2px rgba(60, 64, 67, 0.3), 0px 1px 3px 1px rgba(60, 64, 67, 0.15);\n",
              "      fill: #174EA6;\n",
              "    }\n",
              "\n",
              "    .colab-df-buttons div {\n",
              "      margin-bottom: 4px;\n",
              "    }\n",
              "\n",
              "    [theme=dark] .colab-df-convert {\n",
              "      background-color: #3B4455;\n",
              "      fill: #D2E3FC;\n",
              "    }\n",
              "\n",
              "    [theme=dark] .colab-df-convert:hover {\n",
              "      background-color: #434B5C;\n",
              "      box-shadow: 0px 1px 3px 1px rgba(0, 0, 0, 0.15);\n",
              "      filter: drop-shadow(0px 1px 2px rgba(0, 0, 0, 0.3));\n",
              "      fill: #FFFFFF;\n",
              "    }\n",
              "  </style>\n",
              "\n",
              "    <script>\n",
              "      const buttonEl =\n",
              "        document.querySelector('#df-02eee2b2-f60c-4773-8aef-40dd3f3434c5 button.colab-df-convert');\n",
              "      buttonEl.style.display =\n",
              "        google.colab.kernel.accessAllowed ? 'block' : 'none';\n",
              "\n",
              "      async function convertToInteractive(key) {\n",
              "        const element = document.querySelector('#df-02eee2b2-f60c-4773-8aef-40dd3f3434c5');\n",
              "        const dataTable =\n",
              "          await google.colab.kernel.invokeFunction('convertToInteractive',\n",
              "                                                    [key], {});\n",
              "        if (!dataTable) return;\n",
              "\n",
              "        const docLinkHtml = 'Like what you see? Visit the ' +\n",
              "          '<a target=\"_blank\" href=https://colab.research.google.com/notebooks/data_table.ipynb>data table notebook</a>'\n",
              "          + ' to learn more about interactive tables.';\n",
              "        element.innerHTML = '';\n",
              "        dataTable['output_type'] = 'display_data';\n",
              "        await google.colab.output.renderOutput(dataTable, element);\n",
              "        const docLink = document.createElement('div');\n",
              "        docLink.innerHTML = docLinkHtml;\n",
              "        element.appendChild(docLink);\n",
              "      }\n",
              "    </script>\n",
              "  </div>\n",
              "\n",
              "    </div>\n",
              "  </div>\n"
            ],
            "application/vnd.google.colaboratory.intrinsic+json": {
              "type": "dataframe",
              "variable_name": "metrics",
              "summary": "{\n  \"name\": \"metrics\",\n  \"rows\": 1,\n  \"fields\": [\n    {\n      \"column\": \"model\",\n      \"properties\": {\n        \"dtype\": \"string\",\n        \"num_unique_values\": 1,\n        \"samples\": [\n          \"SVC_RandomizedSearch\"\n        ],\n        \"semantic_type\": \"\",\n        \"description\": \"\"\n      }\n    },\n    {\n      \"column\": \"ROC_AUC\",\n      \"properties\": {\n        \"dtype\": \"number\",\n        \"std\": null,\n        \"min\": 0.8904653449473774,\n        \"max\": 0.8904653449473774,\n        \"num_unique_values\": 1,\n        \"samples\": [\n          0.8904653449473774\n        ],\n        \"semantic_type\": \"\",\n        \"description\": \"\"\n      }\n    },\n    {\n      \"column\": \"Precision_micro\",\n      \"properties\": {\n        \"dtype\": \"number\",\n        \"std\": null,\n        \"min\": 0.4586092715231788,\n        \"max\": 0.4586092715231788,\n        \"num_unique_values\": 1,\n        \"samples\": [\n          0.4586092715231788\n        ],\n        \"semantic_type\": \"\",\n        \"description\": \"\"\n      }\n    },\n    {\n      \"column\": \"Precision_macro\",\n      \"properties\": {\n        \"dtype\": \"number\",\n        \"std\": null,\n        \"min\": 0.381525867091149,\n        \"max\": 0.381525867091149,\n        \"num_unique_values\": 1,\n        \"samples\": [\n          0.381525867091149\n        ],\n        \"semantic_type\": \"\",\n        \"description\": \"\"\n      }\n    },\n    {\n      \"column\": \"Recall_micro\",\n      \"properties\": {\n        \"dtype\": \"number\",\n        \"std\": null,\n        \"min\": 0.4586092715231788,\n        \"max\": 0.4586092715231788,\n        \"num_unique_values\": 1,\n        \"samples\": [\n          0.4586092715231788\n        ],\n        \"semantic_type\": \"\",\n        \"description\": \"\"\n      }\n    },\n    {\n      \"column\": \"Recall_macro\",\n      \"properties\": {\n        \"dtype\": \"number\",\n        \"std\": null,\n        \"min\": 0.535793281162628,\n        \"max\": 0.535793281162628,\n        \"num_unique_values\": 1,\n        \"samples\": [\n          0.535793281162628\n        ],\n        \"semantic_type\": \"\",\n        \"description\": \"\"\n      }\n    },\n    {\n      \"column\": \"F1_micro\",\n      \"properties\": {\n        \"dtype\": \"number\",\n        \"std\": null,\n        \"min\": 0.4586092715231788,\n        \"max\": 0.4586092715231788,\n        \"num_unique_values\": 1,\n        \"samples\": [\n          0.4586092715231788\n        ],\n        \"semantic_type\": \"\",\n        \"description\": \"\"\n      }\n    },\n    {\n      \"column\": \"F1_macro\",\n      \"properties\": {\n        \"dtype\": \"number\",\n        \"std\": null,\n        \"min\": 0.36001028885838904,\n        \"max\": 0.36001028885838904,\n        \"num_unique_values\": 1,\n        \"samples\": [\n          0.36001028885838904\n        ],\n        \"semantic_type\": \"\",\n        \"description\": \"\"\n      }\n    },\n    {\n      \"column\": \"F1_weighted\",\n      \"properties\": {\n        \"dtype\": \"number\",\n        \"std\": null,\n        \"min\": 0.4679465144268069,\n        \"max\": 0.4679465144268069,\n        \"num_unique_values\": 1,\n        \"samples\": [\n          0.4679465144268069\n        ],\n        \"semantic_type\": \"\",\n        \"description\": \"\"\n      }\n    },\n    {\n      \"column\": \"Logloss\",\n      \"properties\": {\n        \"dtype\": \"number\",\n        \"std\": null,\n        \"min\": 2.2006377020195984,\n        \"max\": 2.2006377020195984,\n        \"num_unique_values\": 1,\n        \"samples\": [\n          2.2006377020195984\n        ],\n        \"semantic_type\": \"\",\n        \"description\": \"\"\n      }\n    }\n  ]\n}"
            }
          },
          "metadata": {},
          "execution_count": 102
        }
      ]
    },
    {
      "cell_type": "code",
      "source": [
        "np.shape(y_pred_num)"
      ],
      "metadata": {
        "colab": {
          "base_uri": "https://localhost:8080/"
        },
        "id": "TyjLhfe0K9Rj",
        "outputId": "eb4a3e12-9ab9-4706-ec6d-ceb0715a5b9f"
      },
      "execution_count": 103,
      "outputs": [
        {
          "output_type": "execute_result",
          "data": {
            "text/plain": [
              "(1208,)"
            ]
          },
          "metadata": {},
          "execution_count": 103
        }
      ]
    },
    {
      "cell_type": "code",
      "source": [
        "np.shape(y_score)"
      ],
      "metadata": {
        "colab": {
          "base_uri": "https://localhost:8080/"
        },
        "id": "8RCtMyb5K4y0",
        "outputId": "38d5ade4-32e2-4a71-e107-2df0157a8ba3"
      },
      "execution_count": 104,
      "outputs": [
        {
          "output_type": "execute_result",
          "data": {
            "text/plain": [
              "(1208, 10)"
            ]
          },
          "metadata": {},
          "execution_count": 104
        }
      ]
    },
    {
      "cell_type": "code",
      "source": [
        "np.shape(y_test_bin)"
      ],
      "metadata": {
        "colab": {
          "base_uri": "https://localhost:8080/"
        },
        "id": "xsGKhninLQoy",
        "outputId": "d6df28b7-7f25-4d82-b70b-49e26ebc637a"
      },
      "execution_count": 105,
      "outputs": [
        {
          "output_type": "execute_result",
          "data": {
            "text/plain": [
              "(1208, 10)"
            ]
          },
          "metadata": {},
          "execution_count": 105
        }
      ]
    },
    {
      "cell_type": "code",
      "source": [
        "f = rand_cv.predict_proba(X_test)"
      ],
      "metadata": {
        "colab": {
          "base_uri": "https://localhost:8080/",
          "height": 287
        },
        "id": "qhssYkYlNMSG",
        "outputId": "ac025ed6-c93b-43b5-9162-b517a078dfd3"
      },
      "execution_count": 93,
      "outputs": [
        {
          "output_type": "error",
          "ename": "AttributeError",
          "evalue": "predict_proba is not available when  probability=False",
          "traceback": [
            "\u001b[0;31m---------------------------------------------------------------------------\u001b[0m",
            "\u001b[0;31mAttributeError\u001b[0m                            Traceback (most recent call last)",
            "\u001b[0;32m<ipython-input-93-ce68e4bb5010>\u001b[0m in \u001b[0;36m<cell line: 1>\u001b[0;34m()\u001b[0m\n\u001b[0;32m----> 1\u001b[0;31m \u001b[0mf\u001b[0m \u001b[0;34m=\u001b[0m \u001b[0mrand_cv\u001b[0m\u001b[0;34m.\u001b[0m\u001b[0mpredict_proba\u001b[0m\u001b[0;34m(\u001b[0m\u001b[0mX_test\u001b[0m\u001b[0;34m,\u001b[0m\u001b[0mprobability\u001b[0m\u001b[0;34m=\u001b[0m\u001b[0;32mTrue\u001b[0m\u001b[0;34m)\u001b[0m\u001b[0;34m\u001b[0m\u001b[0;34m\u001b[0m\u001b[0m\n\u001b[0m",
            "\u001b[0;32m/usr/local/lib/python3.10/dist-packages/sklearn/utils/_available_if.py\u001b[0m in \u001b[0;36m__get__\u001b[0;34m(self, obj, owner)\u001b[0m\n\u001b[1;32m     30\u001b[0m             \u001b[0;31m# delegate only on instances, not the classes.\u001b[0m\u001b[0;34m\u001b[0m\u001b[0;34m\u001b[0m\u001b[0m\n\u001b[1;32m     31\u001b[0m             \u001b[0;31m# this is to allow access to the docstrings.\u001b[0m\u001b[0;34m\u001b[0m\u001b[0;34m\u001b[0m\u001b[0m\n\u001b[0;32m---> 32\u001b[0;31m             \u001b[0;32mif\u001b[0m \u001b[0;32mnot\u001b[0m \u001b[0mself\u001b[0m\u001b[0;34m.\u001b[0m\u001b[0mcheck\u001b[0m\u001b[0;34m(\u001b[0m\u001b[0mobj\u001b[0m\u001b[0;34m)\u001b[0m\u001b[0;34m:\u001b[0m\u001b[0;34m\u001b[0m\u001b[0;34m\u001b[0m\u001b[0m\n\u001b[0m\u001b[1;32m     33\u001b[0m                 \u001b[0;32mraise\u001b[0m \u001b[0mattr_err\u001b[0m\u001b[0;34m\u001b[0m\u001b[0;34m\u001b[0m\u001b[0m\n\u001b[1;32m     34\u001b[0m             \u001b[0mout\u001b[0m \u001b[0;34m=\u001b[0m \u001b[0mMethodType\u001b[0m\u001b[0;34m(\u001b[0m\u001b[0mself\u001b[0m\u001b[0;34m.\u001b[0m\u001b[0mfn\u001b[0m\u001b[0;34m,\u001b[0m \u001b[0mobj\u001b[0m\u001b[0;34m)\u001b[0m\u001b[0;34m\u001b[0m\u001b[0;34m\u001b[0m\u001b[0m\n",
            "\u001b[0;32m/usr/local/lib/python3.10/dist-packages/sklearn/model_selection/_search.py\u001b[0m in \u001b[0;36mcheck\u001b[0;34m(self)\u001b[0m\n\u001b[1;32m    360\u001b[0m         \u001b[0;32mif\u001b[0m \u001b[0mhasattr\u001b[0m\u001b[0;34m(\u001b[0m\u001b[0mself\u001b[0m\u001b[0;34m,\u001b[0m \u001b[0;34m\"best_estimator_\"\u001b[0m\u001b[0;34m)\u001b[0m\u001b[0;34m:\u001b[0m\u001b[0;34m\u001b[0m\u001b[0;34m\u001b[0m\u001b[0m\n\u001b[1;32m    361\u001b[0m             \u001b[0;31m# raise an AttributeError if `attr` does not exist\u001b[0m\u001b[0;34m\u001b[0m\u001b[0;34m\u001b[0m\u001b[0m\n\u001b[0;32m--> 362\u001b[0;31m             \u001b[0mgetattr\u001b[0m\u001b[0;34m(\u001b[0m\u001b[0mself\u001b[0m\u001b[0;34m.\u001b[0m\u001b[0mbest_estimator_\u001b[0m\u001b[0;34m,\u001b[0m \u001b[0mattr\u001b[0m\u001b[0;34m)\u001b[0m\u001b[0;34m\u001b[0m\u001b[0;34m\u001b[0m\u001b[0m\n\u001b[0m\u001b[1;32m    363\u001b[0m             \u001b[0;32mreturn\u001b[0m \u001b[0;32mTrue\u001b[0m\u001b[0;34m\u001b[0m\u001b[0;34m\u001b[0m\u001b[0m\n\u001b[1;32m    364\u001b[0m         \u001b[0;31m# raise an AttributeError if `attr` does not exist\u001b[0m\u001b[0;34m\u001b[0m\u001b[0;34m\u001b[0m\u001b[0m\n",
            "\u001b[0;32m/usr/local/lib/python3.10/dist-packages/sklearn/utils/_available_if.py\u001b[0m in \u001b[0;36m__get__\u001b[0;34m(self, obj, owner)\u001b[0m\n\u001b[1;32m     30\u001b[0m             \u001b[0;31m# delegate only on instances, not the classes.\u001b[0m\u001b[0;34m\u001b[0m\u001b[0;34m\u001b[0m\u001b[0m\n\u001b[1;32m     31\u001b[0m             \u001b[0;31m# this is to allow access to the docstrings.\u001b[0m\u001b[0;34m\u001b[0m\u001b[0;34m\u001b[0m\u001b[0m\n\u001b[0;32m---> 32\u001b[0;31m             \u001b[0;32mif\u001b[0m \u001b[0;32mnot\u001b[0m \u001b[0mself\u001b[0m\u001b[0;34m.\u001b[0m\u001b[0mcheck\u001b[0m\u001b[0;34m(\u001b[0m\u001b[0mobj\u001b[0m\u001b[0;34m)\u001b[0m\u001b[0;34m:\u001b[0m\u001b[0;34m\u001b[0m\u001b[0;34m\u001b[0m\u001b[0m\n\u001b[0m\u001b[1;32m     33\u001b[0m                 \u001b[0;32mraise\u001b[0m \u001b[0mattr_err\u001b[0m\u001b[0;34m\u001b[0m\u001b[0;34m\u001b[0m\u001b[0m\n\u001b[1;32m     34\u001b[0m             \u001b[0mout\u001b[0m \u001b[0;34m=\u001b[0m \u001b[0mMethodType\u001b[0m\u001b[0;34m(\u001b[0m\u001b[0mself\u001b[0m\u001b[0;34m.\u001b[0m\u001b[0mfn\u001b[0m\u001b[0;34m,\u001b[0m \u001b[0mobj\u001b[0m\u001b[0;34m)\u001b[0m\u001b[0;34m\u001b[0m\u001b[0;34m\u001b[0m\u001b[0m\n",
            "\u001b[0;32m/usr/local/lib/python3.10/dist-packages/sklearn/pipeline.py\u001b[0m in \u001b[0;36mcheck\u001b[0;34m(self)\u001b[0m\n\u001b[1;32m     44\u001b[0m     \u001b[0;32mdef\u001b[0m \u001b[0mcheck\u001b[0m\u001b[0;34m(\u001b[0m\u001b[0mself\u001b[0m\u001b[0;34m)\u001b[0m\u001b[0;34m:\u001b[0m\u001b[0;34m\u001b[0m\u001b[0;34m\u001b[0m\u001b[0m\n\u001b[1;32m     45\u001b[0m         \u001b[0;31m# raise original `AttributeError` if `attr` does not exist\u001b[0m\u001b[0;34m\u001b[0m\u001b[0;34m\u001b[0m\u001b[0m\n\u001b[0;32m---> 46\u001b[0;31m         \u001b[0mgetattr\u001b[0m\u001b[0;34m(\u001b[0m\u001b[0mself\u001b[0m\u001b[0;34m.\u001b[0m\u001b[0m_final_estimator\u001b[0m\u001b[0;34m,\u001b[0m \u001b[0mattr\u001b[0m\u001b[0;34m)\u001b[0m\u001b[0;34m\u001b[0m\u001b[0;34m\u001b[0m\u001b[0m\n\u001b[0m\u001b[1;32m     47\u001b[0m         \u001b[0;32mreturn\u001b[0m \u001b[0;32mTrue\u001b[0m\u001b[0;34m\u001b[0m\u001b[0;34m\u001b[0m\u001b[0m\n\u001b[1;32m     48\u001b[0m \u001b[0;34m\u001b[0m\u001b[0m\n",
            "\u001b[0;32m/usr/local/lib/python3.10/dist-packages/sklearn/utils/_available_if.py\u001b[0m in \u001b[0;36m__get__\u001b[0;34m(self, obj, owner)\u001b[0m\n\u001b[1;32m     30\u001b[0m             \u001b[0;31m# delegate only on instances, not the classes.\u001b[0m\u001b[0;34m\u001b[0m\u001b[0;34m\u001b[0m\u001b[0m\n\u001b[1;32m     31\u001b[0m             \u001b[0;31m# this is to allow access to the docstrings.\u001b[0m\u001b[0;34m\u001b[0m\u001b[0;34m\u001b[0m\u001b[0m\n\u001b[0;32m---> 32\u001b[0;31m             \u001b[0;32mif\u001b[0m \u001b[0;32mnot\u001b[0m \u001b[0mself\u001b[0m\u001b[0;34m.\u001b[0m\u001b[0mcheck\u001b[0m\u001b[0;34m(\u001b[0m\u001b[0mobj\u001b[0m\u001b[0;34m)\u001b[0m\u001b[0;34m:\u001b[0m\u001b[0;34m\u001b[0m\u001b[0;34m\u001b[0m\u001b[0m\n\u001b[0m\u001b[1;32m     33\u001b[0m                 \u001b[0;32mraise\u001b[0m \u001b[0mattr_err\u001b[0m\u001b[0;34m\u001b[0m\u001b[0;34m\u001b[0m\u001b[0m\n\u001b[1;32m     34\u001b[0m             \u001b[0mout\u001b[0m \u001b[0;34m=\u001b[0m \u001b[0mMethodType\u001b[0m\u001b[0;34m(\u001b[0m\u001b[0mself\u001b[0m\u001b[0;34m.\u001b[0m\u001b[0mfn\u001b[0m\u001b[0;34m,\u001b[0m \u001b[0mobj\u001b[0m\u001b[0;34m)\u001b[0m\u001b[0;34m\u001b[0m\u001b[0;34m\u001b[0m\u001b[0m\n",
            "\u001b[0;32m/usr/local/lib/python3.10/dist-packages/sklearn/svm/_base.py\u001b[0m in \u001b[0;36m_check_proba\u001b[0;34m(self)\u001b[0m\n\u001b[1;32m    827\u001b[0m     \u001b[0;32mdef\u001b[0m \u001b[0m_check_proba\u001b[0m\u001b[0;34m(\u001b[0m\u001b[0mself\u001b[0m\u001b[0;34m)\u001b[0m\u001b[0;34m:\u001b[0m\u001b[0;34m\u001b[0m\u001b[0;34m\u001b[0m\u001b[0m\n\u001b[1;32m    828\u001b[0m         \u001b[0;32mif\u001b[0m \u001b[0;32mnot\u001b[0m \u001b[0mself\u001b[0m\u001b[0;34m.\u001b[0m\u001b[0mprobability\u001b[0m\u001b[0;34m:\u001b[0m\u001b[0;34m\u001b[0m\u001b[0;34m\u001b[0m\u001b[0m\n\u001b[0;32m--> 829\u001b[0;31m             raise AttributeError(\n\u001b[0m\u001b[1;32m    830\u001b[0m                 \u001b[0;34m\"predict_proba is not available when  probability=False\"\u001b[0m\u001b[0;34m\u001b[0m\u001b[0;34m\u001b[0m\u001b[0m\n\u001b[1;32m    831\u001b[0m             )\n",
            "\u001b[0;31mAttributeError\u001b[0m: predict_proba is not available when  probability=False"
          ]
        }
      ]
    },
    {
      "cell_type": "code",
      "source": [
        "roc_auc_score(y_test_bin,\n",
        "                                          y_score,\n",
        "                                          multi_class='ovo')\n",
        "\n",
        "# df_metrics['Precision_micro'] = precision_score(y_test,\n",
        "#                                                     y_pred,\n",
        "#                                                     average='micro')\n",
        "# df_metrics['Precision_macro'] = precision_score(y_test,\n",
        "#                                                     y_pred,\n",
        "#                                                     average='macro')\n",
        "\n",
        "#     df_metrics['Recall_micro'] = recall_score(y_test, y_pred, average='micro')\n",
        "#     df_metrics['Recall_macro'] = recall_score(y_test, y_pred, average='macro')\n",
        "\n",
        "#     df_metrics['F1_micro'] = f1_score(y_test, y_pred, average='micro')\n",
        "#     df_metrics['F1_macro'] = f1_score(y_test, y_pred, average='macro')\n",
        "#     df_metrics['F1_weighted'] = f1_score(y_test, y_pred, average='weighted')\n",
        "\n",
        "#     df_metrics['Logloss'] = log_loss(y_test, y_prob)"
      ],
      "metadata": {
        "colab": {
          "base_uri": "https://localhost:8080/",
          "height": 356
        },
        "id": "h7nq4PzpKoku",
        "outputId": "b6782424-a445-4d3b-eb55-b467f941e339"
      },
      "execution_count": 77,
      "outputs": [
        {
          "output_type": "error",
          "ename": "IndexError",
          "evalue": "index 10 is out of bounds for axis 1 with size 10",
          "traceback": [
            "\u001b[0;31m---------------------------------------------------------------------------\u001b[0m",
            "\u001b[0;31mIndexError\u001b[0m                                Traceback (most recent call last)",
            "\u001b[0;32m<ipython-input-77-ad08c75646ac>\u001b[0m in \u001b[0;36m<cell line: 1>\u001b[0;34m()\u001b[0m\n\u001b[0;32m----> 1\u001b[0;31m roc_auc_score(y_test_bin,\n\u001b[0m\u001b[1;32m      2\u001b[0m                                           \u001b[0my_score\u001b[0m\u001b[0;34m,\u001b[0m\u001b[0;34m\u001b[0m\u001b[0;34m\u001b[0m\u001b[0m\n\u001b[1;32m      3\u001b[0m                                           multi_class='ovo')\n\u001b[1;32m      4\u001b[0m \u001b[0;34m\u001b[0m\u001b[0m\n\u001b[1;32m      5\u001b[0m \u001b[0;31m# df_metrics['Precision_micro'] = precision_score(y_test,\u001b[0m\u001b[0;34m\u001b[0m\u001b[0;34m\u001b[0m\u001b[0m\n",
            "\u001b[0;32m/usr/local/lib/python3.10/dist-packages/sklearn/metrics/_ranking.py\u001b[0m in \u001b[0;36mroc_auc_score\u001b[0;34m(y_true, y_score, average, sample_weight, max_fpr, multi_class, labels)\u001b[0m\n\u001b[1;32m    578\u001b[0m         )\n\u001b[1;32m    579\u001b[0m     \u001b[0;32melse\u001b[0m\u001b[0;34m:\u001b[0m  \u001b[0;31m# multilabel-indicator\u001b[0m\u001b[0;34m\u001b[0m\u001b[0;34m\u001b[0m\u001b[0m\n\u001b[0;32m--> 580\u001b[0;31m         return _average_binary_score(\n\u001b[0m\u001b[1;32m    581\u001b[0m             \u001b[0mpartial\u001b[0m\u001b[0;34m(\u001b[0m\u001b[0m_binary_roc_auc_score\u001b[0m\u001b[0;34m,\u001b[0m \u001b[0mmax_fpr\u001b[0m\u001b[0;34m=\u001b[0m\u001b[0mmax_fpr\u001b[0m\u001b[0;34m)\u001b[0m\u001b[0;34m,\u001b[0m\u001b[0;34m\u001b[0m\u001b[0;34m\u001b[0m\u001b[0m\n\u001b[1;32m    582\u001b[0m             \u001b[0my_true\u001b[0m\u001b[0;34m,\u001b[0m\u001b[0;34m\u001b[0m\u001b[0;34m\u001b[0m\u001b[0m\n",
            "\u001b[0;32m/usr/local/lib/python3.10/dist-packages/sklearn/metrics/_base.py\u001b[0m in \u001b[0;36m_average_binary_score\u001b[0;34m(binary_metric, y_true, y_score, average, sample_weight)\u001b[0m\n\u001b[1;32m    114\u001b[0m     \u001b[0mscore\u001b[0m \u001b[0;34m=\u001b[0m \u001b[0mnp\u001b[0m\u001b[0;34m.\u001b[0m\u001b[0mzeros\u001b[0m\u001b[0;34m(\u001b[0m\u001b[0;34m(\u001b[0m\u001b[0mn_classes\u001b[0m\u001b[0;34m,\u001b[0m\u001b[0;34m)\u001b[0m\u001b[0;34m)\u001b[0m\u001b[0;34m\u001b[0m\u001b[0;34m\u001b[0m\u001b[0m\n\u001b[1;32m    115\u001b[0m     \u001b[0;32mfor\u001b[0m \u001b[0mc\u001b[0m \u001b[0;32min\u001b[0m \u001b[0mrange\u001b[0m\u001b[0;34m(\u001b[0m\u001b[0mn_classes\u001b[0m\u001b[0;34m)\u001b[0m\u001b[0;34m:\u001b[0m\u001b[0;34m\u001b[0m\u001b[0;34m\u001b[0m\u001b[0m\n\u001b[0;32m--> 116\u001b[0;31m         \u001b[0my_true_c\u001b[0m \u001b[0;34m=\u001b[0m \u001b[0my_true\u001b[0m\u001b[0;34m.\u001b[0m\u001b[0mtake\u001b[0m\u001b[0;34m(\u001b[0m\u001b[0;34m[\u001b[0m\u001b[0mc\u001b[0m\u001b[0;34m]\u001b[0m\u001b[0;34m,\u001b[0m \u001b[0maxis\u001b[0m\u001b[0;34m=\u001b[0m\u001b[0mnot_average_axis\u001b[0m\u001b[0;34m)\u001b[0m\u001b[0;34m.\u001b[0m\u001b[0mravel\u001b[0m\u001b[0;34m(\u001b[0m\u001b[0;34m)\u001b[0m\u001b[0;34m\u001b[0m\u001b[0;34m\u001b[0m\u001b[0m\n\u001b[0m\u001b[1;32m    117\u001b[0m         \u001b[0my_score_c\u001b[0m \u001b[0;34m=\u001b[0m \u001b[0my_score\u001b[0m\u001b[0;34m.\u001b[0m\u001b[0mtake\u001b[0m\u001b[0;34m(\u001b[0m\u001b[0;34m[\u001b[0m\u001b[0mc\u001b[0m\u001b[0;34m]\u001b[0m\u001b[0;34m,\u001b[0m \u001b[0maxis\u001b[0m\u001b[0;34m=\u001b[0m\u001b[0mnot_average_axis\u001b[0m\u001b[0;34m)\u001b[0m\u001b[0;34m.\u001b[0m\u001b[0mravel\u001b[0m\u001b[0;34m(\u001b[0m\u001b[0;34m)\u001b[0m\u001b[0;34m\u001b[0m\u001b[0;34m\u001b[0m\u001b[0m\n\u001b[1;32m    118\u001b[0m         \u001b[0mscore\u001b[0m\u001b[0;34m[\u001b[0m\u001b[0mc\u001b[0m\u001b[0;34m]\u001b[0m \u001b[0;34m=\u001b[0m \u001b[0mbinary_metric\u001b[0m\u001b[0;34m(\u001b[0m\u001b[0my_true_c\u001b[0m\u001b[0;34m,\u001b[0m \u001b[0my_score_c\u001b[0m\u001b[0;34m,\u001b[0m \u001b[0msample_weight\u001b[0m\u001b[0;34m=\u001b[0m\u001b[0mscore_weight\u001b[0m\u001b[0;34m)\u001b[0m\u001b[0;34m\u001b[0m\u001b[0;34m\u001b[0m\u001b[0m\n",
            "\u001b[0;31mIndexError\u001b[0m: index 10 is out of bounds for axis 1 with size 10"
          ]
        }
      ]
    },
    {
      "cell_type": "markdown",
      "source": [
        "## CatBoost"
      ],
      "metadata": {
        "id": "83vNqLqgrkTj"
      }
    },
    {
      "cell_type": "code",
      "source": [
        "%time\n",
        "pipe_catboost = Pipeline([('selector', CustomSelectColumns(selected_columns_1)),\n",
        "                 ('preprocessor', CustomTransformer(True, txt_feats='content_clean', split=True)),\n",
        "                 ('tfidf', TfidfEmbeddingVectorizer(model_fast, column='content_clean')),\n",
        "                 ('clf', CatBoostClassifier(random_state=RND_STATE,\n",
        "                                            auto_class_weights='Balanced',\n",
        "                                            loss_function='MultiClass',\n",
        "                                            verbose=False))])\n",
        "\n",
        "pipe_catboost.fit(X_train, y_train_num)\n",
        "\n",
        "y_pred_num = pipe_catboost.predict(X_test)\n",
        "print(classification_report(y_test_num, y_pred_num, target_names=le.classes_))"
      ],
      "metadata": {
        "colab": {
          "base_uri": "https://localhost:8080/"
        },
        "id": "i0z5kc1efdo4",
        "outputId": "660983a8-cf9f-4acf-fa8f-7cc60ec8eace"
      },
      "execution_count": null,
      "outputs": [
        {
          "output_type": "stream",
          "name": "stdout",
          "text": [
            "CPU times: user 4 µs, sys: 1e+03 ns, total: 5 µs\n",
            "Wall time: 8.58 µs\n",
            "               precision    recall  f1-score   support\n",
            "\n",
            "         авто       0.48      0.74      0.58       150\n",
            "       бизнес       0.47      0.72      0.57       401\n",
            "       власть       0.47      0.60      0.52       910\n",
            "        город       0.73      0.75      0.74      1949\n",
            "     общество       0.69      0.51      0.59      3315\n",
            "     политика       0.30      0.41      0.35       235\n",
            " происшествия       0.84      0.86      0.85      3769\n",
            "        спорт       0.85      0.93      0.89       393\n",
            "строительство       0.90      0.90      0.90       114\n",
            "      финансы       0.40      0.68      0.50       132\n",
            "\n",
            "     accuracy                           0.70     11368\n",
            "    macro avg       0.61      0.71      0.65     11368\n",
            " weighted avg       0.72      0.70      0.70     11368\n",
            "\n"
          ]
        }
      ]
    },
    {
      "cell_type": "code",
      "source": [
        "# сохраняем модель в файл\n",
        "with open('pipe_catboost.pkl', 'wb') as file:\n",
        "    pickle.dump(pipe_lr_base, file)"
      ],
      "metadata": {
        "id": "QZ-_CVQmv1_Y"
      },
      "execution_count": null,
      "outputs": []
    },
    {
      "cell_type": "code",
      "source": [
        "fig, ax = plt.subplots(nrows=1, ncols=2, figsize=(20, 8))\n",
        "\n",
        "plot_confusion_matrix(model=pipe_catboost,\n",
        "                      y_true=y_train_num,\n",
        "                      X=X_train,\n",
        "                      ax=ax[0],\n",
        "                      cmap='YlGnBu')\n",
        "plot_confusion_matrix(model=pipe_catboost,\n",
        "                      y_true=y_test_num,\n",
        "                      X=X_test,\n",
        "                      ax=ax[1],\n",
        "                      cmap='YlGnBu')\n",
        "\n",
        "ax[0].title.set_text(type(pipe_catboost).__name__ + ' Catboost_base' + ' Train')\n",
        "ax[1].title.set_text(type(pipe_catboost).__name__ + ' Catboost_base' + ' Test')\n",
        "\n",
        "for a in ax:\n",
        "    plt.sca(a)\n",
        "    plt.xticks(rotation=45)\n",
        "\n",
        "plt.tight_layout()\n",
        "plt.show()"
      ],
      "metadata": {
        "colab": {
          "base_uri": "https://localhost:8080/",
          "height": 449
        },
        "id": "tp-NEgJvZ4N2",
        "outputId": "aceb5a90-b268-41e4-e0e0-25306fd568a1"
      },
      "execution_count": null,
      "outputs": [
        {
          "output_type": "stream",
          "name": "stderr",
          "text": [
            "/usr/local/lib/python3.10/dist-packages/sklearn/preprocessing/_label.py:155: DataConversionWarning: A column-vector y was passed when a 1d array was expected. Please change the shape of y to (n_samples, ), for example using ravel().\n",
            "  y = column_or_1d(y, warn=True)\n",
            "/usr/local/lib/python3.10/dist-packages/sklearn/preprocessing/_label.py:155: DataConversionWarning: A column-vector y was passed when a 1d array was expected. Please change the shape of y to (n_samples, ), for example using ravel().\n",
            "  y = column_or_1d(y, warn=True)\n"
          ]
        },
        {
          "output_type": "display_data",
          "data": {
            "text/plain": [
              "<Figure size 2000x800 with 4 Axes>"
            ],
            "image/png": "[encoded data removed]"
          },
          "metadata": {}
        }
      ]
    },
    {
      "cell_type": "code",
      "source": [
        "y_score = pipe_catboost.predict_proba(X_test)\n",
        "\n",
        "metrics = pd.concat([\n",
        "    metrics,\n",
        "    get_metrics_multiclass(y_test_bin=y_test_bin,\n",
        "                       y_test=y_test_num,\n",
        "                       y_pred=y_pred_num,\n",
        "                       y_prob=y_score,\n",
        "                       name='Catboost_Baseline',\n",
        "                       type_multi='ovr')\n",
        "])\n",
        "\n",
        "metrics"
      ],
      "metadata": {
        "colab": {
          "base_uri": "https://localhost:8080/",
          "height": 163
        },
        "id": "qFUaxdVBaIIw",
        "outputId": "5c016de6-09cd-424d-9b48-513fc31027b2"
      },
      "execution_count": null,
      "outputs": [
        {
          "output_type": "execute_result",
          "data": {
            "text/plain": [
              "                          model   ROC_AUC  Precision_micro  Precision_macro  \\\n",
              "0  LogisticRegresstion_Baseline  0.886100         0.648575         0.552894   \n",
              "0                  SVC_Baseline  0.937901         0.666344         0.567285   \n",
              "0             Catboost_Baseline  0.955769         0.701003         0.612723   \n",
              "\n",
              "   Recall_micro  Recall_macro  F1_micro  F1_macro   Logloss  \n",
              "0      0.648575      0.721752  0.648575  0.594695  1.895231  \n",
              "0      0.666344      0.740458  0.666344  0.611043  2.172513  \n",
              "0      0.701003      0.709690  0.701003  0.648759  0.768714  "
            ],
            "text/html": [
              "\n",
              "  <div id=\"df-dfe433c4-d78a-483e-90b2-2e3a8f6628b0\" class=\"colab-df-container\">\n",
              "    <div>\n",
              "<style scoped>\n",
              "    .dataframe tbody tr th:only-of-type {\n",
              "        vertical-align: middle;\n",
              "    }\n",
              "\n",
              "    .dataframe tbody tr th {\n",
              "        vertical-align: top;\n",
              "    }\n",
              "\n",
              "    .dataframe thead th {\n",
              "        text-align: right;\n",
              "    }\n",
              "</style>\n",
              "<table border=\"1\" class=\"dataframe\">\n",
              "  <thead>\n",
              "    <tr style=\"text-align: right;\">\n",
              "      <th></th>\n",
              "      <th>model</th>\n",
              "      <th>ROC_AUC</th>\n",
              "      <th>Precision_micro</th>\n",
              "      <th>Precision_macro</th>\n",
              "      <th>Recall_micro</th>\n",
              "      <th>Recall_macro</th>\n",
              "      <th>F1_micro</th>\n",
              "      <th>F1_macro</th>\n",
              "      <th>Logloss</th>\n",
              "    </tr>\n",
              "  </thead>\n",
              "  <tbody>\n",
              "    <tr>\n",
              "      <th>0</th>\n",
              "      <td>LogisticRegresstion_Baseline</td>\n",
              "      <td>0.886100</td>\n",
              "      <td>0.648575</td>\n",
              "      <td>0.552894</td>\n",
              "      <td>0.648575</td>\n",
              "      <td>0.721752</td>\n",
              "      <td>0.648575</td>\n",
              "      <td>0.594695</td>\n",
              "      <td>1.895231</td>\n",
              "    </tr>\n",
              "    <tr>\n",
              "      <th>0</th>\n",
              "      <td>SVC_Baseline</td>\n",
              "      <td>0.937901</td>\n",
              "      <td>0.666344</td>\n",
              "      <td>0.567285</td>\n",
              "      <td>0.666344</td>\n",
              "      <td>0.740458</td>\n",
              "      <td>0.666344</td>\n",
              "      <td>0.611043</td>\n",
              "      <td>2.172513</td>\n",
              "    </tr>\n",
              "    <tr>\n",
              "      <th>0</th>\n",
              "      <td>Catboost_Baseline</td>\n",
              "      <td>0.955769</td>\n",
              "      <td>0.701003</td>\n",
              "      <td>0.612723</td>\n",
              "      <td>0.701003</td>\n",
              "      <td>0.709690</td>\n",
              "      <td>0.701003</td>\n",
              "      <td>0.648759</td>\n",
              "      <td>0.768714</td>\n",
              "    </tr>\n",
              "  </tbody>\n",
              "</table>\n",
              "</div>\n",
              "    <div class=\"colab-df-buttons\">\n",
              "\n",
              "  <div class=\"colab-df-container\">\n",
              "    <button class=\"colab-df-convert\" onclick=\"convertToInteractive('df-dfe433c4-d78a-483e-90b2-2e3a8f6628b0')\"\n",
              "            title=\"Convert this dataframe to an interactive table.\"\n",
              "            style=\"display:none;\">\n",
              "\n",
              "  <svg xmlns=\"http://www.w3.org/2000/svg\" height=\"24px\" viewBox=\"0 -960 960 960\">\n",
              "    <path d=\"M120-120v-720h720v720H120Zm60-500h600v-160H180v160Zm220 220h160v-160H400v160Zm0 220h160v-160H400v160ZM180-400h160v-160H180v160Zm440 0h160v-160H620v160ZM180-180h160v-160H180v160Zm440 0h160v-160H620v160Z\"/>\n",
              "  </svg>\n",
              "    </button>\n",
              "\n",
              "  <style>\n",
              "    .colab-df-container {\n",
              "      display:flex;\n",
              "      gap: 12px;\n",
              "    }\n",
              "\n",
              "    .colab-df-convert {\n",
              "      background-color: #E8F0FE;\n",
              "      border: none;\n",
              "      border-radius: 50%;\n",
              "      cursor: pointer;\n",
              "      display: none;\n",
              "      fill: #1967D2;\n",
              "      height: 32px;\n",
              "      padding: 0 0 0 0;\n",
              "      width: 32px;\n",
              "    }\n",
              "\n",
              "    .colab-df-convert:hover {\n",
              "      background-color: #E2EBFA;\n",
              "      box-shadow: 0px 1px 2px rgba(60, 64, 67, 0.3), 0px 1px 3px 1px rgba(60, 64, 67, 0.15);\n",
              "      fill: #174EA6;\n",
              "    }\n",
              "\n",
              "    .colab-df-buttons div {\n",
              "      margin-bottom: 4px;\n",
              "    }\n",
              "\n",
              "    [theme=dark] .colab-df-convert {\n",
              "      background-color: #3B4455;\n",
              "      fill: #D2E3FC;\n",
              "    }\n",
              "\n",
              "    [theme=dark] .colab-df-convert:hover {\n",
              "      background-color: #434B5C;\n",
              "      box-shadow: 0px 1px 3px 1px rgba(0, 0, 0, 0.15);\n",
              "      filter: drop-shadow(0px 1px 2px rgba(0, 0, 0, 0.3));\n",
              "      fill: #FFFFFF;\n",
              "    }\n",
              "  </style>\n",
              "\n",
              "    <script>\n",
              "      const buttonEl =\n",
              "        document.querySelector('#df-dfe433c4-d78a-483e-90b2-2e3a8f6628b0 button.colab-df-convert');\n",
              "      buttonEl.style.display =\n",
              "        google.colab.kernel.accessAllowed ? 'block' : 'none';\n",
              "\n",
              "      async function convertToInteractive(key) {\n",
              "        const element = document.querySelector('#df-dfe433c4-d78a-483e-90b2-2e3a8f6628b0');\n",
              "        const dataTable =\n",
              "          await google.colab.kernel.invokeFunction('convertToInteractive',\n",
              "                                                    [key], {});\n",
              "        if (!dataTable) return;\n",
              "\n",
              "        const docLinkHtml = 'Like what you see? Visit the ' +\n",
              "          '<a target=\"_blank\" href=https://colab.research.google.com/notebooks/data_table.ipynb>data table notebook</a>'\n",
              "          + ' to learn more about interactive tables.';\n",
              "        element.innerHTML = '';\n",
              "        dataTable['output_type'] = 'display_data';\n",
              "        await google.colab.output.renderOutput(dataTable, element);\n",
              "        const docLink = document.createElement('div');\n",
              "        docLink.innerHTML = docLinkHtml;\n",
              "        element.appendChild(docLink);\n",
              "      }\n",
              "    </script>\n",
              "  </div>\n",
              "\n",
              "\n",
              "<div id=\"df-e6fd8238-c43d-4de6-b2b8-3fe7c3e7f590\">\n",
              "  <button class=\"colab-df-quickchart\" onclick=\"quickchart('df-e6fd8238-c43d-4de6-b2b8-3fe7c3e7f590')\"\n",
              "            title=\"Suggest charts\"\n",
              "            style=\"display:none;\">\n",
              "\n",
              "<svg xmlns=\"http://www.w3.org/2000/svg\" height=\"24px\"viewBox=\"0 0 24 24\"\n",
              "     width=\"24px\">\n",
              "    <g>\n",
              "        <path d=\"M19 3H5c-1.1 0-2 .9-2 2v14c0 1.1.9 2 2 2h14c1.1 0 2-.9 2-2V5c0-1.1-.9-2-2-2zM9 17H7v-7h2v7zm4 0h-2V7h2v10zm4 0h-2v-4h2v4z\"/>\n",
              "    </g>\n",
              "</svg>\n",
              "  </button>\n",
              "\n",
              "<style>\n",
              "  .colab-df-quickchart {\n",
              "      --bg-color: #E8F0FE;\n",
              "      --fill-color: #1967D2;\n",
              "      --hover-bg-color: #E2EBFA;\n",
              "      --hover-fill-color: #174EA6;\n",
              "      --disabled-fill-color: #AAA;\n",
              "      --disabled-bg-color: #DDD;\n",
              "  }\n",
              "\n",
              "  [theme=dark] .colab-df-quickchart {\n",
              "      --bg-color: #3B4455;\n",
              "      --fill-color: #D2E3FC;\n",
              "      --hover-bg-color: #434B5C;\n",
              "      --hover-fill-color: #FFFFFF;\n",
              "      --disabled-bg-color: #3B4455;\n",
              "      --disabled-fill-color: #666;\n",
              "  }\n",
              "\n",
              "  .colab-df-quickchart {\n",
              "    background-color: var(--bg-color);\n",
              "    border: none;\n",
              "    border-radius: 50%;\n",
              "    cursor: pointer;\n",
              "    display: none;\n",
              "    fill: var(--fill-color);\n",
              "    height: 32px;\n",
              "    padding: 0;\n",
              "    width: 32px;\n",
              "  }\n",
              "\n",
              "  .colab-df-quickchart:hover {\n",
              "    background-color: var(--hover-bg-color);\n",
              "    box-shadow: 0 1px 2px rgba(60, 64, 67, 0.3), 0 1px 3px 1px rgba(60, 64, 67, 0.15);\n",
              "    fill: var(--button-hover-fill-color);\n",
              "  }\n",
              "\n",
              "  .colab-df-quickchart-complete:disabled,\n",
              "  .colab-df-quickchart-complete:disabled:hover {\n",
              "    background-color: var(--disabled-bg-color);\n",
              "    fill: var(--disabled-fill-color);\n",
              "    box-shadow: none;\n",
              "  }\n",
              "\n",
              "  .colab-df-spinner {\n",
              "    border: 2px solid var(--fill-color);\n",
              "    border-color: transparent;\n",
              "    border-bottom-color: var(--fill-color);\n",
              "    animation:\n",
              "      spin 1s steps(1) infinite;\n",
              "  }\n",
              "\n",
              "  @keyframes spin {\n",
              "    0% {\n",
              "      border-color: transparent;\n",
              "      border-bottom-color: var(--fill-color);\n",
              "      border-left-color: var(--fill-color);\n",
              "    }\n",
              "    20% {\n",
              "      border-color: transparent;\n",
              "      border-left-color: var(--fill-color);\n",
              "      border-top-color: var(--fill-color);\n",
              "    }\n",
              "    30% {\n",
              "      border-color: transparent;\n",
              "      border-left-color: var(--fill-color);\n",
              "      border-top-color: var(--fill-color);\n",
              "      border-right-color: var(--fill-color);\n",
              "    }\n",
              "    40% {\n",
              "      border-color: transparent;\n",
              "      border-right-color: var(--fill-color);\n",
              "      border-top-color: var(--fill-color);\n",
              "    }\n",
              "    60% {\n",
              "      border-color: transparent;\n",
              "      border-right-color: var(--fill-color);\n",
              "    }\n",
              "    80% {\n",
              "      border-color: transparent;\n",
              "      border-right-color: var(--fill-color);\n",
              "      border-bottom-color: var(--fill-color);\n",
              "    }\n",
              "    90% {\n",
              "      border-color: transparent;\n",
              "      border-bottom-color: var(--fill-color);\n",
              "    }\n",
              "  }\n",
              "</style>\n",
              "\n",
              "  <script>\n",
              "    async function quickchart(key) {\n",
              "      const quickchartButtonEl =\n",
              "        document.querySelector('#' + key + ' button');\n",
              "      quickchartButtonEl.disabled = true;  // To prevent multiple clicks.\n",
              "      quickchartButtonEl.classList.add('colab-df-spinner');\n",
              "      try {\n",
              "        const charts = await google.colab.kernel.invokeFunction(\n",
              "            'suggestCharts', [key], {});\n",
              "      } catch (error) {\n",
              "        console.error('Error during call to suggestCharts:', error);\n",
              "      }\n",
              "      quickchartButtonEl.classList.remove('colab-df-spinner');\n",
              "      quickchartButtonEl.classList.add('colab-df-quickchart-complete');\n",
              "    }\n",
              "    (() => {\n",
              "      let quickchartButtonEl =\n",
              "        document.querySelector('#df-e6fd8238-c43d-4de6-b2b8-3fe7c3e7f590 button');\n",
              "      quickchartButtonEl.style.display =\n",
              "        google.colab.kernel.accessAllowed ? 'block' : 'none';\n",
              "    })();\n",
              "  </script>\n",
              "</div>\n",
              "    </div>\n",
              "  </div>\n"
            ],
            "application/vnd.google.colaboratory.intrinsic+json": {
              "type": "dataframe",
              "variable_name": "metrics",
              "summary": "{\n  \"name\": \"metrics\",\n  \"rows\": 3,\n  \"fields\": [\n    {\n      \"column\": \"model\",\n      \"properties\": {\n        \"dtype\": \"string\",\n        \"num_unique_values\": 3,\n        \"samples\": [\n          \"LogisticRegresstion_Baseline\",\n          \"SVC_Baseline\",\n          \"Catboost_Baseline\"\n        ],\n        \"semantic_type\": \"\",\n        \"description\": \"\"\n      }\n    },\n    {\n      \"column\": \"ROC_AUC\",\n      \"properties\": {\n        \"dtype\": \"number\",\n        \"std\": 0.0361857607794587,\n        \"min\": 0.8860996474587516,\n        \"max\": 0.9557690246224226,\n        \"num_unique_values\": 3,\n        \"samples\": [\n          0.8860996474587516,\n          0.9379008107417219,\n          0.9557690246224226\n        ],\n        \"semantic_type\": \"\",\n        \"description\": \"\"\n      }\n    },\n    {\n      \"column\": \"Precision_micro\",\n      \"properties\": {\n        \"dtype\": \"number\",\n        \"std\": 0.026663488818812704,\n        \"min\": 0.6485749472202674,\n        \"max\": 0.7010028149190711,\n        \"num_unique_values\": 3,\n        \"samples\": [\n          0.6485749472202674,\n          0.6663441238564392,\n          0.7010028149190711\n        ],\n        \"semantic_type\": \"\",\n        \"description\": \"\"\n      }\n    },\n    {\n      \"column\": \"Precision_macro\",\n      \"properties\": {\n        \"dtype\": \"number\",\n        \"std\": 0.031227924052767312,\n        \"min\": 0.5528944744994969,\n        \"max\": 0.6127227644293954,\n        \"num_unique_values\": 3,\n        \"samples\": [\n          0.5528944744994969,\n          0.5672850401418733,\n          0.6127227644293954\n        ],\n        \"semantic_type\": \"\",\n        \"description\": \"\"\n      }\n    },\n    {\n      \"column\": \"Recall_micro\",\n      \"properties\": {\n        \"dtype\": \"number\",\n        \"std\": 0.026663488818812704,\n        \"min\": 0.6485749472202674,\n        \"max\": 0.7010028149190711,\n        \"num_unique_values\": 3,\n        \"samples\": [\n          0.6485749472202674,\n          0.6663441238564392,\n          0.7010028149190711\n        ],\n        \"semantic_type\": \"\",\n        \"description\": \"\"\n      }\n    },\n    {\n      \"column\": \"Recall_macro\",\n      \"properties\": {\n        \"dtype\": \"number\",\n        \"std\": 0.015503397623598971,\n        \"min\": 0.7096895113839835,\n        \"max\": 0.740458154501665,\n        \"num_unique_values\": 3,\n        \"samples\": [\n          0.7217520918107058,\n          0.740458154501665,\n          0.7096895113839835\n        ],\n        \"semantic_type\": \"\",\n        \"description\": \"\"\n      }\n    },\n    {\n      \"column\": \"F1_micro\",\n      \"properties\": {\n        \"dtype\": \"number\",\n        \"std\": 0.026663488818812704,\n        \"min\": 0.6485749472202674,\n        \"max\": 0.7010028149190711,\n        \"num_unique_values\": 3,\n        \"samples\": [\n          0.6485749472202674,\n          0.6663441238564392,\n          0.7010028149190711\n        ],\n        \"semantic_type\": \"\",\n        \"description\": \"\"\n      }\n    },\n    {\n      \"column\": \"F1_macro\",\n      \"properties\": {\n        \"dtype\": \"number\",\n        \"std\": 0.027726791389974068,\n        \"min\": 0.5946946400568155,\n        \"max\": 0.648758724543636,\n        \"num_unique_values\": 3,\n        \"samples\": [\n          0.5946946400568155,\n          0.6110434731006983,\n          0.648758724543636\n        ],\n        \"semantic_type\": \"\",\n        \"description\": \"\"\n      }\n    },\n    {\n      \"column\": \"Logloss\",\n      \"properties\": {\n        \"dtype\": \"number\",\n        \"std\": 0.7434805094593595,\n        \"min\": 0.7687138011213283,\n        \"max\": 2.172513420874936,\n        \"num_unique_values\": 3,\n        \"samples\": [\n          1.8952308204027508,\n          2.172513420874936,\n          0.7687138011213283\n        ],\n        \"semantic_type\": \"\",\n        \"description\": \"\"\n      }\n    }\n  ]\n}"
            }
          },
          "metadata": {},
          "execution_count": 30
        }
      ]
    },
    {
      "cell_type": "markdown",
      "source": [
        "# Multilabel"
      ],
      "metadata": {
        "id": "CyOye3WqwSCy"
      }
    },
    {
      "cell_type": "markdown",
      "source": [
        "Предобработаем датасет для уменьшения времени работы."
      ],
      "metadata": {
        "id": "Jndwj5LsJoi5"
      }
    },
    {
      "cell_type": "code",
      "source": [
        "preprocessor = Pipeline([('selector', CustomSelectColumns(selected_columns_1)),\n",
        "                         ('preprocessor', CustomTransformer(True, txt_feats='content_clean', split=True)),\n",
        "                         ('tfidf', TfidfEmbeddingVectorizer(model, column='content_clean'))])\n",
        "\n",
        "X_train_preprocessed = preprocessor.fit_transform(X_train, y_train)\n",
        "X_test_preprocessed = preprocessor.transform(X_test)"
      ],
      "metadata": {
        "id": "tjDSeeY6w11o"
      },
      "execution_count": null,
      "outputs": []
    },
    {
      "cell_type": "markdown",
      "source": [
        "## One vs Rest"
      ],
      "metadata": {
        "id": "eX5R0OcMxqsL"
      }
    },
    {
      "cell_type": "code",
      "source": [
        "# # создаем препроцессор\n",
        "# preprocessor = Pipeline([\n",
        "#     ('selector', CustomSelectColumns(selected_columns_1)),\n",
        "#     ('preprocessor', CustomTransformer(True, txt_feats='content_clean', split=True)),\n",
        "#     ('tfidf', TfidfEmbeddingVectorizer(model, column='content_clean'))\n",
        "# ])\n",
        "\n",
        "# # создаем классификатор\n",
        "# clf = LogisticRegression(random_state=RND_STATE, max_iter=10000)\n",
        "# ovr_clf = OneVsRestClassifier(clf)\n",
        "\n",
        "# # создаем пайплайн\n",
        "# pipeline = make_pipeline(preprocessor, ovr_clf)\n",
        "\n",
        "# # задаем параметры для поиска\n",
        "# param_dist = {\n",
        "#     'onevsrestclassifier__estimator__C': [0.01, 0.1, 1, 10, 100],\n",
        "#     'onevsrestclassifier__estimator__penalty': ['l1', 'l2'],\n",
        "#     'onevsrestclassifier__estimator__solver': ['liblinear', 'saga'],\n",
        "#     'onevsrestclassifier__estimator__class_weight': ['balanced', None]\n",
        "# }\n",
        "\n",
        "# # создаем и запускаем RandomizedSearchCV\n",
        "# n_iter_search = 10\n",
        "# random_search = RandomizedSearchCV(\n",
        "#     pipeline,\n",
        "#     param_distributions=param_dist,\n",
        "#     scoring='f1_weighted',\n",
        "#     n_iter=n_iter_search,\n",
        "#     # cv=3,\n",
        "#     random_state=RND_STATE)\n",
        "# random_search.fit(X_train, y_train_num)\n",
        "\n",
        "# # получаем лучшие гиперпараметры\n",
        "# best_params = random_search.best_params_"
      ],
      "metadata": {
        "colab": {
          "base_uri": "https://localhost:8080/",
          "height": 211
        },
        "id": "IOyAjAVDkjNV",
        "outputId": "a4f79d8d-a32e-4700-9f0b-91c21c99b0ba"
      },
      "execution_count": 1,
      "outputs": [
        {
          "output_type": "error",
          "ename": "NameError",
          "evalue": "name 'Pipeline' is not defined",
          "traceback": [
            "\u001b[0;31m---------------------------------------------------------------------------\u001b[0m",
            "\u001b[0;31mNameError\u001b[0m                                 Traceback (most recent call last)",
            "\u001b[0;32m<ipython-input-1-11a11825992b>\u001b[0m in \u001b[0;36m<cell line: 2>\u001b[0;34m()\u001b[0m\n\u001b[1;32m      1\u001b[0m \u001b[0;31m# создаем препроцессор\u001b[0m\u001b[0;34m\u001b[0m\u001b[0;34m\u001b[0m\u001b[0m\n\u001b[0;32m----> 2\u001b[0;31m preprocessor = Pipeline([\n\u001b[0m\u001b[1;32m      3\u001b[0m     \u001b[0;34m(\u001b[0m\u001b[0;34m'selector'\u001b[0m\u001b[0;34m,\u001b[0m \u001b[0mCustomSelectColumns\u001b[0m\u001b[0;34m(\u001b[0m\u001b[0mselected_columns_1\u001b[0m\u001b[0;34m)\u001b[0m\u001b[0;34m)\u001b[0m\u001b[0;34m,\u001b[0m\u001b[0;34m\u001b[0m\u001b[0;34m\u001b[0m\u001b[0m\n\u001b[1;32m      4\u001b[0m     \u001b[0;34m(\u001b[0m\u001b[0;34m'preprocessor'\u001b[0m\u001b[0;34m,\u001b[0m \u001b[0mCustomTransformer\u001b[0m\u001b[0;34m(\u001b[0m\u001b[0;32mTrue\u001b[0m\u001b[0;34m,\u001b[0m \u001b[0mtxt_feats\u001b[0m\u001b[0;34m=\u001b[0m\u001b[0;34m'content_clean'\u001b[0m\u001b[0;34m,\u001b[0m \u001b[0msplit\u001b[0m\u001b[0;34m=\u001b[0m\u001b[0;32mTrue\u001b[0m\u001b[0;34m)\u001b[0m\u001b[0;34m)\u001b[0m\u001b[0;34m,\u001b[0m\u001b[0;34m\u001b[0m\u001b[0;34m\u001b[0m\u001b[0m\n\u001b[1;32m      5\u001b[0m     \u001b[0;34m(\u001b[0m\u001b[0;34m'tfidf'\u001b[0m\u001b[0;34m,\u001b[0m \u001b[0mTfidfEmbeddingVectorizer\u001b[0m\u001b[0;34m(\u001b[0m\u001b[0mmodel\u001b[0m\u001b[0;34m,\u001b[0m \u001b[0mcolumn\u001b[0m\u001b[0;34m=\u001b[0m\u001b[0;34m'content_clean'\u001b[0m\u001b[0;34m)\u001b[0m\u001b[0;34m)\u001b[0m\u001b[0;34m\u001b[0m\u001b[0;34m\u001b[0m\u001b[0m\n",
            "\u001b[0;31mNameError\u001b[0m: name 'Pipeline' is not defined"
          ]
        }
      ]
    },
    {
      "cell_type": "code",
      "source": [
        "# создаем пайплайн\n",
        "clf = LogisticRegression(random_state=RND_STATE, max_iter=10000)\n",
        "ovr_clf = OneVsRestClassifier(clf)\n",
        "pipeline = make_pipeline(ovr_clf)\n",
        "\n",
        "# задаем параметры для поиска\n",
        "param_dist = {\n",
        "    'onevsrestclassifier__estimator__C': [0.01, 0.1, 1, 10, 100],\n",
        "    'onevsrestclassifier__estimator__penalty': ['l1', 'l2'],\n",
        "    'onevsrestclassifier__estimator__solver': ['liblinear', 'saga'],\n",
        "    'onevsrestclassifier__estimator__class_weight': ['balanced', None]\n",
        "}\n",
        "\n",
        "# создаем и запускаем RandomizedSearchCV\n",
        "n_iter_search = 10\n",
        "random_search = RandomizedSearchCV(\n",
        "    pipeline, param_distributions=param_dist,\n",
        "    n_iter=n_iter_search, cv=3, random_state=RND_STATE)\n",
        "random_search.fit(X_train_preprocessed, y_train_num)\n",
        "\n",
        "# получаем лучшие гиперпараметры\n",
        "best_params = random_search.best_params_"
      ],
      "metadata": {
        "id": "HHS2rIX0f-ex"
      },
      "execution_count": null,
      "outputs": []
    },
    {
      "cell_type": "code",
      "source": [
        "# сохраняем модель в файл\n",
        "with open('ovr_lr.pkl', 'wb') as file:\n",
        "    pickle.dump(ovr, file)"
      ],
      "metadata": {
        "id": "yLMhC4sz56BJ"
      },
      "execution_count": null,
      "outputs": []
    },
    {
      "cell_type": "code",
      "source": [
        "y_pred_num = ovr.predict(X_test_preprocessed)\n",
        "y_score = ovr.decision_function(X_test_preprocessed)\n",
        "\n",
        "metrics = pd.concat([\n",
        "    metrics,\n",
        "    get_metrics_multiclass(y_test_bin=y_test_bin,\n",
        "                       y_test=y_test_num,\n",
        "                       y_pred=y_pred_num,\n",
        "                       y_prob=y_score,\n",
        "                       name='OVR_LogReg_Baseline',\n",
        "                       type_multi='ovr')\n",
        "])\n",
        "\n",
        "# metrics"
      ],
      "metadata": {
        "id": "sIzrjw3nyIjV"
      },
      "execution_count": null,
      "outputs": []
    },
    {
      "cell_type": "code",
      "source": [
        "metrics = metrics.reset_index(drop=True)\n",
        "metrics = metrics.set_index(\"model\")\n",
        "metrics = metrics.sort_values(\"ROC_AUC\", ascending=False)\n",
        "\n",
        "def highlight_max(s):\n",
        "    is_max = s == s.max()\n",
        "    return [\"background-color: yellow\" if v else \"\" for v in is_max]\n",
        "\n",
        "styled_metrics = metrics.style.apply(highlight_max, subset=[\"ROC_AUC\"])\n",
        "\n",
        "styled_metrics"
      ],
      "metadata": {
        "colab": {
          "base_uri": "https://localhost:8080/",
          "height": 289
        },
        "id": "Mb5aXSsDZhBx",
        "outputId": "070e2b09-85f3-43fc-dc1b-1634a3ae1241"
      },
      "execution_count": null,
      "outputs": [
        {
          "output_type": "execute_result",
          "data": {
            "text/plain": [
              "<pandas.io.formats.style.Styler at 0x7c405ad7cc10>"
            ],
            "text/html": [
              "<style type=\"text/css\">\n",
              "#T_d2403_row0_col0 {\n",
              "  background-color: yellow;\n",
              "}\n",
              "</style>\n",
              "<table id=\"T_d2403\" class=\"dataframe\">\n",
              "  <thead>\n",
              "    <tr>\n",
              "      <th class=\"blank level0\" >&nbsp;</th>\n",
              "      <th id=\"T_d2403_level0_col0\" class=\"col_heading level0 col0\" >ROC_AUC</th>\n",
              "      <th id=\"T_d2403_level0_col1\" class=\"col_heading level0 col1\" >Precision_micro</th>\n",
              "      <th id=\"T_d2403_level0_col2\" class=\"col_heading level0 col2\" >Precision_macro</th>\n",
              "      <th id=\"T_d2403_level0_col3\" class=\"col_heading level0 col3\" >Recall_micro</th>\n",
              "      <th id=\"T_d2403_level0_col4\" class=\"col_heading level0 col4\" >Recall_macro</th>\n",
              "      <th id=\"T_d2403_level0_col5\" class=\"col_heading level0 col5\" >F1_micro</th>\n",
              "      <th id=\"T_d2403_level0_col6\" class=\"col_heading level0 col6\" >F1_macro</th>\n",
              "      <th id=\"T_d2403_level0_col7\" class=\"col_heading level0 col7\" >Logloss</th>\n",
              "    </tr>\n",
              "    <tr>\n",
              "      <th class=\"index_name level0\" >model</th>\n",
              "      <th class=\"blank col0\" >&nbsp;</th>\n",
              "      <th class=\"blank col1\" >&nbsp;</th>\n",
              "      <th class=\"blank col2\" >&nbsp;</th>\n",
              "      <th class=\"blank col3\" >&nbsp;</th>\n",
              "      <th class=\"blank col4\" >&nbsp;</th>\n",
              "      <th class=\"blank col5\" >&nbsp;</th>\n",
              "      <th class=\"blank col6\" >&nbsp;</th>\n",
              "      <th class=\"blank col7\" >&nbsp;</th>\n",
              "    </tr>\n",
              "  </thead>\n",
              "  <tbody>\n",
              "    <tr>\n",
              "      <th id=\"T_d2403_level0_row0\" class=\"row_heading level0 row0\" >Catboost_Baseline</th>\n",
              "      <td id=\"T_d2403_row0_col0\" class=\"data row0 col0\" >0.955769</td>\n",
              "      <td id=\"T_d2403_row0_col1\" class=\"data row0 col1\" >0.701003</td>\n",
              "      <td id=\"T_d2403_row0_col2\" class=\"data row0 col2\" >0.612723</td>\n",
              "      <td id=\"T_d2403_row0_col3\" class=\"data row0 col3\" >0.701003</td>\n",
              "      <td id=\"T_d2403_row0_col4\" class=\"data row0 col4\" >0.709690</td>\n",
              "      <td id=\"T_d2403_row0_col5\" class=\"data row0 col5\" >0.701003</td>\n",
              "      <td id=\"T_d2403_row0_col6\" class=\"data row0 col6\" >0.648759</td>\n",
              "      <td id=\"T_d2403_row0_col7\" class=\"data row0 col7\" >0.768714</td>\n",
              "    </tr>\n",
              "    <tr>\n",
              "      <th id=\"T_d2403_level0_row1\" class=\"row_heading level0 row1\" >OVR_LogReg_Baseline</th>\n",
              "      <td id=\"T_d2403_row1_col0\" class=\"data row1 col0\" >0.952617</td>\n",
              "      <td id=\"T_d2403_row1_col1\" class=\"data row1 col1\" >0.675317</td>\n",
              "      <td id=\"T_d2403_row1_col2\" class=\"data row1 col2\" >0.574220</td>\n",
              "      <td id=\"T_d2403_row1_col3\" class=\"data row1 col3\" >0.675317</td>\n",
              "      <td id=\"T_d2403_row1_col4\" class=\"data row1 col4\" >0.707011</td>\n",
              "      <td id=\"T_d2403_row1_col5\" class=\"data row1 col5\" >0.675317</td>\n",
              "      <td id=\"T_d2403_row1_col6\" class=\"data row1 col6\" >0.612117</td>\n",
              "      <td id=\"T_d2403_row1_col7\" class=\"data row1 col7\" >5.126163</td>\n",
              "    </tr>\n",
              "    <tr>\n",
              "      <th id=\"T_d2403_level0_row2\" class=\"row_heading level0 row2\" >Catboost_txt_Baseline</th>\n",
              "      <td id=\"T_d2403_row2_col0\" class=\"data row2 col0\" >0.951006</td>\n",
              "      <td id=\"T_d2403_row2_col1\" class=\"data row2 col1\" >0.680771</td>\n",
              "      <td id=\"T_d2403_row2_col2\" class=\"data row2 col2\" >0.589401</td>\n",
              "      <td id=\"T_d2403_row2_col3\" class=\"data row2 col3\" >0.680771</td>\n",
              "      <td id=\"T_d2403_row2_col4\" class=\"data row2 col4\" >0.746439</td>\n",
              "      <td id=\"T_d2403_row2_col5\" class=\"data row2 col5\" >0.680771</td>\n",
              "      <td id=\"T_d2403_row2_col6\" class=\"data row2 col6\" >0.636589</td>\n",
              "      <td id=\"T_d2403_row2_col7\" class=\"data row2 col7\" >0.854864</td>\n",
              "    </tr>\n",
              "    <tr>\n",
              "      <th id=\"T_d2403_level0_row3\" class=\"row_heading level0 row3\" >SVC_Baseline</th>\n",
              "      <td id=\"T_d2403_row3_col0\" class=\"data row3 col0\" >0.937901</td>\n",
              "      <td id=\"T_d2403_row3_col1\" class=\"data row3 col1\" >0.666344</td>\n",
              "      <td id=\"T_d2403_row3_col2\" class=\"data row3 col2\" >0.567285</td>\n",
              "      <td id=\"T_d2403_row3_col3\" class=\"data row3 col3\" >0.666344</td>\n",
              "      <td id=\"T_d2403_row3_col4\" class=\"data row3 col4\" >0.740458</td>\n",
              "      <td id=\"T_d2403_row3_col5\" class=\"data row3 col5\" >0.666344</td>\n",
              "      <td id=\"T_d2403_row3_col6\" class=\"data row3 col6\" >0.611043</td>\n",
              "      <td id=\"T_d2403_row3_col7\" class=\"data row3 col7\" >2.172513</td>\n",
              "    </tr>\n",
              "    <tr>\n",
              "      <th id=\"T_d2403_level0_row4\" class=\"row_heading level0 row4\" >OVO_LogReg_Baseline</th>\n",
              "      <td id=\"T_d2403_row4_col0\" class=\"data row4 col0\" >0.934605</td>\n",
              "      <td id=\"T_d2403_row4_col1\" class=\"data row4 col1\" >0.663089</td>\n",
              "      <td id=\"T_d2403_row4_col2\" class=\"data row4 col2\" >0.573897</td>\n",
              "      <td id=\"T_d2403_row4_col3\" class=\"data row4 col3\" >0.663089</td>\n",
              "      <td id=\"T_d2403_row4_col4\" class=\"data row4 col4\" >0.717059</td>\n",
              "      <td id=\"T_d2403_row4_col5\" class=\"data row4 col5\" >0.663089</td>\n",
              "      <td id=\"T_d2403_row4_col6\" class=\"data row4 col6\" >0.612543</td>\n",
              "      <td id=\"T_d2403_row4_col7\" class=\"data row4 col7\" >2.191294</td>\n",
              "    </tr>\n",
              "    <tr>\n",
              "      <th id=\"T_d2403_level0_row5\" class=\"row_heading level0 row5\" >LogisticRegresstion_Baseline</th>\n",
              "      <td id=\"T_d2403_row5_col0\" class=\"data row5 col0\" >0.886100</td>\n",
              "      <td id=\"T_d2403_row5_col1\" class=\"data row5 col1\" >0.648575</td>\n",
              "      <td id=\"T_d2403_row5_col2\" class=\"data row5 col2\" >0.552894</td>\n",
              "      <td id=\"T_d2403_row5_col3\" class=\"data row5 col3\" >0.648575</td>\n",
              "      <td id=\"T_d2403_row5_col4\" class=\"data row5 col4\" >0.721752</td>\n",
              "      <td id=\"T_d2403_row5_col5\" class=\"data row5 col5\" >0.648575</td>\n",
              "      <td id=\"T_d2403_row5_col6\" class=\"data row5 col6\" >0.594695</td>\n",
              "      <td id=\"T_d2403_row5_col7\" class=\"data row5 col7\" >1.895231</td>\n",
              "    </tr>\n",
              "  </tbody>\n",
              "</table>\n"
            ]
          },
          "metadata": {},
          "execution_count": 45
        }
      ]
    },
    {
      "cell_type": "markdown",
      "source": [
        "**Выводы:**\n",
        "- Будем смотреть на метрику ROC_AUC. У нас нет предпочтений насчёт точности или полноты классификации статей.\n",
        "- По этой метрике у нас лучше всего отработал вариант базового Catboost. Если подавать тектовые результаты с в Catboost в качестве текстовых признаков, то результаты были хорошими, но скорость значительно ниже, впрочем размер самой сохранённой модели был также ниже. В дальнейшем будем использовать вариант с предобработкой.\n",
        "- Также достаточно неплохо себя проявила логистическая регрессия с использованием метамодели OVR. При этом логистическая регрессия без метамодели показала худший результат для данной задачи. Также следует отметить, что если не балансировать классы, то логистическая регрессия без метамодели по ROC_AUC метрике улучшала результаты до 0.9\n",
        "- Неплохо показала себя модель SVC. Можно взять для стекинга моделей."
      ],
      "metadata": {
        "id": "aw9ee78fF2RZ"
      }
    }
  ],
  "metadata": {
    "colab": {
      "provenance": [],
      "collapsed_sections": [
        "1mKn31sX2dHR",
        "hNuZHcuQmu7o"
      ],
      "toc_visible": true,
      "authorship_tag": "ABX9TyP9vbCStiRMLbhfQ9PfdXLG",
      "include_colab_link": true
    },
    "kernelspec": {
      "display_name": "Python 3",
      "name": "python3"
    },
    "language_info": {
      "name": "python"
    }
  },
  "nbformat": 4,
  "nbformat_minor": 0
}