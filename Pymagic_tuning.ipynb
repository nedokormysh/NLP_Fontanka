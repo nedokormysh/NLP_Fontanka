{
  "cells": [
    {
      "cell_type": "markdown",
      "metadata": {
        "id": "view-in-github",
        "colab_type": "text"
      },
      "source": [
        "<a href=\"https://colab.research.google.com/github/nedokormysh/NLP_Fontanka/blob/main/Pymagic_tuning.ipynb\" target=\"_parent\"><img src=\"https://colab.research.google.com/assets/colab-badge.svg\" alt=\"Open In Colab\"/></a>"
      ]
    },
    {
      "cell_type": "code",
      "execution_count": null,
      "metadata": {
        "colab": {
          "base_uri": "https://localhost:8080/"
        },
        "id": "OCAEY3l0GD6Q",
        "outputId": "69064eb7-030d-4152-cd45-83b8b354b43f"
      },
      "outputs": [
        {
          "name": "stdout",
          "output_type": "stream",
          "text": [
            "\u001b[2K     \u001b[90m━━━━━━━━━━━━━━━━━━━━━━━━━━━━━━━━━━━━━━━━\u001b[0m \u001b[32m34.4/34.4 MB\u001b[0m \u001b[31m33.2 MB/s\u001b[0m eta \u001b[36m0:00:00\u001b[0m\n",
            "\u001b[2K     \u001b[90m━━━━━━━━━━━━━━━━━━━━━━━━━━━━━━━━━━━━━━━━\u001b[0m \u001b[32m55.5/55.5 kB\u001b[0m \u001b[31m6.5 MB/s\u001b[0m eta \u001b[36m0:00:00\u001b[0m\n",
            "\u001b[2K     \u001b[90m━━━━━━━━━━━━━━━━━━━━━━━━━━━━━━━━━━━━━━━━\u001b[0m \u001b[32m46.7/46.7 kB\u001b[0m \u001b[31m5.2 MB/s\u001b[0m eta \u001b[36m0:00:00\u001b[0m\n",
            "\u001b[?25h  Preparing metadata (setup.py) ... \u001b[?25l\u001b[?25hdone\n",
            "\u001b[2K     \u001b[90m━━━━━━━━━━━━━━━━━━━━━━━━━━━━━━━━━━━━━━━━\u001b[0m \u001b[32m8.2/8.2 MB\u001b[0m \u001b[31m74.3 MB/s\u001b[0m eta \u001b[36m0:00:00\u001b[0m\n",
            "\u001b[?25h  Preparing metadata (setup.py) ... \u001b[?25l\u001b[?25hdone\n",
            "  Building wheel for docopt (setup.py) ... \u001b[?25l\u001b[?25hdone\n",
            "  Building wheel for intervaltree (setup.py) ... \u001b[?25l\u001b[?25hdone\n",
            "\u001b[2K     \u001b[90m━━━━━━━━━━━━━━━━━━━━━━━━━━━━━━━━━━━━━━━━\u001b[0m \u001b[32m98.2/98.2 MB\u001b[0m \u001b[31m7.8 MB/s\u001b[0m eta \u001b[36m0:00:00\u001b[0m\n",
            "\u001b[2K     \u001b[90m━━━━━━━━━━━━━━━━━━━━━━━━━━━━━━━━━━━━━━━━\u001b[0m \u001b[32m380.1/380.1 kB\u001b[0m \u001b[31m5.1 MB/s\u001b[0m eta \u001b[36m0:00:00\u001b[0m\n",
            "\u001b[2K     \u001b[90m━━━━━━━━━━━━━━━━━━━━━━━━━━━━━━━━━━━━━━━━\u001b[0m \u001b[32m233.4/233.4 kB\u001b[0m \u001b[31m8.0 MB/s\u001b[0m eta \u001b[36m0:00:00\u001b[0m\n",
            "\u001b[2K     \u001b[90m━━━━━━━━━━━━━━━━━━━━━━━━━━━━━━━━━━━━━━━━\u001b[0m \u001b[32m78.6/78.6 kB\u001b[0m \u001b[31m7.1 MB/s\u001b[0m eta \u001b[36m0:00:00\u001b[0m\n",
            "\u001b[2K     \u001b[90m━━━━━━━━━━━━━━━━━━━━━━━━━━━━━━━━━━━━━━━━\u001b[0m \u001b[32m93.4/93.4 kB\u001b[0m \u001b[31m340.0 kB/s\u001b[0m eta \u001b[36m0:00:00\u001b[0m\n",
            "\u001b[?25h"
          ]
        }
      ],
      "source": [
        "!pip install natasha -q\n",
        "!pip install catboost -q\n",
        "!pip install optuna -q\n",
        "!pip install optuna-integration -q"
      ]
    },
    {
      "cell_type": "code",
      "execution_count": null,
      "metadata": {
        "colab": {
          "base_uri": "https://localhost:8080/"
        },
        "id": "RbWoS0wJFeOn",
        "outputId": "4fce4d89-2427-4dba-c12a-8a7f6477ce24"
      },
      "outputs": [
        {
          "name": "stderr",
          "output_type": "stream",
          "text": [
            "[nltk_data] Downloading package stopwords to /root/nltk_data...\n",
            "[nltk_data]   Unzipping corpora/stopwords.zip.\n"
          ]
        }
      ],
      "source": [
        "import matplotlib.pyplot as plt\n",
        "import matplotlib\n",
        "import seaborn as sns\n",
        "import numpy as np\n",
        "import pandas as pd\n",
        "import datetime\n",
        "from wordcloud import WordCloud, STOPWORDS\n",
        "import datetime\n",
        "\n",
        "import optuna\n",
        "\n",
        "import nltk\n",
        "from nltk.corpus import stopwords\n",
        "nltk.download(\"stopwords\")\n",
        "\n",
        "from catboost import CatBoostClassifier\n",
        "from optuna.integration import CatBoostPruningCallback\n",
        "\n",
        "from collections import defaultdict\n",
        "from sklearn.feature_extraction.text import TfidfVectorizer\n",
        "from sklearn.model_selection import train_test_split\n",
        "from sklearn.linear_model import LogisticRegression\n",
        "from sklearn.pipeline import make_pipeline, Pipeline\n",
        "from sklearn.metrics import classification_report\n",
        "from sklearn.naive_bayes import MultinomialNB\n",
        "from sklearn.svm import SVC\n",
        "from sklearn.ensemble import RandomForestClassifier\n",
        "\n",
        "import gensim.downloader\n",
        "from gensim.models import Word2Vec, KeyedVectors\n",
        "from gensim.models.fasttext import FastText\n",
        "from natasha import Doc, Segmenter, MorphVocab, NewsEmbedding, NewsMorphTagger\n",
        "\n",
        "from sklearn.preprocessing import OneHotEncoder, MinMaxScaler, StandardScaler, LabelEncoder, label_binarize\n",
        "# from sklearn.compose import ColumnTransformer\n",
        "from sklearn.base import BaseEstimator, TransformerMixin\n",
        "from sklearn.impute import SimpleImputer\n",
        "from sklearn.metrics import confusion_matrix, ConfusionMatrixDisplay\n",
        "from sklearn.multiclass import OneVsRestClassifier, OneVsOneClassifier\n",
        "\n",
        "from sklearn.model_selection import KFold,\\\n",
        "                                    StratifiedKFold, cross_val_score, \\\n",
        "                                    ShuffleSplit, StratifiedShuffleSplit,\\\n",
        "                                    RandomizedSearchCV\n",
        "\n",
        "from sklearn.metrics import mean_squared_error, mean_absolute_error, \\\n",
        "    precision_score, recall_score, f1_score, roc_auc_score, log_loss, auc,\\\n",
        "    roc_curve, confusion_matrix, ConfusionMatrixDisplay\n",
        "\n",
        "import requests\n",
        "\n",
        "from typing import List, Optional, Tuple, Union\n",
        "\n",
        "import pickle\n",
        "\n",
        "sns.set(style=\"darkgrid\")\n",
        "%matplotlib inline"
      ]
    },
    {
      "cell_type": "markdown",
      "metadata": {
        "id": "OquSFCZAV_sd"
      },
      "source": [
        "# Вспомогательные функции и классы"
      ]
    },
    {
      "cell_type": "markdown",
      "metadata": {
        "id": "nLsyVefyCzSR"
      },
      "source": [
        "Собственный класс для выбора колонок. Т.к. для разных моделей захотелось использовать разные колонки, то будем использовать этот класс"
      ]
    },
    {
      "cell_type": "code",
      "execution_count": null,
      "metadata": {
        "id": "aInuPt1Te5LM"
      },
      "outputs": [],
      "source": [
        "class CustomSelectColumns():\n",
        "    \"\"\"\n",
        "    Класс выбора требуемых колонок\n",
        "    \"\"\"\n",
        "    def __init__(self,\n",
        "                 selected_feats: List[str] = None):\n",
        "        \"\"\"\n",
        "        :param selected_feats: лист с выбранными признаками\n",
        "        \"\"\"\n",
        "        self.sel_feats = selected_feats\n",
        "        # print('Init done')\n",
        "    def fit(self,\n",
        "            X: pd.DataFrame,\n",
        "            y: pd.Series = None):\n",
        "        \"\"\"\n",
        "        метод применения класса\n",
        "        :param X: датасет\n",
        "        :param y: целевая переменная\n",
        "        :return: экземпляр класса CustomSelectColumns\n",
        "        \"\"\"\n",
        "        return self\n",
        "\n",
        "    def transform(self,\n",
        "                  X: pd.DataFrame,\n",
        "                  y: pd.Series = None) -> pd.DataFrame:\n",
        "        \"\"\"\n",
        "        метод трансформации датасета\n",
        "        :param X: датасет\n",
        "        :param y: целевая переменная\n",
        "        :return: изменённый датасет\n",
        "        \"\"\"\n",
        "        X_ = X.copy()\n",
        "        X_filtered = X_[self.sel_feats]\n",
        "        X_filtered = pd.DataFrame(X_filtered)\n",
        "        return pd.DataFrame(X_filtered)"
      ]
    },
    {
      "cell_type": "markdown",
      "metadata": {
        "id": "YBeV1SVQDDEO"
      },
      "source": [
        "Будем трансформировать колонки: масштабировать численные переменные, категориальные кодировать, а текстовые либо создавать токены, либо не изменять.\n",
        "Собственный класс для трансформации колонок."
      ]
    },
    {
      "cell_type": "code",
      "execution_count": null,
      "metadata": {
        "id": "0qk_CxKYe_IT"
      },
      "outputs": [],
      "source": [
        "class CustomTransformer():\n",
        "    \"\"\"\n",
        "    Класс трансформации признаков.\n",
        "    Числовые данные нормализуются или стандартизируются.\n",
        "    Категориальные признаки не изменяются.\n",
        "    После трансформаци возвращается датафрейм.\n",
        "    \"\"\"\n",
        "    def __init__(self,\n",
        "                 scaler_type: Union[StandardScaler, MinMaxScaler] = None,\n",
        "                 cat_feats: List[str] = ['month', 'weekday'],\n",
        "                 txt_feats: List[str] = ['content'],\n",
        "                 split: bool = False,\n",
        "                 with_mean: bool = True,\n",
        "                 with_std: bool = True,\n",
        "                 feature_range: tuple[int, int]=(0, 1)) -> None:\n",
        "\n",
        "        \"\"\"\n",
        "        :param scaler_type: экземпляр класса мастшабирования или стандартизации\n",
        "        :param cat_feats: лист с категориальными признаками\n",
        "        :param txt_feats: лист с текстовыми призаками\n",
        "        :param split: логическая переменная разбивать строку на токены\n",
        "        :param with_mean: логическая переменная StandardScaler\n",
        "                          - вычитать среднее значение\n",
        "        :param with_std: логическая переменная StandardScaler\n",
        "                          - делить на стандартное отклоннение\n",
        "        :param feature_range: параметр класса MinMaxScaler\n",
        "                          - диапазоном значений, на который масштабируются\n",
        "                          признаки\n",
        "        \"\"\"\n",
        "\n",
        "        self.scaler_type = scaler_type\n",
        "        if scaler_type:\n",
        "            self.scaler = StandardScaler(with_mean=with_mean, with_std=with_std)\n",
        "        else:\n",
        "            self.scaler = MinMaxScaler(feature_range=feature_range)\n",
        "\n",
        "        self.split = split\n",
        "\n",
        "        self.cat_encoder = LabelEncoder()\n",
        "        self.cat_feats = cat_feats\n",
        "        self.txt_feats = txt_feats\n",
        "\n",
        "        # print('Init done')\n",
        "    def fit(self,\n",
        "            X: pd.DataFrame,\n",
        "            y: pd.Series = None):\n",
        "        \"\"\"\n",
        "        метод применения класса\n",
        "        :param X: датасет\n",
        "        :param y: целевая переменная\n",
        "        :return: экземпляр класса CustomSelectColumns\n",
        "        \"\"\"\n",
        "        return self\n",
        "\n",
        "    def transform(self,\n",
        "                  X: pd.DataFrame,\n",
        "                  y: pd.Series=None) -> pd.DataFrame:\n",
        "        \"\"\"\n",
        "        метод трансформации датасета\n",
        "        :param X: датасет\n",
        "        :param y: целевая переменная\n",
        "        :return: изменённый датасет\n",
        "        \"\"\"\n",
        "\n",
        "        X_ = X.copy()\n",
        "        X_cat = X_[self.cat_feats]\n",
        "        # категориальные признаки кодируем label_encoder\n",
        "        for feature in self.cat_feats:\n",
        "            # X_cat[feature + '_encoded'] = self.cat_encoder.fit_transform(X_cat[feature])\n",
        "            X_.loc[:, feature + '_encoded'] = self.cat_encoder.fit_transform(X_[feature])\n",
        "            X_cat = X_cat.drop(columns=[feature])\n",
        "\n",
        "        num_feats = [i for i in X_.columns if i not in self.cat_feats and i not in self.txt_feats]\n",
        "        # числовые признаки масштабируем\n",
        "        X_num = X_[num_feats]\n",
        "\n",
        "        X_num = pd.DataFrame(self.scaler.fit_transform(X_num), columns=num_feats)\n",
        "        # текстовые признаки либо разбиваем на токены, либо оставляем так как есть\n",
        "        if self.split:\n",
        "            X_txt = X_[self.txt_feats].str.split()\n",
        "        else:\n",
        "            X_txt = X_[self.txt_feats]\n",
        "\n",
        "        X_cat = X_cat.reset_index(drop=True)\n",
        "        X_num = X_num.reset_index(drop=True)\n",
        "        X_txt = X_txt.reset_index(drop=True)\n",
        "\n",
        "        res = pd.concat([X_cat, X_num, X_txt], axis=1)\n",
        "        return res.reset_index().set_index('index')"
      ]
    },
    {
      "cell_type": "code",
      "execution_count": null,
      "metadata": {
        "id": "95LYfzPmfHnD"
      },
      "outputs": [],
      "source": [
        "class TfidfEmbeddingVectorizer(object):\n",
        "    \"\"\"Класс для получения взвешенных tfidf векторов предложения\"\"\"\n",
        "    def __init__(self,\n",
        "                 model,\n",
        "                 column):\n",
        "        \"\"\"\n",
        "        :param model: модель для получения векторных представлений слов\n",
        "        :param column: колонка, к которой применяем\n",
        "        \"\"\"\n",
        "        self.word2vec = model.wv\n",
        "        self.word2weight = None\n",
        "        self.dim = model.vector_size\n",
        "        self.column = column\n",
        "        self.max_idf = None\n",
        "\n",
        "    def tokenize(self, x: List[str]):\n",
        "        \"\"\"\n",
        "        метод для токенизирования, но будем подавать уже токенезированный текст\n",
        "        :return: лист слов предложения\n",
        "        \"\"\"\n",
        "        return x\n",
        "\n",
        "    def get_idf(self, tfidf, word):\n",
        "        \"\"\"\n",
        "        метод для получения веса tf_idf\n",
        "        :param tfidf: модель\n",
        "        :param word: слово\n",
        "        :return: число\n",
        "        \"\"\"\n",
        "        index = tfidf.vocabulary_.get(word)\n",
        "        return tfidf.idf_[index] if index is not None else self.max_idf\n",
        "\n",
        "    def default_idf(self):\n",
        "        return self.max_idf\n",
        "\n",
        "    def fit(self,\n",
        "            X: pd.DataFrame,\n",
        "            y: pd.Series):\n",
        "        \"\"\"\n",
        "        метод применения класса\n",
        "        :param X: датасет\n",
        "        :param y: целевая переменная\n",
        "        :return: экземпляр класса CustomSelectColumns\n",
        "        \"\"\"\n",
        "        tfidf = TfidfVectorizer(analyzer=self.tokenize)\n",
        "        tfidf.fit(X[self.column])\n",
        "        self.max_idf = max(tfidf.idf_)\n",
        "        self.word2weight = defaultdict(\n",
        "            self.default_idf,\n",
        "            [(w, self.get_idf(tfidf, w)) for w in tfidf.vocabulary_.items()])\n",
        "\n",
        "        return self\n",
        "\n",
        "    def transform(self, X: pd.DataFrame) -> pd.DataFrame:\n",
        "        \"\"\"\n",
        "        метод трансформации датасета\n",
        "        :param X: датасет\n",
        "        :return: изменённый датасет\n",
        "        \"\"\"\n",
        "        X_tfidf = np.array([\n",
        "                np.mean([self.word2vec.get_vector(w) * self.word2weight[w]\n",
        "                         for w in words if w in self.word2vec] or\n",
        "                        [np.zeros(self.dim)], axis=0)\n",
        "                for words in X[self.column]\n",
        "            ])\n",
        "        X_tfidf = pd.DataFrame(X_tfidf, columns=[f'tfidf_{i}' for i in range(self.dim)])\n",
        "        X.drop(self.column, inplace=True, axis=1)\n",
        "        X = pd.concat([X, X_tfidf], axis=1)\n",
        "\n",
        "        return X"
      ]
    },
    {
      "cell_type": "code",
      "execution_count": null,
      "metadata": {
        "id": "eIHVGPasgMMb"
      },
      "outputs": [],
      "source": [
        "def get_metrics_multiclass(y_test_bin: np.array,\n",
        "                           y_test: np.array,\n",
        "                           y_pred: np.array,\n",
        "                           y_prob: np.array,\n",
        "                           name: str,\n",
        "                           type_multi: str):\n",
        "    \"\"\"\n",
        "\n",
        "    :param y_test_bin: бинаризованные тестовые метки класса\n",
        "    :param y_test: метки класса без бинаризации\n",
        "    :param y_prob: предсказанные вероятности классов\n",
        "    :param name: - название модели/подхода\n",
        "    :param type_multi: тип многоклассовой классификации для ROC-AUC (ovo/ovr)\n",
        "    \"\"\"\n",
        "\n",
        "    df_metrics = pd.DataFrame()\n",
        "\n",
        "\n",
        "    df_metrics['model'] = [name]\n",
        "\n",
        "    df_metrics['ROC_AUC'] = roc_auc_score(y_test_bin,\n",
        "                                          y_prob,\n",
        "                                          multi_class=type_multi)\n",
        "\n",
        "    df_metrics['Precision_micro'] = precision_score(y_test,\n",
        "                                                    y_pred,\n",
        "                                                    average='micro')\n",
        "    df_metrics['Precision_macro'] = precision_score(y_test,\n",
        "                                                    y_pred,\n",
        "                                                    average='macro')\n",
        "\n",
        "    df_metrics['Recall_micro'] = recall_score(y_test, y_pred, average='micro')\n",
        "    df_metrics['Recall_macro'] = recall_score(y_test, y_pred, average='macro')\n",
        "\n",
        "    df_metrics['F1_micro'] = f1_score(y_test, y_pred, average='micro')\n",
        "    df_metrics['F1_macro'] = f1_score(y_test, y_pred, average='macro')\n",
        "    df_metrics['F1_weighted'] = f1_score(y_test, y_pred, average='weighted')\n",
        "\n",
        "    df_metrics['Logloss'] = log_loss(y_test, y_prob)\n",
        "\n",
        "    return df_metrics"
      ]
    },
    {
      "cell_type": "markdown",
      "metadata": {
        "id": "HyInqlURpgml"
      },
      "source": [
        "# Преобработка данных"
      ]
    },
    {
      "cell_type": "code",
      "execution_count": null,
      "metadata": {
        "id": "AIybad2ypX8Y"
      },
      "outputs": [],
      "source": [
        "df = pd.read_csv('/content/prep.csv')\n",
        "RND_STATE = 7575\n",
        "sampler = optuna.samplers.TPESampler(seed=RND_STATE)"
      ]
    },
    {
      "cell_type": "code",
      "execution_count": null,
      "metadata": {
        "colab": {
          "base_uri": "https://localhost:8080/"
        },
        "id": "E8QyatcBFlgA",
        "outputId": "b0ebe334-62f2-4352-e4ea-98a4d8d077d5"
      },
      "outputs": [
        {
          "name": "stdout",
          "output_type": "stream",
          "text": [
            "\u001b[1mcat_features:\u001b[0m ['month', 'weekday'], \u001b[1mamount\u001b[0m = 2\n",
            "\u001b[1mnum_features:\u001b[0m ['content', 'comments_amount', 'year', 'hour', 'log_views', 'len_title', 'len_content', 'log_views_by_minutes', 'content_clean'], \u001b[1mamount\u001b[0m = 9\n",
            "\u001b[1mtargets:\u001b[0m ['topic'], \u001b[1mamount\u001b[0m = 1\n"
          ]
        }
      ],
      "source": [
        "# инициализируем листы числовых, категориальных, целевых признаков и признаки,\n",
        "# которые не потребуются для анализа\n",
        "cat_features = [#'title',\n",
        "                #'content',\n",
        "                'month',\n",
        "                'weekday']\n",
        "\n",
        "targets = ['topic',\n",
        "          #  'views'\n",
        "           ]\n",
        "features2drop = ['url', 'views', 'views_by_minutes', 'lifetime', 'datetime',\n",
        "                 'title', 'title_clean']\n",
        "\n",
        "filtered_features = [i for i in df.columns if (i not in targets and i not in features2drop)]\n",
        "num_features = [i for i in filtered_features if i not in cat_features]\n",
        "\n",
        "print(f'\\033[1mcat_features:\\033[0m {cat_features}, \\033[1mamount\\033[0m = {len(cat_features)}')\n",
        "print(f'\\033[1mnum_features:\\033[0m {num_features}, \\033[1mamount\\033[0m = {len(num_features)}')\n",
        "print(f'\\033[1mtargets:\\033[0m {targets}, \\033[1mamount\\033[0m = {len(targets)}')"
      ]
    },
    {
      "cell_type": "code",
      "execution_count": null,
      "metadata": {
        "id": "e8mdXA_0K7IK"
      },
      "outputs": [],
      "source": [
        "# Заменим тип данных object на category в категориальных признаках\n",
        "\n",
        "for col in cat_features:\n",
        "    df[col] = df[col].astype(\"category\")\n",
        "\n",
        "for col in cat_features:\n",
        "    df[col] = df[col].astype(\"category\")"
      ]
    },
    {
      "cell_type": "code",
      "execution_count": null,
      "metadata": {
        "id": "3su37xCtLMvW"
      },
      "outputs": [],
      "source": [
        "# получаем разбиение на фичи и целевую переменную\n",
        "X = df[filtered_features].drop(targets, axis=1, errors=\"ignore\")\n",
        "y = df[\"topic\"]\n",
        "\n",
        "# разбиение на обучающую и тестовые выборки\n",
        "X_train, X_test, y_train, y_test = train_test_split(X,\n",
        "                                                    y,\n",
        "                                                    test_size=0.25,\n",
        "                                                    random_state=RND_STATE,\n",
        "                                                    shuffle=True)"
      ]
    },
    {
      "cell_type": "code",
      "execution_count": null,
      "metadata": {
        "id": "YzuA7f4zL9hx"
      },
      "outputs": [],
      "source": [
        "# кодируем целевую переменную\n",
        "le = LabelEncoder()\n",
        "y_train_num = le.fit_transform(y_train)\n",
        "y_test_num = le.transform(y_test)"
      ]
    },
    {
      "cell_type": "code",
      "execution_count": null,
      "metadata": {
        "id": "LjXBCrrkPesW"
      },
      "outputs": [],
      "source": [
        "selected_columns_1 = ['comments_amount',\n",
        "                      'year',\n",
        "                      'month',\n",
        "                      'weekday',\n",
        "                      'hour',\n",
        "                      'log_views',\n",
        "                      'len_title',\n",
        "                      'len_content',\n",
        "                      'log_views_by_minutes',\n",
        "                      # 'title_clean',\n",
        "                      'content_clean']"
      ]
    },
    {
      "cell_type": "markdown",
      "metadata": {
        "id": "Iu8R_UwjxBxa"
      },
      "source": [
        "# Модели"
      ]
    },
    {
      "cell_type": "markdown",
      "metadata": {
        "id": "PSYGfxLE-4QI"
      },
      "source": [
        "Загрузим модель, которую уже обучали в Pymagic_baseline"
      ]
    },
    {
      "cell_type": "code",
      "execution_count": null,
      "metadata": {
        "id": "Lb7VsEtvsXde"
      },
      "outputs": [],
      "source": [
        "url = 'https://github.com/nedokormysh/NLP_Fontanka/raw/main/Models/Base/model.pkl'\n",
        "response = requests.get(url)\n",
        "\n",
        "with open('model.pkl', 'wb') as f:\n",
        "    f.write(response.content)"
      ]
    },
    {
      "cell_type": "code",
      "execution_count": null,
      "metadata": {
        "id": "DKT7LKhaRF43"
      },
      "outputs": [],
      "source": [
        "with open('model.pkl', 'rb') as f:\n",
        "    model = pickle.load(f)"
      ]
    },
    {
      "cell_type": "code",
      "execution_count": 26,
      "metadata": {
        "id": "H_c2l4QYhio_"
      },
      "outputs": [],
      "source": [
        "n_classes = len(set(y))\n",
        "y_test_bin = label_binarize(y_test_num, classes=np.arange(0, 10))"
      ]
    },
    {
      "cell_type": "markdown",
      "metadata": {
        "id": "CyOye3WqwSCy"
      },
      "source": [
        "# Подбор гиперпараметров"
      ]
    },
    {
      "cell_type": "markdown",
      "metadata": {
        "id": "Jndwj5LsJoi5"
      },
      "source": [
        "Предобработаем датасет для уменьшения времени работы."
      ]
    },
    {
      "cell_type": "code",
      "execution_count": null,
      "metadata": {
        "id": "tjDSeeY6w11o"
      },
      "outputs": [],
      "source": [
        "preprocessor = Pipeline([('selector', CustomSelectColumns(selected_columns_1)),\n",
        "                         ('preprocessor',\n",
        "                          CustomTransformer(True,\n",
        "                                            txt_feats='content_clean',\n",
        "                                            split=True)),\n",
        "                         ('tfidf',\n",
        "                          TfidfEmbeddingVectorizer(model,\n",
        "                                                   column='content_clean'))])\n",
        "\n",
        "X_train_preprocessed = preprocessor.fit_transform(X_train, y_train)\n",
        "X_test_preprocessed = preprocessor.transform(X_test)"
      ]
    },
    {
      "cell_type": "markdown",
      "metadata": {
        "id": "7pEp2GxRuLR5"
      },
      "source": [
        "Привожу код подбора параметров. Вообще изначально делил ноутбук на несколько, чтобы одновременно подбирать параметры для различных моделей."
      ]
    },
    {
      "cell_type": "markdown",
      "metadata": {
        "id": "eX5R0OcMxqsL"
      },
      "source": [
        "## One vs Rest"
      ]
    },
    {
      "cell_type": "markdown",
      "metadata": {
        "id": "t1cTuftxYsVr"
      },
      "source": [
        "### LogReg"
      ]
    },
    {
      "cell_type": "markdown",
      "metadata": {
        "id": "wIkJeR3XVMOX"
      },
      "source": [
        "#### RandomSearchCV"
      ]
    },
    {
      "cell_type": "code",
      "execution_count": null,
      "metadata": {
        "id": "IOyAjAVDkjNV"
      },
      "outputs": [],
      "source": [
        "# # создаем препроцессор\n",
        "# preprocessor = Pipeline([\n",
        "#     ('selector', CustomSelectColumns(selected_columns_1)),\n",
        "#     ('preprocessor', CustomTransformer(True, txt_feats='content_clean', split=True)),\n",
        "#     ('tfidf', TfidfEmbeddingVectorizer(model, column='content_clean'))\n",
        "# ])\n",
        "\n",
        "# # создаем классификатор\n",
        "# clf = LogisticRegression(random_state=RND_STATE, max_iter=10000)\n",
        "# ovr_clf = OneVsRestClassifier(clf)\n",
        "\n",
        "# # создаем пайплайн\n",
        "# pipeline = make_pipeline(preprocessor, ovr_clf)\n",
        "\n",
        "# # задаем параметры для поиска\n",
        "# param_dist = {\n",
        "#     'onevsrestclassifier__estimator__C': [0.01, 0.1, 1, 10, 100],\n",
        "#     'onevsrestclassifier__estimator__penalty': ['l1', 'l2'],\n",
        "#     'onevsrestclassifier__estimator__solver': ['liblinear', 'saga'],\n",
        "#     'onevsrestclassifier__estimator__class_weight': ['balanced', None]\n",
        "# }\n",
        "\n",
        "# # создаем и запускаем RandomizedSearchCV\n",
        "# n_iter_search = 10\n",
        "# random_search = RandomizedSearchCV(\n",
        "#     pipeline,\n",
        "#     param_distributions=param_dist,\n",
        "#     scoring='f1_weighted',\n",
        "#     n_iter=n_iter_search,\n",
        "#     # cv=3,\n",
        "#     random_state=RND_STATE)\n",
        "# random_search.fit(X_train, y_train_num)\n",
        "\n",
        "# # получаем лучшие гиперпараметры\n",
        "# best_params = random_search.best_params_"
      ]
    },
    {
      "cell_type": "code",
      "execution_count": null,
      "metadata": {
        "id": "HHS2rIX0f-ex"
      },
      "outputs": [],
      "source": [
        "# # создаем пайплайн\n",
        "# clf = LogisticRegression(random_state=RND_STATE, max_iter=10)\n",
        "# ovr_clf = OneVsRestClassifier(clf)\n",
        "# pipeline = make_pipeline(ovr_clf)\n",
        "\n",
        "# # задаем параметры для поиска\n",
        "# param_dist = {\n",
        "#     # 'onevsrestclassifier__estimator__C': [ 0.1, 1, 10, 100],\n",
        "#     'onevsrestclassifier__estimator__penalty': ['l1',\n",
        "#                                                 'l2'\n",
        "#     ],\n",
        "#     'onevsrestclassifier__estimator__solver': [ 'saga',\n",
        "#                                               #  'lbfgs'\n",
        "#     ],\n",
        "#     # 'onevsrestclassifier__estimator__class_weight': ['balanced', None]\n",
        "# }\n",
        "\n",
        "# # создаем и запускаем RandomizedSearchCV\n",
        "# n_iter_search = 10\n",
        "# random_search = RandomizedSearchCV(\n",
        "#     pipeline, param_distributions=param_dist,\n",
        "#     # n_iter=n_iter_search,\n",
        "#     cv=2,\n",
        "#     scoring='f1_weighted',\n",
        "#     random_state=RND_STATE,\n",
        "#     verbose=3,\n",
        "#     n_jobs=-1\n",
        "#     )\n",
        "# # random_search.fit(X_train_preprocessed, y_train_num)\n",
        "\n",
        "# # # получаем лучшие гиперпараметры\n",
        "# # best_params = random_search.best_params_"
      ]
    },
    {
      "cell_type": "code",
      "execution_count": null,
      "metadata": {
        "id": "8x2gy22KEgXN"
      },
      "outputs": [],
      "source": [
        "# random_search.fit(X_train_preprocessed, y_train_num)"
      ]
    },
    {
      "cell_type": "code",
      "execution_count": null,
      "metadata": {
        "id": "Ou0S9ovdoni5"
      },
      "outputs": [],
      "source": [
        "# random_search.best_params_"
      ]
    },
    {
      "cell_type": "code",
      "execution_count": null,
      "metadata": {
        "id": "yLMhC4sz56BJ"
      },
      "outputs": [],
      "source": [
        "# # сохраняем модель в файл\n",
        "# with open('random_search_ovr_lr.pkl', 'wb') as file:\n",
        "#     pickle.dump(random_search, file)"
      ]
    },
    {
      "cell_type": "markdown",
      "metadata": {
        "id": "SwHbqgbV3Myv"
      },
      "source": [
        "#### Optuna"
      ]
    },
    {
      "cell_type": "code",
      "execution_count": null,
      "metadata": {
        "id": "5Oxr7wnG3Pcn"
      },
      "outputs": [],
      "source": [
        "def fit_log_reg_ovr(trial: optuna.trial,\n",
        "                    train: pd.DataFrame,\n",
        "                    val: pd.DataFrame,):\n",
        "\n",
        "    \"\"\"\n",
        "    Функция применения алгоритма\n",
        "    :param trial: standart optuna parameter\n",
        "    :type trial: optuna.trial\n",
        "    :param train: train dataframe\n",
        "    :type train: pandas.DataFrame\n",
        "    :param val: validation dataframe\n",
        "    :type val: pd.DataFrame\n",
        "\n",
        "    .. notes::\n",
        "    -----\n",
        "    Принимает объект trial из optuna, данные для обучения и валидации, алгоритм, параметры.\n",
        "    Алгоритм обучается и применяется.\n",
        "    Возвращает обученную модель и предсказанное значение для валидационной выборки\n",
        "\n",
        "    \"\"\"\n",
        "    X_train, y_train = train\n",
        "    X_val, y_val = val\n",
        "\n",
        "    param = {\"dual\": False,\n",
        "             \"C\": trial.suggest_float(\"C\", 2.5, 3, step=0.1),\n",
        "             \"solver\": trial.suggest_categorical(\"solver\",\n",
        "                                                 [\"sag\",\n",
        "                                                  #\"saga\",\n",
        "                                                  \"lbfgs\"\n",
        "                                                  ]),\n",
        "             \"random_state\": RND_STATE,\n",
        "             \"max_iter\": trial.suggest_int(\"max_iter\", 5500, 6300, step=200),\n",
        "             'multi_class': trial.suggest_categorical(\"multi_class\",\n",
        "                                                      [#'auto',\n",
        "                                                       'ovr',\n",
        "                                                       #'multinomial'\n",
        "                                                       ]),\n",
        "             'n_jobs': -1,\n",
        "             'verbose': 0\n",
        "    }\n",
        "\n",
        "    # print(f'param[\"solver\"] = {param[\"solver\"]}')\n",
        "    if param[\"solver\"] == \"saga\":\n",
        "        param[\"penalty\"] = trial.suggest_categorical(\"penalty\",\n",
        "                                             ['l1',\n",
        "                                              'l2', #'elasticnet',\n",
        "                                              None])\n",
        "    else:\n",
        "         param[\"penalty\"] = trial.suggest_categorical(\"penalty\",\n",
        "                                             ['l2',\n",
        "                                              #None\n",
        "                                              ])\n",
        "    print(f'params = {param}')\n",
        "    clf = LogisticRegression(**param)\n",
        "    ovr_clf = OneVsRestClassifier(clf)\n",
        "    ovr_clf.fit(X_train, y_train)\n",
        "\n",
        "    y_pred = ovr_clf.predict(X_val)\n",
        "    return ovr_clf, y_pred"
      ]
    },
    {
      "cell_type": "code",
      "execution_count": null,
      "metadata": {
        "id": "OBLnGG-h34rA"
      },
      "outputs": [],
      "source": [
        "def objective_log_ovr(trial: optuna.trial, return_models:bool=False):\n",
        "    '''\n",
        "    Функция рассчёта для поиска параметров при помощи optuna\n",
        "    :param trial: standart optuna parameter\n",
        "    :type trial: optuna.trial\n",
        "    :param return_models: parameter to return fitted model or not\n",
        "    :type return_models: bool, defaults to False\n",
        "\n",
        "    :rtype: float | tuple[float, Any]\n",
        "    :returns: mean value of f1_weighted metric on folds, model\n",
        "    .. notes::\n",
        "    -----\n",
        "    Принимает объект trial из optuna и булево значение для возможности возврата модели.\n",
        "\n",
        "    Разбиваем данные на фолды, и подаём в функцию fit algorithm_optuna на каждом разбиении.\n",
        "    '''\n",
        "    n_splits = 3\n",
        "    kf = KFold(n_splits=n_splits, shuffle=True, random_state=RND_STATE)\n",
        "\n",
        "    scores_simple_acc, scores_f1_weighted, models = [], [], []\n",
        "\n",
        "    for train_idx, valid_idx in kf.split(X_train.index):\n",
        "        train_data = X_train_preprocessed.iloc[train_idx], y_train_num[train_idx]\n",
        "        valid_data = X_train_preprocessed.iloc[valid_idx], y_train_num[valid_idx]\n",
        "\n",
        "        # Подаем trials для перебора\n",
        "        model, y_pred = fit_log_reg_ovr(trial, train_data, valid_data)\n",
        "\n",
        "        # scores_simple_acc.append(accuracy_score(y_pred, valid_data[1]))\n",
        "        # scores_balanced_acc.append(balanced_accuracy_score(y_pred, valid_data[1]))\n",
        "        scores_f1_weighted.append(f1_score(y_pred, valid_data[1], average='weighted'))\n",
        "\n",
        "        models.append(model)\n",
        "        break\n",
        "\n",
        "    result = np.mean(scores_f1_weighted)\n",
        "    print(f'result = {result}')\n",
        "\n",
        "    if return_models:\n",
        "        return result, models\n",
        "    else:\n",
        "        return result"
      ]
    },
    {
      "cell_type": "code",
      "execution_count": null,
      "metadata": {
        "id": "2LtE_wNF4DGT"
      },
      "outputs": [],
      "source": [
        "# study = optuna.create_study(direction=\"maximize\",\n",
        "#                             pruner=optuna.pruners.MedianPruner(n_warmup_steps=5),\n",
        "#                             sampler=sampler,\n",
        "#                             study_name=\"OVR_Log_Reg_clf\")\n",
        "# study.optimize(objective_log_ovr,\n",
        "#                n_trials=10,\n",
        "#                n_jobs=-1,\n",
        "#                show_progress_bar=True)"
      ]
    },
    {
      "cell_type": "code",
      "execution_count": null,
      "metadata": {
        "colab": {
          "base_uri": "https://localhost:8080/"
        },
        "id": "JefjH0dOWAw9",
        "outputId": "9ce31ee6-9b86-4109-c5d9-c816ad613153"
      },
      "outputs": [
        {
          "name": "stdout",
          "output_type": "stream",
          "text": [
            "Number of finished trials: 7\n",
            "Best trial:\n",
            "  Value: 0.7178719794080773\n",
            "  Params: \n",
            "    C: 2.9\n",
            "    solver: lbfgs\n",
            "    max_iter: 5700\n",
            "    multi_class: ovr\n",
            "    penalty: l2\n"
          ]
        }
      ],
      "source": [
        "print(\"Number of finished trials: {}\".format(len(study.trials)))\n",
        "print(\"Best trial:\")\n",
        "trial = study.best_trial\n",
        "print(\"  Value: {}\".format(trial.value))\n",
        "print(\"  Params: \")\n",
        "\n",
        "for key, value in trial.params.items():\n",
        "    print(\"    {}: {}\".format(key, value))"
      ]
    },
    {
      "cell_type": "code",
      "execution_count": null,
      "metadata": {
        "id": "l6kUVXa1Wx7J"
      },
      "outputs": [],
      "source": [
        "# best_params = study.best_params"
      ]
    },
    {
      "cell_type": "code",
      "execution_count": null,
      "metadata": {
        "colab": {
          "base_uri": "https://localhost:8080/"
        },
        "id": "BzHFFTJvdFLw",
        "outputId": "2965fbca-08de-4e14-d7ac-ad57d1c89115"
      },
      "outputs": [
        {
          "data": {
            "text/plain": [
              "{'C': 2.9,\n",
              " 'solver': 'lbfgs',\n",
              " 'max_iter': 5700,\n",
              " 'multi_class': 'ovr',\n",
              " 'penalty': 'l2'}"
            ]
          },
          "execution_count": 33,
          "metadata": {},
          "output_type": "execute_result"
        }
      ],
      "source": [
        "# best_params"
      ]
    },
    {
      "cell_type": "code",
      "execution_count": null,
      "metadata": {
        "id": "6JjoxKxhjGG0"
      },
      "outputs": [],
      "source": [
        "# {'solver': 'lbfgs', 'max_iter': 6100, 'penalty': 'l2'}"
      ]
    },
    {
      "cell_type": "code",
      "execution_count": null,
      "metadata": {
        "id": "jF0vRgZ_dNpE"
      },
      "outputs": [],
      "source": [
        "params = {'dual': False,\n",
        "          'C': 2.9,\n",
        "          'solver': 'lbfgs',\n",
        "          'random_state': 7575,\n",
        "          'max_iter': 5700,\n",
        "          'multi_class': 'ovr',\n",
        "          'n_jobs': -1,\n",
        "          'verbose': 0,\n",
        "          'penalty': 'l2'}"
      ]
    },
    {
      "cell_type": "code",
      "execution_count": null,
      "metadata": {
        "colab": {
          "base_uri": "https://localhost:8080/"
        },
        "id": "Lxg_wE9UWJjz",
        "outputId": "4aac7f1a-2ef3-4391-daf4-38d2c8699390"
      },
      "outputs": [
        {
          "name": "stdout",
          "output_type": "stream",
          "text": [
            "               precision    recall  f1-score   support\n",
            "\n",
            "         авто       0.76      0.11      0.19       150\n",
            "       бизнес       0.54      0.35      0.43       401\n",
            "       власть       0.58      0.31      0.40       910\n",
            "        город       0.73      0.73      0.73      1949\n",
            "     общество       0.57      0.70      0.63      3315\n",
            "     политика       0.33      0.02      0.04       235\n",
            " происшествия       0.81      0.87      0.84      3769\n",
            "        спорт       0.92      0.80      0.86       393\n",
            "строительство       0.85      0.77      0.81       114\n",
            "      финансы       0.67      0.34      0.45       132\n",
            "\n",
            "     accuracy                           0.70     11368\n",
            "    macro avg       0.68      0.50      0.54     11368\n",
            " weighted avg       0.69      0.70      0.68     11368\n",
            "\n"
          ]
        }
      ],
      "source": [
        "preprocessor = Pipeline([\n",
        "    ('selector', CustomSelectColumns(selected_columns_1)),\n",
        "    ('preprocessor', CustomTransformer(True, txt_feats='content_clean', split=True)),\n",
        "    ('tfidf', TfidfEmbeddingVectorizer(model, column='content_clean'))\n",
        "])\n",
        "\n",
        "\n",
        "clf = LogisticRegression(**params)\n",
        "ovr_clf = OneVsRestClassifier(clf)\n",
        "\n",
        "pipeline_ovr_lr = make_pipeline(preprocessor, ovr_clf)\n",
        "pipeline_ovr_lr.fit(X_train, y_train_num)\n",
        "y_pred_num = pipeline_ovr_lr.predict(X_test)\n",
        "print(classification_report(y_test_num, y_pred_num, target_names=le.classes_))"
      ]
    },
    {
      "cell_type": "code",
      "execution_count": null,
      "metadata": {
        "id": "5MUx2E6KYYpw"
      },
      "outputs": [],
      "source": [
        "# сохраняем модель в файл\n",
        "with open('pipeline_ovr_lr.pkl', 'wb') as file:\n",
        "    pickle.dump(pipeline_ovr_lr, file)"
      ]
    },
    {
      "cell_type": "code",
      "execution_count": 29,
      "metadata": {
        "colab": {
          "base_uri": "https://localhost:8080/",
          "height": 81
        },
        "id": "sIzrjw3nyIjV",
        "outputId": "111d7fa4-2c7c-41c3-fff1-bdc516e5c430"
      },
      "outputs": [
        {
          "output_type": "execute_result",
          "data": {
            "text/plain": [
              "                           model   ROC_AUC  Precision_micro  Precision_macro  \\\n",
              "0  OVR_LogisticRegresstion_Tuned  0.941353         0.696517         0.676391   \n",
              "\n",
              "   Recall_micro  Recall_macro  F1_micro  F1_macro  F1_weighted   Logloss  \n",
              "0      0.696517      0.500157  0.696517  0.536798     0.679938  6.181519  "
            ],
            "text/html": [
              "\n",
              "  <div id=\"df-364e265f-1d0c-4b25-80a5-0441fb208f37\" class=\"colab-df-container\">\n",
              "    <div>\n",
              "<style scoped>\n",
              "    .dataframe tbody tr th:only-of-type {\n",
              "        vertical-align: middle;\n",
              "    }\n",
              "\n",
              "    .dataframe tbody tr th {\n",
              "        vertical-align: top;\n",
              "    }\n",
              "\n",
              "    .dataframe thead th {\n",
              "        text-align: right;\n",
              "    }\n",
              "</style>\n",
              "<table border=\"1\" class=\"dataframe\">\n",
              "  <thead>\n",
              "    <tr style=\"text-align: right;\">\n",
              "      <th></th>\n",
              "      <th>model</th>\n",
              "      <th>ROC_AUC</th>\n",
              "      <th>Precision_micro</th>\n",
              "      <th>Precision_macro</th>\n",
              "      <th>Recall_micro</th>\n",
              "      <th>Recall_macro</th>\n",
              "      <th>F1_micro</th>\n",
              "      <th>F1_macro</th>\n",
              "      <th>F1_weighted</th>\n",
              "      <th>Logloss</th>\n",
              "    </tr>\n",
              "  </thead>\n",
              "  <tbody>\n",
              "    <tr>\n",
              "      <th>0</th>\n",
              "      <td>OVR_LogisticRegresstion_Tuned</td>\n",
              "      <td>0.941353</td>\n",
              "      <td>0.696517</td>\n",
              "      <td>0.676391</td>\n",
              "      <td>0.696517</td>\n",
              "      <td>0.500157</td>\n",
              "      <td>0.696517</td>\n",
              "      <td>0.536798</td>\n",
              "      <td>0.679938</td>\n",
              "      <td>6.181519</td>\n",
              "    </tr>\n",
              "  </tbody>\n",
              "</table>\n",
              "</div>\n",
              "    <div class=\"colab-df-buttons\">\n",
              "\n",
              "  <div class=\"colab-df-container\">\n",
              "    <button class=\"colab-df-convert\" onclick=\"convertToInteractive('df-364e265f-1d0c-4b25-80a5-0441fb208f37')\"\n",
              "            title=\"Convert this dataframe to an interactive table.\"\n",
              "            style=\"display:none;\">\n",
              "\n",
              "  <svg xmlns=\"http://www.w3.org/2000/svg\" height=\"24px\" viewBox=\"0 -960 960 960\">\n",
              "    <path d=\"M120-120v-720h720v720H120Zm60-500h600v-160H180v160Zm220 220h160v-160H400v160Zm0 220h160v-160H400v160ZM180-400h160v-160H180v160Zm440 0h160v-160H620v160ZM180-180h160v-160H180v160Zm440 0h160v-160H620v160Z\"/>\n",
              "  </svg>\n",
              "    </button>\n",
              "\n",
              "  <style>\n",
              "    .colab-df-container {\n",
              "      display:flex;\n",
              "      gap: 12px;\n",
              "    }\n",
              "\n",
              "    .colab-df-convert {\n",
              "      background-color: #E8F0FE;\n",
              "      border: none;\n",
              "      border-radius: 50%;\n",
              "      cursor: pointer;\n",
              "      display: none;\n",
              "      fill: #1967D2;\n",
              "      height: 32px;\n",
              "      padding: 0 0 0 0;\n",
              "      width: 32px;\n",
              "    }\n",
              "\n",
              "    .colab-df-convert:hover {\n",
              "      background-color: #E2EBFA;\n",
              "      box-shadow: 0px 1px 2px rgba(60, 64, 67, 0.3), 0px 1px 3px 1px rgba(60, 64, 67, 0.15);\n",
              "      fill: #174EA6;\n",
              "    }\n",
              "\n",
              "    .colab-df-buttons div {\n",
              "      margin-bottom: 4px;\n",
              "    }\n",
              "\n",
              "    [theme=dark] .colab-df-convert {\n",
              "      background-color: #3B4455;\n",
              "      fill: #D2E3FC;\n",
              "    }\n",
              "\n",
              "    [theme=dark] .colab-df-convert:hover {\n",
              "      background-color: #434B5C;\n",
              "      box-shadow: 0px 1px 3px 1px rgba(0, 0, 0, 0.15);\n",
              "      filter: drop-shadow(0px 1px 2px rgba(0, 0, 0, 0.3));\n",
              "      fill: #FFFFFF;\n",
              "    }\n",
              "  </style>\n",
              "\n",
              "    <script>\n",
              "      const buttonEl =\n",
              "        document.querySelector('#df-364e265f-1d0c-4b25-80a5-0441fb208f37 button.colab-df-convert');\n",
              "      buttonEl.style.display =\n",
              "        google.colab.kernel.accessAllowed ? 'block' : 'none';\n",
              "\n",
              "      async function convertToInteractive(key) {\n",
              "        const element = document.querySelector('#df-364e265f-1d0c-4b25-80a5-0441fb208f37');\n",
              "        const dataTable =\n",
              "          await google.colab.kernel.invokeFunction('convertToInteractive',\n",
              "                                                    [key], {});\n",
              "        if (!dataTable) return;\n",
              "\n",
              "        const docLinkHtml = 'Like what you see? Visit the ' +\n",
              "          '<a target=\"_blank\" href=https://colab.research.google.com/notebooks/data_table.ipynb>data table notebook</a>'\n",
              "          + ' to learn more about interactive tables.';\n",
              "        element.innerHTML = '';\n",
              "        dataTable['output_type'] = 'display_data';\n",
              "        await google.colab.output.renderOutput(dataTable, element);\n",
              "        const docLink = document.createElement('div');\n",
              "        docLink.innerHTML = docLinkHtml;\n",
              "        element.appendChild(docLink);\n",
              "      }\n",
              "    </script>\n",
              "  </div>\n",
              "\n",
              "    </div>\n",
              "  </div>\n"
            ],
            "application/vnd.google.colaboratory.intrinsic+json": {
              "type": "dataframe",
              "variable_name": "metrics",
              "summary": "{\n  \"name\": \"metrics\",\n  \"rows\": 1,\n  \"fields\": [\n    {\n      \"column\": \"model\",\n      \"properties\": {\n        \"dtype\": \"string\",\n        \"num_unique_values\": 1,\n        \"samples\": [\n          \"OVR_LogisticRegresstion_Tuned\"\n        ],\n        \"semantic_type\": \"\",\n        \"description\": \"\"\n      }\n    },\n    {\n      \"column\": \"ROC_AUC\",\n      \"properties\": {\n        \"dtype\": \"number\",\n        \"std\": null,\n        \"min\": 0.9413531089355205,\n        \"max\": 0.9413531089355205,\n        \"num_unique_values\": 1,\n        \"samples\": [\n          0.9413531089355205\n        ],\n        \"semantic_type\": \"\",\n        \"description\": \"\"\n      }\n    },\n    {\n      \"column\": \"Precision_micro\",\n      \"properties\": {\n        \"dtype\": \"number\",\n        \"std\": null,\n        \"min\": 0.6965165376495426,\n        \"max\": 0.6965165376495426,\n        \"num_unique_values\": 1,\n        \"samples\": [\n          0.6965165376495426\n        ],\n        \"semantic_type\": \"\",\n        \"description\": \"\"\n      }\n    },\n    {\n      \"column\": \"Precision_macro\",\n      \"properties\": {\n        \"dtype\": \"number\",\n        \"std\": null,\n        \"min\": 0.6763906315822686,\n        \"max\": 0.6763906315822686,\n        \"num_unique_values\": 1,\n        \"samples\": [\n          0.6763906315822686\n        ],\n        \"semantic_type\": \"\",\n        \"description\": \"\"\n      }\n    },\n    {\n      \"column\": \"Recall_micro\",\n      \"properties\": {\n        \"dtype\": \"number\",\n        \"std\": null,\n        \"min\": 0.6965165376495426,\n        \"max\": 0.6965165376495426,\n        \"num_unique_values\": 1,\n        \"samples\": [\n          0.6965165376495426\n        ],\n        \"semantic_type\": \"\",\n        \"description\": \"\"\n      }\n    },\n    {\n      \"column\": \"Recall_macro\",\n      \"properties\": {\n        \"dtype\": \"number\",\n        \"std\": null,\n        \"min\": 0.5001566701719314,\n        \"max\": 0.5001566701719314,\n        \"num_unique_values\": 1,\n        \"samples\": [\n          0.5001566701719314\n        ],\n        \"semantic_type\": \"\",\n        \"description\": \"\"\n      }\n    },\n    {\n      \"column\": \"F1_micro\",\n      \"properties\": {\n        \"dtype\": \"number\",\n        \"std\": null,\n        \"min\": 0.6965165376495426,\n        \"max\": 0.6965165376495426,\n        \"num_unique_values\": 1,\n        \"samples\": [\n          0.6965165376495426\n        ],\n        \"semantic_type\": \"\",\n        \"description\": \"\"\n      }\n    },\n    {\n      \"column\": \"F1_macro\",\n      \"properties\": {\n        \"dtype\": \"number\",\n        \"std\": null,\n        \"min\": 0.5367983632563589,\n        \"max\": 0.5367983632563589,\n        \"num_unique_values\": 1,\n        \"samples\": [\n          0.5367983632563589\n        ],\n        \"semantic_type\": \"\",\n        \"description\": \"\"\n      }\n    },\n    {\n      \"column\": \"F1_weighted\",\n      \"properties\": {\n        \"dtype\": \"number\",\n        \"std\": null,\n        \"min\": 0.6799382362762878,\n        \"max\": 0.6799382362762878,\n        \"num_unique_values\": 1,\n        \"samples\": [\n          0.6799382362762878\n        ],\n        \"semantic_type\": \"\",\n        \"description\": \"\"\n      }\n    },\n    {\n      \"column\": \"Logloss\",\n      \"properties\": {\n        \"dtype\": \"number\",\n        \"std\": null,\n        \"min\": 6.181518909015978,\n        \"max\": 6.181518909015978,\n        \"num_unique_values\": 1,\n        \"samples\": [\n          6.181518909015978\n        ],\n        \"semantic_type\": \"\",\n        \"description\": \"\"\n      }\n    }\n  ]\n}"
            }
          },
          "metadata": {},
          "execution_count": 29
        }
      ],
      "source": [
        "y_pred_num = pipeline_ovr_lr.predict(X_test)\n",
        "y_score = pipeline_ovr_lr.decision_function(X_test)\n",
        "\n",
        "metrics = get_metrics_multiclass(y_test_bin=y_test_bin,\n",
        "                       y_test=y_test_num,\n",
        "                       y_pred=y_pred_num,\n",
        "                       y_prob=y_score,\n",
        "                       name='OVR_LogisticRegresstion_Tuned',\n",
        "                       type_multi='ovr'\n",
        ")\n",
        "metrics"
      ]
    },
    {
      "cell_type": "markdown",
      "metadata": {
        "id": "VpYsVOesYo1C"
      },
      "source": [
        "### RandomForest"
      ]
    },
    {
      "cell_type": "code",
      "execution_count": null,
      "metadata": {
        "id": "60IBk06_2yA_"
      },
      "outputs": [],
      "source": [
        "def fit_rand_forest_ovr(trial: optuna.trial,\n",
        "                        train: pd.DataFrame,\n",
        "                        val: pd.DataFrame,):\n",
        "    \"\"\"\n",
        "    Функция применения алгоритма\n",
        "    :param trial: standart optuna parameter\n",
        "    :type trial: optuna.trial\n",
        "    :param train: train dataframe\n",
        "    :type train: pandas.DataFrame\n",
        "    :param val: validation dataframe\n",
        "    :type val: pd.DataFrame\n",
        "\n",
        "    .. notes::\n",
        "    -----\n",
        "    Принимает объект trial из optuna, данные для обучения и валидации, алгоритм, параметры.\n",
        "    Алгоритм обучается и применяется.\n",
        "    Возвращает обученную модель и предсказанное значение для валидационной выборки\n",
        "\n",
        "    \"\"\"\n",
        "    X_train, y_train = train\n",
        "    X_val, y_val = val\n",
        "\n",
        "    param = {\"n_estimators\": trial.suggest_int(\"n_estimators\", 100, 300, step=50),\n",
        "             \"max_depth\": trial.suggest_int(\"max_depth\", 10, 100, step=15),\n",
        "            #  \"min_samples_split\": trial.suggest_float(\"min_samples_split\", .1, 1, step=.1),\n",
        "            #  \"min_samples_leaf\": trial.suggest_float(\"min_samples_leaf\", .1, .9, step=.1),\n",
        "             \"max_features\": trial.suggest_float(\"max_features\", .1, 1, step=.1),\n",
        "             'class_weight': 'balanced',\n",
        "             \"random_state\": RND_STATE,\n",
        "             'n_jobs': -1,\n",
        "             'verbose': 0\n",
        "    }\n",
        "\n",
        "    # print(f'params = {param}')\n",
        "\n",
        "    clf = RandomForestClassifier(**param)\n",
        "    ovr_clf = OneVsRestClassifier(clf)\n",
        "\n",
        "    ovr_clf.fit(X_train, y_train)\n",
        "\n",
        "    y_pred = ovr_clf.predict(X_val)\n",
        "    return ovr_clf, y_pred"
      ]
    },
    {
      "cell_type": "code",
      "execution_count": null,
      "metadata": {
        "id": "5OF0_isl2-C8"
      },
      "outputs": [],
      "source": [
        "def objective_rand_forest_ovr(trial: optuna.trial, return_models:bool=False):\n",
        "    '''\n",
        "    Функция рассчёта для поиска параметров при помощи optuna\n",
        "    :param trial: standart optuna parameter\n",
        "    :type trial: optuna.trial\n",
        "    :param return_models: parameter to return fitted model or not\n",
        "    :type return_models: bool, defaults to False\n",
        "\n",
        "    :rtype: float | tuple[float, Any]\n",
        "    :returns: mean value of f1_weighted metric on folds, model\n",
        "    .. notes::\n",
        "    -----\n",
        "    Принимает объект trial из optuna и булево значение для возможности возврата модели.\n",
        "\n",
        "    Разбиваем данные на фолды, и подаём в функцию fit algorithm_optuna на каждом разбиении.\n",
        "    '''\n",
        "    n_splits = 3\n",
        "    kf = KFold(n_splits=n_splits, shuffle=True, random_state=RND_STATE)\n",
        "\n",
        "    scores_simple_acc, scores_f1_weighted, models = [], [], []\n",
        "\n",
        "    for train_idx, valid_idx in kf.split(X_train.index):\n",
        "        train_data = X_train_preprocessed.iloc[train_idx], y_train_num[train_idx]\n",
        "        valid_data = X_train_preprocessed.iloc[valid_idx], y_train_num[valid_idx]\n",
        "\n",
        "        # Подаем trials для перебора\n",
        "        model, y_pred = fit_rand_forest_ovr(trial, train_data, valid_data)\n",
        "\n",
        "        # scores_simple_acc.append(accuracy_score(y_pred, valid_data[1]))\n",
        "        # scores_balanced_acc.append(balanced_accuracy_score(y_pred, valid_data[1]))\n",
        "        scores_f1_weighted.append(f1_score(y_pred, valid_data[1], average='weighted'))\n",
        "\n",
        "        models.append(model)\n",
        "        break\n",
        "\n",
        "    result = np.mean(scores_f1_weighted)\n",
        "    # print(f'result = {result}')\n",
        "\n",
        "    if return_models:\n",
        "        return result, models\n",
        "    else:\n",
        "        return result"
      ]
    },
    {
      "cell_type": "code",
      "execution_count": null,
      "metadata": {
        "id": "ZqgXNL-i3BO2"
      },
      "outputs": [],
      "source": [
        "# study = optuna.create_study(direction=\"maximize\",\n",
        "#                             pruner=optuna.pruners.MedianPruner(n_warmup_steps=5),\n",
        "#                             sampler=sampler,\n",
        "#                             study_name=\"OVR_Rand_For_clf\")\n",
        "# study.optimize(objective_rand_forest_ovr,\n",
        "#                n_trials=10,\n",
        "#                n_jobs=-1,\n",
        "#                show_progress_bar=True)"
      ]
    },
    {
      "cell_type": "code",
      "execution_count": null,
      "metadata": {
        "id": "vXDJ2a8t3Dgl"
      },
      "outputs": [],
      "source": [
        "params = {'n_estimators': 100,\n",
        "          'max_depth': 40, #85,\n",
        "          'max_features': 0.3,\n",
        "          'class_weight': 'balanced',\n",
        "          'random_state': 7575,\n",
        "          'n_jobs': -1,\n",
        "          'verbose': 0}"
      ]
    },
    {
      "cell_type": "code",
      "execution_count": null,
      "metadata": {
        "colab": {
          "base_uri": "https://localhost:8080/"
        },
        "id": "ZMXWR6023Fe-",
        "outputId": "93ad98c1-f908-473c-e0f0-f99f7ebf1e2e"
      },
      "outputs": [
        {
          "name": "stdout",
          "output_type": "stream",
          "text": [
            "               precision    recall  f1-score   support\n",
            "\n",
            "         авто       0.42      0.45      0.44       150\n",
            "       бизнес       0.34      0.49      0.40       401\n",
            "       власть       0.53      0.37      0.44       910\n",
            "        город       0.70      0.65      0.68      1949\n",
            "     общество       0.58      0.57      0.58      3315\n",
            "     политика       0.25      0.20      0.22       235\n",
            " происшествия       0.79      0.87      0.83      3769\n",
            "        спорт       0.93      0.67      0.78       393\n",
            "строительство       0.77      0.72      0.75       114\n",
            "      финансы       0.36      0.44      0.40       132\n",
            "\n",
            "     accuracy                           0.66     11368\n",
            "    macro avg       0.57      0.54      0.55     11368\n",
            " weighted avg       0.66      0.66      0.66     11368\n",
            "\n"
          ]
        }
      ],
      "source": [
        "preprocessor = Pipeline([\n",
        "    ('selector', CustomSelectColumns(selected_columns_1)),\n",
        "    ('preprocessor', CustomTransformer(True,\n",
        "                                       txt_feats='content_clean', split=True)),\n",
        "    ('tfidf', TfidfEmbeddingVectorizer(model, column='content_clean'))\n",
        "])\n",
        "\n",
        "\n",
        "clf = RandomForestClassifier(**params)\n",
        "ovr_clf = OneVsRestClassifier(clf, verbose=3)\n",
        "\n",
        "pipeline_ovr_rf = make_pipeline(preprocessor, ovr_clf)\n",
        "pipeline_ovr_rf.fit(X_train, y_train_num)\n",
        "y_pred_num = pipeline_ovr_rf.predict(X_test)\n",
        "print(classification_report(y_test_num, y_pred_num, target_names=le.classes_))"
      ]
    },
    {
      "cell_type": "code",
      "execution_count": null,
      "metadata": {
        "id": "Crlb2lcM3HeH"
      },
      "outputs": [],
      "source": [
        "# сохраняем модель в файл\n",
        "with open('pipeline_ovr_rf.pkl', 'wb') as file:\n",
        "    pickle.dump(pipeline_ovr_rf, file)"
      ]
    },
    {
      "cell_type": "code",
      "execution_count": 30,
      "metadata": {
        "colab": {
          "base_uri": "https://localhost:8080/",
          "height": 112
        },
        "id": "wEf3F0-jaR1P",
        "outputId": "c2dda796-9f2b-4bdb-e3b5-cc29230a7286"
      },
      "outputs": [
        {
          "output_type": "execute_result",
          "data": {
            "text/plain": [
              "                           model   ROC_AUC  Precision_micro  Precision_macro  \\\n",
              "0  OVR_LogisticRegresstion_Tuned  0.941353         0.696517         0.676391   \n",
              "0         OVR_RandomForest_Tuned  0.925151         0.659923         0.567086   \n",
              "\n",
              "   Recall_micro  Recall_macro  F1_micro  F1_macro  F1_weighted   Logloss  \n",
              "0      0.696517      0.500157  0.696517  0.536798     0.679938  6.181519  \n",
              "0      0.659923      0.543854  0.659923  0.549522     0.656548  1.147723  "
            ],
            "text/html": [
              "\n",
              "  <div id=\"df-95dffb24-8382-4033-b69e-60800981b384\" class=\"colab-df-container\">\n",
              "    <div>\n",
              "<style scoped>\n",
              "    .dataframe tbody tr th:only-of-type {\n",
              "        vertical-align: middle;\n",
              "    }\n",
              "\n",
              "    .dataframe tbody tr th {\n",
              "        vertical-align: top;\n",
              "    }\n",
              "\n",
              "    .dataframe thead th {\n",
              "        text-align: right;\n",
              "    }\n",
              "</style>\n",
              "<table border=\"1\" class=\"dataframe\">\n",
              "  <thead>\n",
              "    <tr style=\"text-align: right;\">\n",
              "      <th></th>\n",
              "      <th>model</th>\n",
              "      <th>ROC_AUC</th>\n",
              "      <th>Precision_micro</th>\n",
              "      <th>Precision_macro</th>\n",
              "      <th>Recall_micro</th>\n",
              "      <th>Recall_macro</th>\n",
              "      <th>F1_micro</th>\n",
              "      <th>F1_macro</th>\n",
              "      <th>F1_weighted</th>\n",
              "      <th>Logloss</th>\n",
              "    </tr>\n",
              "  </thead>\n",
              "  <tbody>\n",
              "    <tr>\n",
              "      <th>0</th>\n",
              "      <td>OVR_LogisticRegresstion_Tuned</td>\n",
              "      <td>0.941353</td>\n",
              "      <td>0.696517</td>\n",
              "      <td>0.676391</td>\n",
              "      <td>0.696517</td>\n",
              "      <td>0.500157</td>\n",
              "      <td>0.696517</td>\n",
              "      <td>0.536798</td>\n",
              "      <td>0.679938</td>\n",
              "      <td>6.181519</td>\n",
              "    </tr>\n",
              "    <tr>\n",
              "      <th>0</th>\n",
              "      <td>OVR_RandomForest_Tuned</td>\n",
              "      <td>0.925151</td>\n",
              "      <td>0.659923</td>\n",
              "      <td>0.567086</td>\n",
              "      <td>0.659923</td>\n",
              "      <td>0.543854</td>\n",
              "      <td>0.659923</td>\n",
              "      <td>0.549522</td>\n",
              "      <td>0.656548</td>\n",
              "      <td>1.147723</td>\n",
              "    </tr>\n",
              "  </tbody>\n",
              "</table>\n",
              "</div>\n",
              "    <div class=\"colab-df-buttons\">\n",
              "\n",
              "  <div class=\"colab-df-container\">\n",
              "    <button class=\"colab-df-convert\" onclick=\"convertToInteractive('df-95dffb24-8382-4033-b69e-60800981b384')\"\n",
              "            title=\"Convert this dataframe to an interactive table.\"\n",
              "            style=\"display:none;\">\n",
              "\n",
              "  <svg xmlns=\"http://www.w3.org/2000/svg\" height=\"24px\" viewBox=\"0 -960 960 960\">\n",
              "    <path d=\"M120-120v-720h720v720H120Zm60-500h600v-160H180v160Zm220 220h160v-160H400v160Zm0 220h160v-160H400v160ZM180-400h160v-160H180v160Zm440 0h160v-160H620v160ZM180-180h160v-160H180v160Zm440 0h160v-160H620v160Z\"/>\n",
              "  </svg>\n",
              "    </button>\n",
              "\n",
              "  <style>\n",
              "    .colab-df-container {\n",
              "      display:flex;\n",
              "      gap: 12px;\n",
              "    }\n",
              "\n",
              "    .colab-df-convert {\n",
              "      background-color: #E8F0FE;\n",
              "      border: none;\n",
              "      border-radius: 50%;\n",
              "      cursor: pointer;\n",
              "      display: none;\n",
              "      fill: #1967D2;\n",
              "      height: 32px;\n",
              "      padding: 0 0 0 0;\n",
              "      width: 32px;\n",
              "    }\n",
              "\n",
              "    .colab-df-convert:hover {\n",
              "      background-color: #E2EBFA;\n",
              "      box-shadow: 0px 1px 2px rgba(60, 64, 67, 0.3), 0px 1px 3px 1px rgba(60, 64, 67, 0.15);\n",
              "      fill: #174EA6;\n",
              "    }\n",
              "\n",
              "    .colab-df-buttons div {\n",
              "      margin-bottom: 4px;\n",
              "    }\n",
              "\n",
              "    [theme=dark] .colab-df-convert {\n",
              "      background-color: #3B4455;\n",
              "      fill: #D2E3FC;\n",
              "    }\n",
              "\n",
              "    [theme=dark] .colab-df-convert:hover {\n",
              "      background-color: #434B5C;\n",
              "      box-shadow: 0px 1px 3px 1px rgba(0, 0, 0, 0.15);\n",
              "      filter: drop-shadow(0px 1px 2px rgba(0, 0, 0, 0.3));\n",
              "      fill: #FFFFFF;\n",
              "    }\n",
              "  </style>\n",
              "\n",
              "    <script>\n",
              "      const buttonEl =\n",
              "        document.querySelector('#df-95dffb24-8382-4033-b69e-60800981b384 button.colab-df-convert');\n",
              "      buttonEl.style.display =\n",
              "        google.colab.kernel.accessAllowed ? 'block' : 'none';\n",
              "\n",
              "      async function convertToInteractive(key) {\n",
              "        const element = document.querySelector('#df-95dffb24-8382-4033-b69e-60800981b384');\n",
              "        const dataTable =\n",
              "          await google.colab.kernel.invokeFunction('convertToInteractive',\n",
              "                                                    [key], {});\n",
              "        if (!dataTable) return;\n",
              "\n",
              "        const docLinkHtml = 'Like what you see? Visit the ' +\n",
              "          '<a target=\"_blank\" href=https://colab.research.google.com/notebooks/data_table.ipynb>data table notebook</a>'\n",
              "          + ' to learn more about interactive tables.';\n",
              "        element.innerHTML = '';\n",
              "        dataTable['output_type'] = 'display_data';\n",
              "        await google.colab.output.renderOutput(dataTable, element);\n",
              "        const docLink = document.createElement('div');\n",
              "        docLink.innerHTML = docLinkHtml;\n",
              "        element.appendChild(docLink);\n",
              "      }\n",
              "    </script>\n",
              "  </div>\n",
              "\n",
              "\n",
              "<div id=\"df-506620d5-302b-4d51-b7ac-2c1a8c132d63\">\n",
              "  <button class=\"colab-df-quickchart\" onclick=\"quickchart('df-506620d5-302b-4d51-b7ac-2c1a8c132d63')\"\n",
              "            title=\"Suggest charts\"\n",
              "            style=\"display:none;\">\n",
              "\n",
              "<svg xmlns=\"http://www.w3.org/2000/svg\" height=\"24px\"viewBox=\"0 0 24 24\"\n",
              "     width=\"24px\">\n",
              "    <g>\n",
              "        <path d=\"M19 3H5c-1.1 0-2 .9-2 2v14c0 1.1.9 2 2 2h14c1.1 0 2-.9 2-2V5c0-1.1-.9-2-2-2zM9 17H7v-7h2v7zm4 0h-2V7h2v10zm4 0h-2v-4h2v4z\"/>\n",
              "    </g>\n",
              "</svg>\n",
              "  </button>\n",
              "\n",
              "<style>\n",
              "  .colab-df-quickchart {\n",
              "      --bg-color: #E8F0FE;\n",
              "      --fill-color: #1967D2;\n",
              "      --hover-bg-color: #E2EBFA;\n",
              "      --hover-fill-color: #174EA6;\n",
              "      --disabled-fill-color: #AAA;\n",
              "      --disabled-bg-color: #DDD;\n",
              "  }\n",
              "\n",
              "  [theme=dark] .colab-df-quickchart {\n",
              "      --bg-color: #3B4455;\n",
              "      --fill-color: #D2E3FC;\n",
              "      --hover-bg-color: #434B5C;\n",
              "      --hover-fill-color: #FFFFFF;\n",
              "      --disabled-bg-color: #3B4455;\n",
              "      --disabled-fill-color: #666;\n",
              "  }\n",
              "\n",
              "  .colab-df-quickchart {\n",
              "    background-color: var(--bg-color);\n",
              "    border: none;\n",
              "    border-radius: 50%;\n",
              "    cursor: pointer;\n",
              "    display: none;\n",
              "    fill: var(--fill-color);\n",
              "    height: 32px;\n",
              "    padding: 0;\n",
              "    width: 32px;\n",
              "  }\n",
              "\n",
              "  .colab-df-quickchart:hover {\n",
              "    background-color: var(--hover-bg-color);\n",
              "    box-shadow: 0 1px 2px rgba(60, 64, 67, 0.3), 0 1px 3px 1px rgba(60, 64, 67, 0.15);\n",
              "    fill: var(--button-hover-fill-color);\n",
              "  }\n",
              "\n",
              "  .colab-df-quickchart-complete:disabled,\n",
              "  .colab-df-quickchart-complete:disabled:hover {\n",
              "    background-color: var(--disabled-bg-color);\n",
              "    fill: var(--disabled-fill-color);\n",
              "    box-shadow: none;\n",
              "  }\n",
              "\n",
              "  .colab-df-spinner {\n",
              "    border: 2px solid var(--fill-color);\n",
              "    border-color: transparent;\n",
              "    border-bottom-color: var(--fill-color);\n",
              "    animation:\n",
              "      spin 1s steps(1) infinite;\n",
              "  }\n",
              "\n",
              "  @keyframes spin {\n",
              "    0% {\n",
              "      border-color: transparent;\n",
              "      border-bottom-color: var(--fill-color);\n",
              "      border-left-color: var(--fill-color);\n",
              "    }\n",
              "    20% {\n",
              "      border-color: transparent;\n",
              "      border-left-color: var(--fill-color);\n",
              "      border-top-color: var(--fill-color);\n",
              "    }\n",
              "    30% {\n",
              "      border-color: transparent;\n",
              "      border-left-color: var(--fill-color);\n",
              "      border-top-color: var(--fill-color);\n",
              "      border-right-color: var(--fill-color);\n",
              "    }\n",
              "    40% {\n",
              "      border-color: transparent;\n",
              "      border-right-color: var(--fill-color);\n",
              "      border-top-color: var(--fill-color);\n",
              "    }\n",
              "    60% {\n",
              "      border-color: transparent;\n",
              "      border-right-color: var(--fill-color);\n",
              "    }\n",
              "    80% {\n",
              "      border-color: transparent;\n",
              "      border-right-color: var(--fill-color);\n",
              "      border-bottom-color: var(--fill-color);\n",
              "    }\n",
              "    90% {\n",
              "      border-color: transparent;\n",
              "      border-bottom-color: var(--fill-color);\n",
              "    }\n",
              "  }\n",
              "</style>\n",
              "\n",
              "  <script>\n",
              "    async function quickchart(key) {\n",
              "      const quickchartButtonEl =\n",
              "        document.querySelector('#' + key + ' button');\n",
              "      quickchartButtonEl.disabled = true;  // To prevent multiple clicks.\n",
              "      quickchartButtonEl.classList.add('colab-df-spinner');\n",
              "      try {\n",
              "        const charts = await google.colab.kernel.invokeFunction(\n",
              "            'suggestCharts', [key], {});\n",
              "      } catch (error) {\n",
              "        console.error('Error during call to suggestCharts:', error);\n",
              "      }\n",
              "      quickchartButtonEl.classList.remove('colab-df-spinner');\n",
              "      quickchartButtonEl.classList.add('colab-df-quickchart-complete');\n",
              "    }\n",
              "    (() => {\n",
              "      let quickchartButtonEl =\n",
              "        document.querySelector('#df-506620d5-302b-4d51-b7ac-2c1a8c132d63 button');\n",
              "      quickchartButtonEl.style.display =\n",
              "        google.colab.kernel.accessAllowed ? 'block' : 'none';\n",
              "    })();\n",
              "  </script>\n",
              "</div>\n",
              "    </div>\n",
              "  </div>\n"
            ],
            "application/vnd.google.colaboratory.intrinsic+json": {
              "type": "dataframe",
              "variable_name": "metrics",
              "summary": "{\n  \"name\": \"metrics\",\n  \"rows\": 2,\n  \"fields\": [\n    {\n      \"column\": \"model\",\n      \"properties\": {\n        \"dtype\": \"string\",\n        \"num_unique_values\": 2,\n        \"samples\": [\n          \"OVR_RandomForest_Tuned\",\n          \"OVR_LogisticRegresstion_Tuned\"\n        ],\n        \"semantic_type\": \"\",\n        \"description\": \"\"\n      }\n    },\n    {\n      \"column\": \"ROC_AUC\",\n      \"properties\": {\n        \"dtype\": \"number\",\n        \"std\": 0.011456887542502856,\n        \"min\": 0.9251506231903296,\n        \"max\": 0.9413531089355205,\n        \"num_unique_values\": 2,\n        \"samples\": [\n          0.9251506231903296,\n          0.9413531089355205\n        ],\n        \"semantic_type\": \"\",\n        \"description\": \"\"\n      }\n    },\n    {\n      \"column\": \"Precision_micro\",\n      \"properties\": {\n        \"dtype\": \"number\",\n        \"std\": 0.025875828727445784,\n        \"min\": 0.6599225897255454,\n        \"max\": 0.6965165376495426,\n        \"num_unique_values\": 2,\n        \"samples\": [\n          0.6599225897255454,\n          0.6965165376495426\n        ],\n        \"semantic_type\": \"\",\n        \"description\": \"\"\n      }\n    },\n    {\n      \"column\": \"Precision_macro\",\n      \"properties\": {\n        \"dtype\": \"number\",\n        \"std\": 0.07729007404292276,\n        \"min\": 0.5670859606339466,\n        \"max\": 0.6763906315822686,\n        \"num_unique_values\": 2,\n        \"samples\": [\n          0.5670859606339466,\n          0.6763906315822686\n        ],\n        \"semantic_type\": \"\",\n        \"description\": \"\"\n      }\n    },\n    {\n      \"column\": \"Recall_micro\",\n      \"properties\": {\n        \"dtype\": \"number\",\n        \"std\": 0.025875828727445784,\n        \"min\": 0.6599225897255454,\n        \"max\": 0.6965165376495426,\n        \"num_unique_values\": 2,\n        \"samples\": [\n          0.6599225897255454,\n          0.6965165376495426\n        ],\n        \"semantic_type\": \"\",\n        \"description\": \"\"\n      }\n    },\n    {\n      \"column\": \"Recall_macro\",\n      \"properties\": {\n        \"dtype\": \"number\",\n        \"std\": 0.030898907250867125,\n        \"min\": 0.5001566701719314,\n        \"max\": 0.5438543238686161,\n        \"num_unique_values\": 2,\n        \"samples\": [\n          0.5438543238686161,\n          0.5001566701719314\n        ],\n        \"semantic_type\": \"\",\n        \"description\": \"\"\n      }\n    },\n    {\n      \"column\": \"F1_micro\",\n      \"properties\": {\n        \"dtype\": \"number\",\n        \"std\": 0.025875828727445784,\n        \"min\": 0.6599225897255454,\n        \"max\": 0.6965165376495426,\n        \"num_unique_values\": 2,\n        \"samples\": [\n          0.6599225897255454,\n          0.6965165376495426\n        ],\n        \"semantic_type\": \"\",\n        \"description\": \"\"\n      }\n    },\n    {\n      \"column\": \"F1_macro\",\n      \"properties\": {\n        \"dtype\": \"number\",\n        \"std\": 0.008996800091651734,\n        \"min\": 0.5367983632563589,\n        \"max\": 0.5495217599639323,\n        \"num_unique_values\": 2,\n        \"samples\": [\n          0.5495217599639323,\n          0.5367983632563589\n        ],\n        \"semantic_type\": \"\",\n        \"description\": \"\"\n      }\n    },\n    {\n      \"column\": \"F1_weighted\",\n      \"properties\": {\n        \"dtype\": \"number\",\n        \"std\": 0.016539554728280427,\n        \"min\": 0.6565477736639416,\n        \"max\": 0.6799382362762878,\n        \"num_unique_values\": 2,\n        \"samples\": [\n          0.6565477736639416,\n          0.6799382362762878\n        ],\n        \"semantic_type\": \"\",\n        \"description\": \"\"\n      }\n    },\n    {\n      \"column\": \"Logloss\",\n      \"properties\": {\n        \"dtype\": \"number\",\n        \"std\": 3.559431280290349,\n        \"min\": 1.1477229180943367,\n        \"max\": 6.181518909015978,\n        \"num_unique_values\": 2,\n        \"samples\": [\n          1.1477229180943367,\n          6.181518909015978\n        ],\n        \"semantic_type\": \"\",\n        \"description\": \"\"\n      }\n    }\n  ]\n}"
            }
          },
          "metadata": {},
          "execution_count": 30
        }
      ],
      "source": [
        "y_pred_num = pipeline_ovr_rf.predict(X_test)\n",
        "y_score = pipeline_ovr_rf.predict_proba(X_test)\n",
        "\n",
        "metrics = pd.concat([\n",
        "    metrics,\n",
        "    get_metrics_multiclass(y_test_bin=y_test_bin,\n",
        "                       y_test=y_test_num,\n",
        "                       y_pred=y_pred_num,\n",
        "                       y_prob=y_score,\n",
        "                       name='OVR_RandomForest_Tuned',\n",
        "                       type_multi='ovr')\n",
        "])\n",
        "\n",
        "metrics"
      ]
    },
    {
      "cell_type": "code",
      "execution_count": null,
      "metadata": {
        "id": "-iBQYKe-lQ1o"
      },
      "outputs": [],
      "source": [
        "# import joblib\n",
        "\n",
        "# # сохраняем модель в файл\n",
        "# joblib.dump(pipeline_ovr_rf, 'model_ovr_rf_t.joblib')"
      ]
    },
    {
      "cell_type": "markdown",
      "metadata": {
        "id": "TrEVPnabV1Ye"
      },
      "source": [
        "## Catboost"
      ]
    },
    {
      "cell_type": "code",
      "execution_count": null,
      "metadata": {
        "id": "-Bhm___NV3rk"
      },
      "outputs": [],
      "source": [
        "def fit_catboost_simple(trial, train, val):\n",
        "    \"\"\"\n",
        "    Функция применения алгоритма\n",
        "    :param trial: standart optuna parameter\n",
        "    :type trial: optuna.trial\n",
        "    :param train: train dataframe\n",
        "    :type train: pandas.DataFrame\n",
        "    :param val: validation dataframe\n",
        "    :type val: pd.DataFrame\n",
        "\n",
        "    .. notes::\n",
        "    -----\n",
        "    Принимает объект trial из optuna, данные для обучения и валидации, алгоритм, параметры.\n",
        "    Алгоритм обучается и применяется.\n",
        "    Возвращает обученную модель и предсказанное значение для валидационной выборки\n",
        "    \"\"\"\n",
        "    X_train, y_train = train\n",
        "    X_val, y_val = val\n",
        "\n",
        "    param = {\n",
        "        'iterations' : 500,\n",
        "        \"learning_rate\": trial.suggest_float(\"learning_rate\", 0.01, 0.04, step=0.001),\n",
        "        \"l2_leaf_reg\": trial.suggest_int(\"l2_leaf_reg\", 30, 70, step=10),\n",
        "        \"colsample_bylevel\": trial.suggest_float(\"colsample_bylevel\", 0.3, 0.4, step=0.1),\n",
        "        \"auto_class_weights\": trial.suggest_categorical(\"auto_class_weights\",\n",
        "                                                        [\"SqrtBalanced\",\n",
        "                                                         \"Balanced\",\n",
        "                                                         \"None\"]),\n",
        "        \"depth\": trial.suggest_int(\"depth\", 9, 10),\n",
        "        \"boosting_type\": trial.suggest_categorical(\"boosting_type\", [#\"Ordered\",\n",
        "                                                                     \"Plain\"]),\n",
        "        \"bootstrap_type\": trial.suggest_categorical(\"bootstrap_type\",\n",
        "                                                              [#\"Bayesian\",\n",
        "                                                               \"Bernoulli\",\n",
        "                                                               #\"MVS\"\n",
        "                                                               ]),\n",
        "        \"used_ram_limit\": \"10gb\",\n",
        "        \"eval_metric\": \"TotalF1\",\n",
        "        'loss_function': 'MultiClass',\n",
        "        \"random_state\": RND_STATE,\n",
        "        'verbose': False\n",
        "    }\n",
        "\n",
        "\n",
        "    if param[\"bootstrap_type\"] == \"Bayesian\":\n",
        "        param[\"bagging_temperature\"] = trial.suggest_float(\"bagging_temperature\", 0, 10)\n",
        "\n",
        "    elif param[\"bootstrap_type\"] == \"Bernoulli\":\n",
        "        param[\"subsample\"] = trial.suggest_float(\"subsample\", 0.1, 1)\n",
        "\n",
        "\n",
        "    clf = CatBoostClassifier(**param)\n",
        "    #  Создаем объект callback\n",
        "    pruning_callback = CatBoostPruningCallback(trial, \"TotalF1\")\n",
        "\n",
        "    clf.fit(\n",
        "        X_train,\n",
        "        y_train,\n",
        "        eval_set=(X_val, y_val),\n",
        "        verbose=0,\n",
        "        plot=False,\n",
        "        early_stopping_rounds=5,\n",
        "        callbacks=[pruning_callback],\n",
        "    )\n",
        "\n",
        "    # запускаем процесс прунинга\n",
        "    pruning_callback.check_pruned()\n",
        "    y_pred = clf.predict(X_val)\n",
        "\n",
        "    return clf, y_pred"
      ]
    },
    {
      "cell_type": "code",
      "execution_count": null,
      "metadata": {
        "id": "_AXYrsQzWUb5"
      },
      "outputs": [],
      "source": [
        "def objective_catboost(trial, return_models=False):\n",
        "    '''\n",
        "    Функция рассчёта для поиска параметров при помощи optuna\n",
        "    :param trial: standart optuna parameter\n",
        "    :type trial: optuna.trial\n",
        "    :param return_models: parameter to return fitted model or not\n",
        "    :type return_models: bool, defaults to False\n",
        "\n",
        "    :rtype: float | tuple[float, Any]\n",
        "    :returns: mean value of f1_weighted metric on folds, model\n",
        "    .. notes::\n",
        "    -----\n",
        "    Принимает объект trial из optuna и булево значение для возможности возврата модели.\n",
        "\n",
        "    Разбиваем данные на фолды, и подаём в функцию fit algorithm_optuna на каждом разбиении.\n",
        "    '''\n",
        "    n_splits = 3\n",
        "    kf = KFold(n_splits=n_splits, shuffle=True, random_state=RND_STATE)\n",
        "\n",
        "    scores_simple_acc, scores_f1_weighted, models = [], [], []\n",
        "\n",
        "    for train_idx, valid_idx in kf.split(X_train.index):\n",
        "        train_data = X_train_preprocessed.iloc[train_idx], y_train_num[train_idx]\n",
        "        valid_data = X_train_preprocessed.iloc[valid_idx], y_train_num[valid_idx]\n",
        "        # Подаем trials для перебора\n",
        "        model, y_pred = fit_catboost_simple(trial, train_data, valid_data) # Определили выше\n",
        "\n",
        "        # scores_simple_acc.append(accuracy_score(y_pred, valid_data[1]))\n",
        "        # scores_balanced_acc.append(balanced_accuracy_score(y_pred, valid_data[1]))\n",
        "        scores_f1_weighted.append(f1_score(y_pred, valid_data[1], average='weighted'))\n",
        "        models.append(model)\n",
        "        break\n",
        "\n",
        "    result = np.mean(scores_f1_weighted)\n",
        "    # result = scores_balanced_acc\n",
        "    # print(f'result = {result}')\n",
        "\n",
        "    if return_models:\n",
        "        return result, models\n",
        "    else:\n",
        "        return result"
      ]
    },
    {
      "cell_type": "code",
      "execution_count": null,
      "metadata": {
        "id": "nCVyIVV6WZ7M"
      },
      "outputs": [],
      "source": [
        "optuna.logging.set_verbosity(optuna.logging.WARNING)\n",
        "# optuna.logging.set_verbosity(optuna.logging.ERROR)"
      ]
    },
    {
      "cell_type": "code",
      "execution_count": null,
      "metadata": {
        "id": "_q5UHEglWbbV"
      },
      "outputs": [],
      "source": [
        "# study = optuna.create_study(direction=\"maximize\",\n",
        "#                             pruner=optuna.pruners.MedianPruner(n_warmup_steps=5),\n",
        "#                             study_name=\"Catboost_clf_simple\",\n",
        "#                             sampler=sampler)\n",
        "# study.optimize(objective_catboost,\n",
        "#                n_trials=40,\n",
        "#                n_jobs=-1,\n",
        "#                show_progress_bar=True)"
      ]
    },
    {
      "cell_type": "code",
      "execution_count": null,
      "metadata": {
        "id": "IahVZmfwwlxp"
      },
      "outputs": [],
      "source": [
        "params = {'learning_rate': 0.039,\n",
        " 'l2_leaf_reg': 50,\n",
        " 'colsample_bylevel': 0.4,\n",
        " 'auto_class_weights': 'None',\n",
        " 'depth': 9,\n",
        " 'boosting_type': 'Plain',\n",
        " 'bootstrap_type': 'Bernoulli',\n",
        " 'subsample': 0.5151799330278385,\n",
        " 'verbose': 50}"
      ]
    },
    {
      "cell_type": "code",
      "execution_count": null,
      "metadata": {
        "colab": {
          "base_uri": "https://localhost:8080/"
        },
        "id": "2BuqkEf6wxsv",
        "outputId": "c4173206-9a1b-4adc-b7b9-881dca0017eb"
      },
      "outputs": [
        {
          "name": "stdout",
          "output_type": "stream",
          "text": [
            "0:\tlearn: 2.2039052\ttotal: 3.46s\tremaining: 57m 36s\n",
            "50:\tlearn: 1.1405474\ttotal: 2m 37s\tremaining: 48m 54s\n",
            "100:\tlearn: 0.9950061\ttotal: 4m 47s\tremaining: 42m 39s\n",
            "150:\tlearn: 0.9382543\ttotal: 7m 10s\tremaining: 40m 18s\n",
            "200:\tlearn: 0.9042412\ttotal: 9m 36s\tremaining: 38m 11s\n",
            "250:\tlearn: 0.8800825\ttotal: 11m 41s\tremaining: 34m 54s\n",
            "300:\tlearn: 0.8590725\ttotal: 13m 55s\tremaining: 32m 19s\n",
            "350:\tlearn: 0.8410965\ttotal: 16m 3s\tremaining: 29m 41s\n",
            "400:\tlearn: 0.8255621\ttotal: 18m 11s\tremaining: 27m 10s\n",
            "450:\tlearn: 0.8117966\ttotal: 20m 20s\tremaining: 24m 45s\n",
            "500:\tlearn: 0.7998348\ttotal: 22m 29s\tremaining: 22m 23s\n",
            "550:\tlearn: 0.7893289\ttotal: 24m 38s\tremaining: 20m 4s\n",
            "600:\tlearn: 0.7804033\ttotal: 26m 46s\tremaining: 17m 46s\n",
            "650:\tlearn: 0.7717612\ttotal: 28m 58s\tremaining: 15m 31s\n",
            "700:\tlearn: 0.7641109\ttotal: 31m 4s\tremaining: 13m 15s\n",
            "750:\tlearn: 0.7560398\ttotal: 33m 15s\tremaining: 11m 1s\n",
            "800:\tlearn: 0.7491330\ttotal: 35m 23s\tremaining: 8m 47s\n",
            "850:\tlearn: 0.7425900\ttotal: 37m 29s\tremaining: 6m 33s\n",
            "900:\tlearn: 0.7359501\ttotal: 39m 37s\tremaining: 4m 21s\n",
            "950:\tlearn: 0.7297255\ttotal: 41m 46s\tremaining: 2m 9s\n",
            "999:\tlearn: 0.7238296\ttotal: 43m 51s\tremaining: 0us\n",
            "               precision    recall  f1-score   support\n",
            "\n",
            "         авто       0.80      0.11      0.19       150\n",
            "       бизнес       0.48      0.31      0.38       401\n",
            "       власть       0.55      0.36      0.44       910\n",
            "        город       0.69      0.70      0.70      1949\n",
            "     общество       0.57      0.67      0.61      3315\n",
            "     политика       0.60      0.10      0.17       235\n",
            " происшествия       0.79      0.87      0.83      3769\n",
            "        спорт       0.91      0.66      0.77       393\n",
            "строительство       0.85      0.62      0.72       114\n",
            "      финансы       0.47      0.31      0.37       132\n",
            "\n",
            "     accuracy                           0.68     11368\n",
            "    macro avg       0.67      0.47      0.52     11368\n",
            " weighted avg       0.68      0.68      0.67     11368\n",
            "\n"
          ]
        }
      ],
      "source": [
        "preprocessor = Pipeline([\n",
        "    ('selector', CustomSelectColumns(selected_columns_1)),\n",
        "    ('preprocessor', CustomTransformer(True, txt_feats='content_clean', split=True)),\n",
        "    ('tfidf', TfidfEmbeddingVectorizer(model, column='content_clean'))\n",
        "])\n",
        "\n",
        "\n",
        "clf = CatBoostClassifier(**params)\n",
        "\n",
        "pipeline_catboost = make_pipeline(preprocessor, clf)\n",
        "pipeline_catboost.fit(X_train, y_train_num)\n",
        "y_pred_num = pipeline_catboost.predict(X_test)\n",
        "print(classification_report(y_test_num, y_pred_num, target_names=le.classes_))"
      ]
    },
    {
      "cell_type": "code",
      "execution_count": 31,
      "metadata": {
        "colab": {
          "base_uri": "https://localhost:8080/",
          "height": 143
        },
        "id": "uqhO1Mz2o4Dh",
        "outputId": "9ac9bea8-eb18-417a-cc14-6156c366c49c"
      },
      "outputs": [
        {
          "output_type": "execute_result",
          "data": {
            "text/plain": [
              "                           model   ROC_AUC  Precision_micro  Precision_macro  \\\n",
              "0  OVR_LogisticRegresstion_Tuned  0.941353         0.696517         0.676391   \n",
              "0         OVR_RandomForest_Tuned  0.925151         0.659923         0.567086   \n",
              "0          Catboost_simple_Tuned  0.935875         0.679627         0.671470   \n",
              "\n",
              "   Recall_micro  Recall_macro  F1_micro  F1_macro  F1_weighted   Logloss  \n",
              "0      0.696517      0.500157  0.696517  0.536798     0.679938  6.181519  \n",
              "0      0.659923      0.543854  0.659923  0.549522     0.656548  1.147723  \n",
              "0      0.679627      0.471568  0.679627  0.517719     0.666233  0.859879  "
            ],
            "text/html": [
              "\n",
              "  <div id=\"df-7c025641-e3e2-4a54-a07f-c5b040c0f7ee\" class=\"colab-df-container\">\n",
              "    <div>\n",
              "<style scoped>\n",
              "    .dataframe tbody tr th:only-of-type {\n",
              "        vertical-align: middle;\n",
              "    }\n",
              "\n",
              "    .dataframe tbody tr th {\n",
              "        vertical-align: top;\n",
              "    }\n",
              "\n",
              "    .dataframe thead th {\n",
              "        text-align: right;\n",
              "    }\n",
              "</style>\n",
              "<table border=\"1\" class=\"dataframe\">\n",
              "  <thead>\n",
              "    <tr style=\"text-align: right;\">\n",
              "      <th></th>\n",
              "      <th>model</th>\n",
              "      <th>ROC_AUC</th>\n",
              "      <th>Precision_micro</th>\n",
              "      <th>Precision_macro</th>\n",
              "      <th>Recall_micro</th>\n",
              "      <th>Recall_macro</th>\n",
              "      <th>F1_micro</th>\n",
              "      <th>F1_macro</th>\n",
              "      <th>F1_weighted</th>\n",
              "      <th>Logloss</th>\n",
              "    </tr>\n",
              "  </thead>\n",
              "  <tbody>\n",
              "    <tr>\n",
              "      <th>0</th>\n",
              "      <td>OVR_LogisticRegresstion_Tuned</td>\n",
              "      <td>0.941353</td>\n",
              "      <td>0.696517</td>\n",
              "      <td>0.676391</td>\n",
              "      <td>0.696517</td>\n",
              "      <td>0.500157</td>\n",
              "      <td>0.696517</td>\n",
              "      <td>0.536798</td>\n",
              "      <td>0.679938</td>\n",
              "      <td>6.181519</td>\n",
              "    </tr>\n",
              "    <tr>\n",
              "      <th>0</th>\n",
              "      <td>OVR_RandomForest_Tuned</td>\n",
              "      <td>0.925151</td>\n",
              "      <td>0.659923</td>\n",
              "      <td>0.567086</td>\n",
              "      <td>0.659923</td>\n",
              "      <td>0.543854</td>\n",
              "      <td>0.659923</td>\n",
              "      <td>0.549522</td>\n",
              "      <td>0.656548</td>\n",
              "      <td>1.147723</td>\n",
              "    </tr>\n",
              "    <tr>\n",
              "      <th>0</th>\n",
              "      <td>Catboost_simple_Tuned</td>\n",
              "      <td>0.935875</td>\n",
              "      <td>0.679627</td>\n",
              "      <td>0.671470</td>\n",
              "      <td>0.679627</td>\n",
              "      <td>0.471568</td>\n",
              "      <td>0.679627</td>\n",
              "      <td>0.517719</td>\n",
              "      <td>0.666233</td>\n",
              "      <td>0.859879</td>\n",
              "    </tr>\n",
              "  </tbody>\n",
              "</table>\n",
              "</div>\n",
              "    <div class=\"colab-df-buttons\">\n",
              "\n",
              "  <div class=\"colab-df-container\">\n",
              "    <button class=\"colab-df-convert\" onclick=\"convertToInteractive('df-7c025641-e3e2-4a54-a07f-c5b040c0f7ee')\"\n",
              "            title=\"Convert this dataframe to an interactive table.\"\n",
              "            style=\"display:none;\">\n",
              "\n",
              "  <svg xmlns=\"http://www.w3.org/2000/svg\" height=\"24px\" viewBox=\"0 -960 960 960\">\n",
              "    <path d=\"M120-120v-720h720v720H120Zm60-500h600v-160H180v160Zm220 220h160v-160H400v160Zm0 220h160v-160H400v160ZM180-400h160v-160H180v160Zm440 0h160v-160H620v160ZM180-180h160v-160H180v160Zm440 0h160v-160H620v160Z\"/>\n",
              "  </svg>\n",
              "    </button>\n",
              "\n",
              "  <style>\n",
              "    .colab-df-container {\n",
              "      display:flex;\n",
              "      gap: 12px;\n",
              "    }\n",
              "\n",
              "    .colab-df-convert {\n",
              "      background-color: #E8F0FE;\n",
              "      border: none;\n",
              "      border-radius: 50%;\n",
              "      cursor: pointer;\n",
              "      display: none;\n",
              "      fill: #1967D2;\n",
              "      height: 32px;\n",
              "      padding: 0 0 0 0;\n",
              "      width: 32px;\n",
              "    }\n",
              "\n",
              "    .colab-df-convert:hover {\n",
              "      background-color: #E2EBFA;\n",
              "      box-shadow: 0px 1px 2px rgba(60, 64, 67, 0.3), 0px 1px 3px 1px rgba(60, 64, 67, 0.15);\n",
              "      fill: #174EA6;\n",
              "    }\n",
              "\n",
              "    .colab-df-buttons div {\n",
              "      margin-bottom: 4px;\n",
              "    }\n",
              "\n",
              "    [theme=dark] .colab-df-convert {\n",
              "      background-color: #3B4455;\n",
              "      fill: #D2E3FC;\n",
              "    }\n",
              "\n",
              "    [theme=dark] .colab-df-convert:hover {\n",
              "      background-color: #434B5C;\n",
              "      box-shadow: 0px 1px 3px 1px rgba(0, 0, 0, 0.15);\n",
              "      filter: drop-shadow(0px 1px 2px rgba(0, 0, 0, 0.3));\n",
              "      fill: #FFFFFF;\n",
              "    }\n",
              "  </style>\n",
              "\n",
              "    <script>\n",
              "      const buttonEl =\n",
              "        document.querySelector('#df-7c025641-e3e2-4a54-a07f-c5b040c0f7ee button.colab-df-convert');\n",
              "      buttonEl.style.display =\n",
              "        google.colab.kernel.accessAllowed ? 'block' : 'none';\n",
              "\n",
              "      async function convertToInteractive(key) {\n",
              "        const element = document.querySelector('#df-7c025641-e3e2-4a54-a07f-c5b040c0f7ee');\n",
              "        const dataTable =\n",
              "          await google.colab.kernel.invokeFunction('convertToInteractive',\n",
              "                                                    [key], {});\n",
              "        if (!dataTable) return;\n",
              "\n",
              "        const docLinkHtml = 'Like what you see? Visit the ' +\n",
              "          '<a target=\"_blank\" href=https://colab.research.google.com/notebooks/data_table.ipynb>data table notebook</a>'\n",
              "          + ' to learn more about interactive tables.';\n",
              "        element.innerHTML = '';\n",
              "        dataTable['output_type'] = 'display_data';\n",
              "        await google.colab.output.renderOutput(dataTable, element);\n",
              "        const docLink = document.createElement('div');\n",
              "        docLink.innerHTML = docLinkHtml;\n",
              "        element.appendChild(docLink);\n",
              "      }\n",
              "    </script>\n",
              "  </div>\n",
              "\n",
              "\n",
              "<div id=\"df-c8182139-033d-49e6-98d0-b52d940b37f2\">\n",
              "  <button class=\"colab-df-quickchart\" onclick=\"quickchart('df-c8182139-033d-49e6-98d0-b52d940b37f2')\"\n",
              "            title=\"Suggest charts\"\n",
              "            style=\"display:none;\">\n",
              "\n",
              "<svg xmlns=\"http://www.w3.org/2000/svg\" height=\"24px\"viewBox=\"0 0 24 24\"\n",
              "     width=\"24px\">\n",
              "    <g>\n",
              "        <path d=\"M19 3H5c-1.1 0-2 .9-2 2v14c0 1.1.9 2 2 2h14c1.1 0 2-.9 2-2V5c0-1.1-.9-2-2-2zM9 17H7v-7h2v7zm4 0h-2V7h2v10zm4 0h-2v-4h2v4z\"/>\n",
              "    </g>\n",
              "</svg>\n",
              "  </button>\n",
              "\n",
              "<style>\n",
              "  .colab-df-quickchart {\n",
              "      --bg-color: #E8F0FE;\n",
              "      --fill-color: #1967D2;\n",
              "      --hover-bg-color: #E2EBFA;\n",
              "      --hover-fill-color: #174EA6;\n",
              "      --disabled-fill-color: #AAA;\n",
              "      --disabled-bg-color: #DDD;\n",
              "  }\n",
              "\n",
              "  [theme=dark] .colab-df-quickchart {\n",
              "      --bg-color: #3B4455;\n",
              "      --fill-color: #D2E3FC;\n",
              "      --hover-bg-color: #434B5C;\n",
              "      --hover-fill-color: #FFFFFF;\n",
              "      --disabled-bg-color: #3B4455;\n",
              "      --disabled-fill-color: #666;\n",
              "  }\n",
              "\n",
              "  .colab-df-quickchart {\n",
              "    background-color: var(--bg-color);\n",
              "    border: none;\n",
              "    border-radius: 50%;\n",
              "    cursor: pointer;\n",
              "    display: none;\n",
              "    fill: var(--fill-color);\n",
              "    height: 32px;\n",
              "    padding: 0;\n",
              "    width: 32px;\n",
              "  }\n",
              "\n",
              "  .colab-df-quickchart:hover {\n",
              "    background-color: var(--hover-bg-color);\n",
              "    box-shadow: 0 1px 2px rgba(60, 64, 67, 0.3), 0 1px 3px 1px rgba(60, 64, 67, 0.15);\n",
              "    fill: var(--button-hover-fill-color);\n",
              "  }\n",
              "\n",
              "  .colab-df-quickchart-complete:disabled,\n",
              "  .colab-df-quickchart-complete:disabled:hover {\n",
              "    background-color: var(--disabled-bg-color);\n",
              "    fill: var(--disabled-fill-color);\n",
              "    box-shadow: none;\n",
              "  }\n",
              "\n",
              "  .colab-df-spinner {\n",
              "    border: 2px solid var(--fill-color);\n",
              "    border-color: transparent;\n",
              "    border-bottom-color: var(--fill-color);\n",
              "    animation:\n",
              "      spin 1s steps(1) infinite;\n",
              "  }\n",
              "\n",
              "  @keyframes spin {\n",
              "    0% {\n",
              "      border-color: transparent;\n",
              "      border-bottom-color: var(--fill-color);\n",
              "      border-left-color: var(--fill-color);\n",
              "    }\n",
              "    20% {\n",
              "      border-color: transparent;\n",
              "      border-left-color: var(--fill-color);\n",
              "      border-top-color: var(--fill-color);\n",
              "    }\n",
              "    30% {\n",
              "      border-color: transparent;\n",
              "      border-left-color: var(--fill-color);\n",
              "      border-top-color: var(--fill-color);\n",
              "      border-right-color: var(--fill-color);\n",
              "    }\n",
              "    40% {\n",
              "      border-color: transparent;\n",
              "      border-right-color: var(--fill-color);\n",
              "      border-top-color: var(--fill-color);\n",
              "    }\n",
              "    60% {\n",
              "      border-color: transparent;\n",
              "      border-right-color: var(--fill-color);\n",
              "    }\n",
              "    80% {\n",
              "      border-color: transparent;\n",
              "      border-right-color: var(--fill-color);\n",
              "      border-bottom-color: var(--fill-color);\n",
              "    }\n",
              "    90% {\n",
              "      border-color: transparent;\n",
              "      border-bottom-color: var(--fill-color);\n",
              "    }\n",
              "  }\n",
              "</style>\n",
              "\n",
              "  <script>\n",
              "    async function quickchart(key) {\n",
              "      const quickchartButtonEl =\n",
              "        document.querySelector('#' + key + ' button');\n",
              "      quickchartButtonEl.disabled = true;  // To prevent multiple clicks.\n",
              "      quickchartButtonEl.classList.add('colab-df-spinner');\n",
              "      try {\n",
              "        const charts = await google.colab.kernel.invokeFunction(\n",
              "            'suggestCharts', [key], {});\n",
              "      } catch (error) {\n",
              "        console.error('Error during call to suggestCharts:', error);\n",
              "      }\n",
              "      quickchartButtonEl.classList.remove('colab-df-spinner');\n",
              "      quickchartButtonEl.classList.add('colab-df-quickchart-complete');\n",
              "    }\n",
              "    (() => {\n",
              "      let quickchartButtonEl =\n",
              "        document.querySelector('#df-c8182139-033d-49e6-98d0-b52d940b37f2 button');\n",
              "      quickchartButtonEl.style.display =\n",
              "        google.colab.kernel.accessAllowed ? 'block' : 'none';\n",
              "    })();\n",
              "  </script>\n",
              "</div>\n",
              "    </div>\n",
              "  </div>\n"
            ],
            "application/vnd.google.colaboratory.intrinsic+json": {
              "type": "dataframe",
              "variable_name": "metrics",
              "summary": "{\n  \"name\": \"metrics\",\n  \"rows\": 3,\n  \"fields\": [\n    {\n      \"column\": \"model\",\n      \"properties\": {\n        \"dtype\": \"string\",\n        \"num_unique_values\": 3,\n        \"samples\": [\n          \"OVR_LogisticRegresstion_Tuned\",\n          \"OVR_RandomForest_Tuned\",\n          \"Catboost_simple_Tuned\"\n        ],\n        \"semantic_type\": \"\",\n        \"description\": \"\"\n      }\n    },\n    {\n      \"column\": \"ROC_AUC\",\n      \"properties\": {\n        \"dtype\": \"number\",\n        \"std\": 0.008241623698384581,\n        \"min\": 0.9251506231903296,\n        \"max\": 0.9413531089355205,\n        \"num_unique_values\": 3,\n        \"samples\": [\n          0.9413531089355205,\n          0.9251506231903296,\n          0.9358753514002173\n        ],\n        \"semantic_type\": \"\",\n        \"description\": \"\"\n      }\n    },\n    {\n      \"column\": \"Precision_micro\",\n      \"properties\": {\n        \"dtype\": \"number\",\n        \"std\": 0.0183150094261723,\n        \"min\": 0.6599225897255454,\n        \"max\": 0.6965165376495426,\n        \"num_unique_values\": 3,\n        \"samples\": [\n          0.6965165376495426,\n          0.6599225897255454,\n          0.6796270232230823\n        ],\n        \"semantic_type\": \"\",\n        \"description\": \"\"\n      }\n    },\n    {\n      \"column\": \"Precision_macro\",\n      \"properties\": {\n        \"dtype\": \"number\",\n        \"std\": 0.06173562401160882,\n        \"min\": 0.5670859606339466,\n        \"max\": 0.6763906315822686,\n        \"num_unique_values\": 3,\n        \"samples\": [\n          0.6763906315822686,\n          0.5670859606339466,\n          0.6714698605110848\n        ],\n        \"semantic_type\": \"\",\n        \"description\": \"\"\n      }\n    },\n    {\n      \"column\": \"Recall_micro\",\n      \"properties\": {\n        \"dtype\": \"number\",\n        \"std\": 0.0183150094261723,\n        \"min\": 0.6599225897255454,\n        \"max\": 0.6965165376495426,\n        \"num_unique_values\": 3,\n        \"samples\": [\n          0.6965165376495426,\n          0.6599225897255454,\n          0.6796270232230823\n        ],\n        \"semantic_type\": \"\",\n        \"description\": \"\"\n      }\n    },\n    {\n      \"column\": \"Recall_macro\",\n      \"properties\": {\n        \"dtype\": \"number\",\n        \"std\": 0.0364054198640443,\n        \"min\": 0.4715679110105774,\n        \"max\": 0.5438543238686161,\n        \"num_unique_values\": 3,\n        \"samples\": [\n          0.5001566701719314,\n          0.5438543238686161,\n          0.4715679110105774\n        ],\n        \"semantic_type\": \"\",\n        \"description\": \"\"\n      }\n    },\n    {\n      \"column\": \"F1_micro\",\n      \"properties\": {\n        \"dtype\": \"number\",\n        \"std\": 0.0183150094261723,\n        \"min\": 0.6599225897255454,\n        \"max\": 0.6965165376495426,\n        \"num_unique_values\": 3,\n        \"samples\": [\n          0.6965165376495426,\n          0.6599225897255454,\n          0.6796270232230823\n        ],\n        \"semantic_type\": \"\",\n        \"description\": \"\"\n      }\n    },\n    {\n      \"column\": \"F1_macro\",\n      \"properties\": {\n        \"dtype\": \"number\",\n        \"std\": 0.016006932870304948,\n        \"min\": 0.517718912227509,\n        \"max\": 0.5495217599639323,\n        \"num_unique_values\": 3,\n        \"samples\": [\n          0.5367983632563589,\n          0.5495217599639323,\n          0.517718912227509\n        ],\n        \"semantic_type\": \"\",\n        \"description\": \"\"\n      }\n    },\n    {\n      \"column\": \"F1_weighted\",\n      \"properties\": {\n        \"dtype\": \"number\",\n        \"std\": 0.011752686759095443,\n        \"min\": 0.6565477736639416,\n        \"max\": 0.6799382362762878,\n        \"num_unique_values\": 3,\n        \"samples\": [\n          0.6799382362762878,\n          0.6565477736639416,\n          0.6662326238476464\n        ],\n        \"semantic_type\": \"\",\n        \"description\": \"\"\n      }\n    },\n    {\n      \"column\": \"Logloss\",\n      \"properties\": {\n        \"dtype\": \"number\",\n        \"std\": 2.992819369302688,\n        \"min\": 0.8598790763879767,\n        \"max\": 6.181518909015978,\n        \"num_unique_values\": 3,\n        \"samples\": [\n          6.181518909015978,\n          1.1477229180943367,\n          0.8598790763879767\n        ],\n        \"semantic_type\": \"\",\n        \"description\": \"\"\n      }\n    }\n  ]\n}"
            }
          },
          "metadata": {},
          "execution_count": 31
        }
      ],
      "source": [
        "y_pred_num = pipeline_catboost.predict(X_test)\n",
        "y_score = pipeline_catboost.predict_proba(X_test)\n",
        "\n",
        "metrics = pd.concat([\n",
        "    metrics,\n",
        "    get_metrics_multiclass(y_test_bin=y_test_bin,\n",
        "                       y_test=y_test_num,\n",
        "                       y_pred=y_pred_num,\n",
        "                       y_prob=y_score,\n",
        "                       name='Catboost_simple_Tuned',\n",
        "                       type_multi='ovr')\n",
        "])\n",
        "\n",
        "metrics"
      ]
    },
    {
      "cell_type": "code",
      "execution_count": null,
      "metadata": {
        "id": "0ATPfBl5okvZ"
      },
      "outputs": [],
      "source": [
        "# сохраняем модель в файл\n",
        "with open('pipeline_catboost.pkl', 'wb') as file:\n",
        "    pickle.dump(pipeline_catboost, file)"
      ]
    },
    {
      "cell_type": "markdown",
      "metadata": {
        "id": "GUmExdl2WkC8"
      },
      "source": [
        "# Стекинг"
      ]
    },
    {
      "cell_type": "code",
      "execution_count": null,
      "metadata": {
        "id": "pmMYCBF3W9dN"
      },
      "outputs": [],
      "source": [
        "from sklearn.ensemble import ExtraTreesClassifier,  StackingClassifier"
      ]
    },
    {
      "cell_type": "markdown",
      "metadata": {
        "id": "sAiCNM_kjv9H"
      },
      "source": [
        "## загрузка log_reg"
      ]
    },
    {
      "cell_type": "code",
      "execution_count": null,
      "metadata": {
        "id": "xK712HRd67mJ"
      },
      "outputs": [],
      "source": [
        "# url = 'https://github.com/nedokormysh/NLP_Fontanka/raw/main/Models/Tuned/pipeline_ovr_lr.pkl'\n",
        "# response = requests.get(url)\n",
        "\n",
        "# with open('pipeline_ovr_lr.pkl', 'wb') as f:\n",
        "#     f.write(response.content)"
      ]
    },
    {
      "cell_type": "code",
      "execution_count": null,
      "metadata": {
        "colab": {
          "base_uri": "https://localhost:8080/"
        },
        "id": "ii_FE4HPkRPd",
        "outputId": "6ff360c4-559a-47a9-b3b2-750221f34cf6"
      },
      "outputs": [
        {
          "name": "stdout",
          "output_type": "stream",
          "text": [
            "<class 'sklearn.pipeline.Pipeline'>\n"
          ]
        }
      ],
      "source": [
        "with open('/content/pipeline_ovr_lr.pkl', 'rb') as f:\n",
        "    pipeline_ovr_lr = pickle.load(f)\n",
        "\n",
        "print(type(pipeline_ovr_lr))"
      ]
    },
    {
      "cell_type": "markdown",
      "metadata": {
        "id": "pEErTphojz1u"
      },
      "source": [
        "## загрузка random forest"
      ]
    },
    {
      "cell_type": "code",
      "execution_count": null,
      "metadata": {
        "id": "YjPy7_EypXNW"
      },
      "outputs": [],
      "source": [
        "with open('/content/pipeline_ovr_rf.pkl', 'rb') as f:\n",
        "    pipeline_ovr_rf = pickle.load(f)"
      ]
    },
    {
      "cell_type": "markdown",
      "metadata": {
        "id": "c2k86UsJq2fa"
      },
      "source": [
        "## загрузка catboost"
      ]
    },
    {
      "cell_type": "code",
      "execution_count": null,
      "metadata": {
        "id": "BYynpqcMq_NT"
      },
      "outputs": [],
      "source": [
        "with open('/content/pipeline_catboost.pkl', 'rb') as f:\n",
        "    pipeline_catboost = pickle.load(f)"
      ]
    },
    {
      "cell_type": "markdown",
      "metadata": {
        "id": "W06d84sJYbGr"
      },
      "source": [
        "## загрузка catboost txt"
      ]
    },
    {
      "cell_type": "code",
      "execution_count": null,
      "metadata": {
        "id": "OPfKE5XvYZI1"
      },
      "outputs": [],
      "source": [
        "with open('/content/pipe_catboost_txt.pkl', 'rb') as f:\n",
        "    pipe_catboost_txt = pickle.load(f)"
      ]
    },
    {
      "cell_type": "markdown",
      "metadata": {
        "id": "oZ7vVawp0dWH"
      },
      "source": [
        "## Stack"
      ]
    },
    {
      "cell_type": "code",
      "execution_count": null,
      "metadata": {
        "id": "TBqo8XYZZD8C"
      },
      "outputs": [],
      "source": [
        "selected_columns_1 = ['comments_amount',\n",
        "                      'year',\n",
        "                      'month',\n",
        "                      'weekday',\n",
        "                      'hour',\n",
        "                      'log_views',\n",
        "                      'len_title',\n",
        "                      'len_content',\n",
        "                      'log_views_by_minutes',\n",
        "                      # 'title_clean',\n",
        "                      'content_clean']\n",
        "\n",
        "selected_coumns_2 = ['comments_amount',\n",
        "       'year',\n",
        "       'month',\n",
        "       'weekday',\n",
        "       'hour',\n",
        "       'log_views',\n",
        "       'len_title',\n",
        "       'len_content',\n",
        "       'log_views_by_minutes',\n",
        "       'content'\n",
        "      #  'title_clean',\n",
        "      #  'content_clean'\n",
        "       ]"
      ]
    },
    {
      "cell_type": "code",
      "execution_count": null,
      "metadata": {
        "colab": {
          "base_uri": "https://localhost:8080/",
          "height": 359
        },
        "id": "RSELHDyBXBlh",
        "outputId": "e1c6ce71-47cb-4759-abe3-acfe7c9d706d"
      },
      "outputs": [
        {
          "data": {
            "text/html": [
              "<style>#sk-container-id-1 {color: black;background-color: white;}#sk-container-id-1 pre{padding: 0;}#sk-container-id-1 div.sk-toggleable {background-color: white;}#sk-container-id-1 label.sk-toggleable__label {cursor: pointer;display: block;width: 100%;margin-bottom: 0;padding: 0.3em;box-sizing: border-box;text-align: center;}#sk-container-id-1 label.sk-toggleable__label-arrow:before {content: \"▸\";float: left;margin-right: 0.25em;color: #696969;}#sk-container-id-1 label.sk-toggleable__label-arrow:hover:before {color: black;}#sk-container-id-1 div.sk-estimator:hover label.sk-toggleable__label-arrow:before {color: black;}#sk-container-id-1 div.sk-toggleable__content {max-height: 0;max-width: 0;overflow: hidden;text-align: left;background-color: #f0f8ff;}#sk-container-id-1 div.sk-toggleable__content pre {margin: 0.2em;color: black;border-radius: 0.25em;background-color: #f0f8ff;}#sk-container-id-1 input.sk-toggleable__control:checked~div.sk-toggleable__content {max-height: 200px;max-width: 100%;overflow: auto;}#sk-container-id-1 input.sk-toggleable__control:checked~label.sk-toggleable__label-arrow:before {content: \"▾\";}#sk-container-id-1 div.sk-estimator input.sk-toggleable__control:checked~label.sk-toggleable__label {background-color: #d4ebff;}#sk-container-id-1 div.sk-label input.sk-toggleable__control:checked~label.sk-toggleable__label {background-color: #d4ebff;}#sk-container-id-1 input.sk-hidden--visually {border: 0;clip: rect(1px 1px 1px 1px);clip: rect(1px, 1px, 1px, 1px);height: 1px;margin: -1px;overflow: hidden;padding: 0;position: absolute;width: 1px;}#sk-container-id-1 div.sk-estimator {font-family: monospace;background-color: #f0f8ff;border: 1px dotted black;border-radius: 0.25em;box-sizing: border-box;margin-bottom: 0.5em;}#sk-container-id-1 div.sk-estimator:hover {background-color: #d4ebff;}#sk-container-id-1 div.sk-parallel-item::after {content: \"\";width: 100%;border-bottom: 1px solid gray;flex-grow: 1;}#sk-container-id-1 div.sk-label:hover label.sk-toggleable__label {background-color: #d4ebff;}#sk-container-id-1 div.sk-serial::before {content: \"\";position: absolute;border-left: 1px solid gray;box-sizing: border-box;top: 0;bottom: 0;left: 50%;z-index: 0;}#sk-container-id-1 div.sk-serial {display: flex;flex-direction: column;align-items: center;background-color: white;padding-right: 0.2em;padding-left: 0.2em;position: relative;}#sk-container-id-1 div.sk-item {position: relative;z-index: 1;}#sk-container-id-1 div.sk-parallel {display: flex;align-items: stretch;justify-content: center;background-color: white;position: relative;}#sk-container-id-1 div.sk-item::before, #sk-container-id-1 div.sk-parallel-item::before {content: \"\";position: absolute;border-left: 1px solid gray;box-sizing: border-box;top: 0;bottom: 0;left: 50%;z-index: -1;}#sk-container-id-1 div.sk-parallel-item {display: flex;flex-direction: column;z-index: 1;position: relative;background-color: white;}#sk-container-id-1 div.sk-parallel-item:first-child::after {align-self: flex-end;width: 50%;}#sk-container-id-1 div.sk-parallel-item:last-child::after {align-self: flex-start;width: 50%;}#sk-container-id-1 div.sk-parallel-item:only-child::after {width: 0;}#sk-container-id-1 div.sk-dashed-wrapped {border: 1px dashed gray;margin: 0 0.4em 0.5em 0.4em;box-sizing: border-box;padding-bottom: 0.4em;background-color: white;}#sk-container-id-1 div.sk-label label {font-family: monospace;font-weight: bold;display: inline-block;line-height: 1.2em;}#sk-container-id-1 div.sk-label-container {text-align: center;}#sk-container-id-1 div.sk-container {/* jupyter's `normalize.less` sets `[hidden] { display: none; }` but bootstrap.min.css set `[hidden] { display: none !important; }` so we also need the `!important` here to be able to override the default hidden behavior on the sphinx rendered scikit-learn.org. See: https://github.com/scikit-learn/scikit-learn/issues/21755 */display: inline-block !important;position: relative;}#sk-container-id-1 div.sk-text-repr-fallback {display: none;}</style><div id=\"sk-container-id-1\" class=\"sk-top-container\"><div class=\"sk-text-repr-fallback\"><pre>StackingClassifier(estimators=[(&#x27;CatBoost_simple&#x27;,\n",
              "                                Pipeline(steps=[(&#x27;pipeline&#x27;,\n",
              "                                                 Pipeline(steps=[(&#x27;selector&#x27;,\n",
              "                                                                  &lt;__main__.CustomSelectColumns object at 0x795864c7ad10&gt;),\n",
              "                                                                 (&#x27;preprocessor&#x27;,\n",
              "                                                                  &lt;__main__.CustomTransformer object at 0x795864c799c0&gt;),\n",
              "                                                                 (&#x27;tfidf&#x27;,\n",
              "                                                                  &lt;__main__.TfidfEmbeddingVectorizer object at 0x795864c783d0&gt;)])),\n",
              "                                                (&#x27;catboostclassifier&#x27;,\n",
              "                                                 &lt;catboost.core.CatBoostClassi...\n",
              "                                                                  &lt;__main__.CustomTransformer object at 0x7957f761eda0&gt;),\n",
              "                                                                 (&#x27;tfidf&#x27;,\n",
              "                                                                  &lt;__main__.TfidfEmbeddingVectorizer object at 0x7957f761efb0&gt;)])),\n",
              "                                                (&#x27;onevsrestclassifier&#x27;,\n",
              "                                                 OneVsRestClassifier(estimator=LogisticRegression(C=2.9,\n",
              "                                                                                                  max_iter=5700,\n",
              "                                                                                                  multi_class=&#x27;ovr&#x27;,\n",
              "                                                                                                  n_jobs=-1,\n",
              "                                                                                                  random_state=7575)))]))],\n",
              "                   final_estimator=LogisticRegression(max_iter=200,\n",
              "                                                      verbose=False),\n",
              "                   n_jobs=-1, verbose=False)</pre><b>In a Jupyter environment, please rerun this cell to show the HTML representation or trust the notebook. <br />On GitHub, the HTML representation is unable to render, please try loading this page with nbviewer.org.</b></div><div class=\"sk-container\" hidden><div class=\"sk-item sk-dashed-wrapped\"><div class=\"sk-label-container\"><div class=\"sk-label sk-toggleable\"><input class=\"sk-toggleable__control sk-hidden--visually\" id=\"sk-estimator-id-1\" type=\"checkbox\" ><label for=\"sk-estimator-id-1\" class=\"sk-toggleable__label sk-toggleable__label-arrow\">StackingClassifier</label><div class=\"sk-toggleable__content\"><pre>StackingClassifier(estimators=[(&#x27;CatBoost_simple&#x27;,\n",
              "                                Pipeline(steps=[(&#x27;pipeline&#x27;,\n",
              "                                                 Pipeline(steps=[(&#x27;selector&#x27;,\n",
              "                                                                  &lt;__main__.CustomSelectColumns object at 0x795864c7ad10&gt;),\n",
              "                                                                 (&#x27;preprocessor&#x27;,\n",
              "                                                                  &lt;__main__.CustomTransformer object at 0x795864c799c0&gt;),\n",
              "                                                                 (&#x27;tfidf&#x27;,\n",
              "                                                                  &lt;__main__.TfidfEmbeddingVectorizer object at 0x795864c783d0&gt;)])),\n",
              "                                                (&#x27;catboostclassifier&#x27;,\n",
              "                                                 &lt;catboost.core.CatBoostClassi...\n",
              "                                                                  &lt;__main__.CustomTransformer object at 0x7957f761eda0&gt;),\n",
              "                                                                 (&#x27;tfidf&#x27;,\n",
              "                                                                  &lt;__main__.TfidfEmbeddingVectorizer object at 0x7957f761efb0&gt;)])),\n",
              "                                                (&#x27;onevsrestclassifier&#x27;,\n",
              "                                                 OneVsRestClassifier(estimator=LogisticRegression(C=2.9,\n",
              "                                                                                                  max_iter=5700,\n",
              "                                                                                                  multi_class=&#x27;ovr&#x27;,\n",
              "                                                                                                  n_jobs=-1,\n",
              "                                                                                                  random_state=7575)))]))],\n",
              "                   final_estimator=LogisticRegression(max_iter=200,\n",
              "                                                      verbose=False),\n",
              "                   n_jobs=-1, verbose=False)</pre></div></div></div><div class=\"sk-serial\"><div class=\"sk-item\"><div class=\"sk-parallel\"><div class=\"sk-parallel-item\"><div class=\"sk-item\"><div class=\"sk-label-container\"><div class=\"sk-label sk-toggleable\"><label>CatBoost_simple</label></div></div><div class=\"sk-serial\"><div class=\"sk-item\"><div class=\"sk-serial\"><div class=\"sk-item\"><div class=\"sk-label-container\"><div class=\"sk-label sk-toggleable\"><input class=\"sk-toggleable__control sk-hidden--visually\" id=\"sk-estimator-id-2\" type=\"checkbox\" ><label for=\"sk-estimator-id-2\" class=\"sk-toggleable__label sk-toggleable__label-arrow\">pipeline: Pipeline</label><div class=\"sk-toggleable__content\"><pre>Pipeline(steps=[(&#x27;selector&#x27;,\n",
              "                 &lt;__main__.CustomSelectColumns object at 0x795864c7ad10&gt;),\n",
              "                (&#x27;preprocessor&#x27;,\n",
              "                 &lt;__main__.CustomTransformer object at 0x795864c799c0&gt;),\n",
              "                (&#x27;tfidf&#x27;,\n",
              "                 &lt;__main__.TfidfEmbeddingVectorizer object at 0x795864c783d0&gt;)])</pre></div></div></div><div class=\"sk-serial\"><div class=\"sk-item\"><div class=\"sk-estimator sk-toggleable\"><input class=\"sk-toggleable__control sk-hidden--visually\" id=\"sk-estimator-id-3\" type=\"checkbox\" ><label for=\"sk-estimator-id-3\" class=\"sk-toggleable__label sk-toggleable__label-arrow\">CustomSelectColumns</label><div class=\"sk-toggleable__content\"><pre>&lt;__main__.CustomSelectColumns object at 0x795864c7ad10&gt;</pre></div></div></div><div class=\"sk-item\"><div class=\"sk-estimator sk-toggleable\"><input class=\"sk-toggleable__control sk-hidden--visually\" id=\"sk-estimator-id-4\" type=\"checkbox\" ><label for=\"sk-estimator-id-4\" class=\"sk-toggleable__label sk-toggleable__label-arrow\">CustomTransformer</label><div class=\"sk-toggleable__content\"><pre>&lt;__main__.CustomTransformer object at 0x795864c799c0&gt;</pre></div></div></div><div class=\"sk-item\"><div class=\"sk-estimator sk-toggleable\"><input class=\"sk-toggleable__control sk-hidden--visually\" id=\"sk-estimator-id-5\" type=\"checkbox\" ><label for=\"sk-estimator-id-5\" class=\"sk-toggleable__label sk-toggleable__label-arrow\">TfidfEmbeddingVectorizer</label><div class=\"sk-toggleable__content\"><pre>&lt;__main__.TfidfEmbeddingVectorizer object at 0x795864c783d0&gt;</pre></div></div></div></div></div><div class=\"sk-item\"><div class=\"sk-estimator sk-toggleable\"><input class=\"sk-toggleable__control sk-hidden--visually\" id=\"sk-estimator-id-6\" type=\"checkbox\" ><label for=\"sk-estimator-id-6\" class=\"sk-toggleable__label sk-toggleable__label-arrow\">CatBoostClassifier</label><div class=\"sk-toggleable__content\"><pre>&lt;catboost.core.CatBoostClassifier object at 0x7957f744ff10&gt;</pre></div></div></div></div></div></div></div></div><div class=\"sk-parallel-item\"><div class=\"sk-item\"><div class=\"sk-label-container\"><div class=\"sk-label sk-toggleable\"><label>OVR_Log_Reg</label></div></div><div class=\"sk-serial\"><div class=\"sk-item\"><div class=\"sk-serial\"><div class=\"sk-item\"><div class=\"sk-label-container\"><div class=\"sk-label sk-toggleable\"><input class=\"sk-toggleable__control sk-hidden--visually\" id=\"sk-estimator-id-7\" type=\"checkbox\" ><label for=\"sk-estimator-id-7\" class=\"sk-toggleable__label sk-toggleable__label-arrow\">pipeline: Pipeline</label><div class=\"sk-toggleable__content\"><pre>Pipeline(steps=[(&#x27;selector&#x27;,\n",
              "                 &lt;__main__.CustomSelectColumns object at 0x7957f761ff70&gt;),\n",
              "                (&#x27;preprocessor&#x27;,\n",
              "                 &lt;__main__.CustomTransformer object at 0x7957f761eda0&gt;),\n",
              "                (&#x27;tfidf&#x27;,\n",
              "                 &lt;__main__.TfidfEmbeddingVectorizer object at 0x7957f761efb0&gt;)])</pre></div></div></div><div class=\"sk-serial\"><div class=\"sk-item\"><div class=\"sk-estimator sk-toggleable\"><input class=\"sk-toggleable__control sk-hidden--visually\" id=\"sk-estimator-id-8\" type=\"checkbox\" ><label for=\"sk-estimator-id-8\" class=\"sk-toggleable__label sk-toggleable__label-arrow\">CustomSelectColumns</label><div class=\"sk-toggleable__content\"><pre>&lt;__main__.CustomSelectColumns object at 0x7957f761ff70&gt;</pre></div></div></div><div class=\"sk-item\"><div class=\"sk-estimator sk-toggleable\"><input class=\"sk-toggleable__control sk-hidden--visually\" id=\"sk-estimator-id-9\" type=\"checkbox\" ><label for=\"sk-estimator-id-9\" class=\"sk-toggleable__label sk-toggleable__label-arrow\">CustomTransformer</label><div class=\"sk-toggleable__content\"><pre>&lt;__main__.CustomTransformer object at 0x7957f761eda0&gt;</pre></div></div></div><div class=\"sk-item\"><div class=\"sk-estimator sk-toggleable\"><input class=\"sk-toggleable__control sk-hidden--visually\" id=\"sk-estimator-id-10\" type=\"checkbox\" ><label for=\"sk-estimator-id-10\" class=\"sk-toggleable__label sk-toggleable__label-arrow\">TfidfEmbeddingVectorizer</label><div class=\"sk-toggleable__content\"><pre>&lt;__main__.TfidfEmbeddingVectorizer object at 0x7957f761efb0&gt;</pre></div></div></div></div></div><div class=\"sk-item sk-dashed-wrapped\"><div class=\"sk-label-container\"><div class=\"sk-label sk-toggleable\"><input class=\"sk-toggleable__control sk-hidden--visually\" id=\"sk-estimator-id-11\" type=\"checkbox\" ><label for=\"sk-estimator-id-11\" class=\"sk-toggleable__label sk-toggleable__label-arrow\">onevsrestclassifier: OneVsRestClassifier</label><div class=\"sk-toggleable__content\"><pre>OneVsRestClassifier(estimator=LogisticRegression(C=2.9, max_iter=5700,\n",
              "                                                 multi_class=&#x27;ovr&#x27;, n_jobs=-1,\n",
              "                                                 random_state=7575))</pre></div></div></div><div class=\"sk-parallel\"><div class=\"sk-parallel-item\"><div class=\"sk-item\"><div class=\"sk-label-container\"><div class=\"sk-label sk-toggleable\"><input class=\"sk-toggleable__control sk-hidden--visually\" id=\"sk-estimator-id-12\" type=\"checkbox\" ><label for=\"sk-estimator-id-12\" class=\"sk-toggleable__label sk-toggleable__label-arrow\">estimator: LogisticRegression</label><div class=\"sk-toggleable__content\"><pre>LogisticRegression(C=2.9, max_iter=5700, multi_class=&#x27;ovr&#x27;, n_jobs=-1,\n",
              "                   random_state=7575)</pre></div></div></div><div class=\"sk-serial\"><div class=\"sk-item\"><div class=\"sk-estimator sk-toggleable\"><input class=\"sk-toggleable__control sk-hidden--visually\" id=\"sk-estimator-id-13\" type=\"checkbox\" ><label for=\"sk-estimator-id-13\" class=\"sk-toggleable__label sk-toggleable__label-arrow\">LogisticRegression</label><div class=\"sk-toggleable__content\"><pre>LogisticRegression(C=2.9, max_iter=5700, multi_class=&#x27;ovr&#x27;, n_jobs=-1,\n",
              "                   random_state=7575)</pre></div></div></div></div></div></div></div></div></div></div></div></div></div></div></div><div class=\"sk-item\"><div class=\"sk-parallel\"><div class=\"sk-parallel-item\"><div class=\"sk-item\"><div class=\"sk-label-container\"><div class=\"sk-label sk-toggleable\"><label>final_estimator</label></div></div><div class=\"sk-serial\"><div class=\"sk-item\"><div class=\"sk-estimator sk-toggleable\"><input class=\"sk-toggleable__control sk-hidden--visually\" id=\"sk-estimator-id-14\" type=\"checkbox\" ><label for=\"sk-estimator-id-14\" class=\"sk-toggleable__label sk-toggleable__label-arrow\">LogisticRegression</label><div class=\"sk-toggleable__content\"><pre>LogisticRegression(max_iter=200, verbose=False)</pre></div></div></div></div></div></div></div></div></div></div></div></div>"
            ],
            "text/plain": [
              "StackingClassifier(estimators=[('CatBoost_simple',\n",
              "                                Pipeline(steps=[('pipeline',\n",
              "                                                 Pipeline(steps=[('selector',\n",
              "                                                                  <__main__.CustomSelectColumns object at 0x795864c7ad10>),\n",
              "                                                                 ('preprocessor',\n",
              "                                                                  <__main__.CustomTransformer object at 0x795864c799c0>),\n",
              "                                                                 ('tfidf',\n",
              "                                                                  <__main__.TfidfEmbeddingVectorizer object at 0x795864c783d0>)])),\n",
              "                                                ('catboostclassifier',\n",
              "                                                 <catboost.core.CatBoostClassi...\n",
              "                                                                  <__main__.CustomTransformer object at 0x7957f761eda0>),\n",
              "                                                                 ('tfidf',\n",
              "                                                                  <__main__.TfidfEmbeddingVectorizer object at 0x7957f761efb0>)])),\n",
              "                                                ('onevsrestclassifier',\n",
              "                                                 OneVsRestClassifier(estimator=LogisticRegression(C=2.9,\n",
              "                                                                                                  max_iter=5700,\n",
              "                                                                                                  multi_class='ovr',\n",
              "                                                                                                  n_jobs=-1,\n",
              "                                                                                                  random_state=7575)))]))],\n",
              "                   final_estimator=LogisticRegression(max_iter=200,\n",
              "                                                      verbose=False),\n",
              "                   n_jobs=-1, verbose=False)"
            ]
          },
          "execution_count": 19,
          "metadata": {},
          "output_type": "execute_result"
        }
      ],
      "source": [
        "# список базовых моделей\n",
        "estimators = [(\"CatBoost_simple\", pipeline_catboost),\n",
        "              # ('RF', pipeline_ovr_rf),\n",
        "              ('OVR_Log_Reg', pipeline_ovr_lr),\n",
        "              # (\"CatBoost_txt\", pipe_catboost_txt)\n",
        "              ]\n",
        "\n",
        "# в качестве мета-модели будем использовать LogisticRegression\n",
        "meta_model = StackingClassifier(\n",
        "    estimators=estimators,\n",
        "    final_estimator=LogisticRegression(verbose=False, max_iter=200, multi_class='multinomial'),\n",
        "    n_jobs=-1,\n",
        "    verbose=False,\n",
        ")\n",
        "\n",
        "stacking_classifier = meta_model\n",
        "stacking_classifier"
      ]
    },
    {
      "cell_type": "code",
      "execution_count": null,
      "metadata": {
        "colab": {
          "base_uri": "https://localhost:8080/",
          "height": 498
        },
        "id": "CZ9QI2400-ID",
        "outputId": "72005a2c-869b-4f05-e628-f284c93a5d48"
      },
      "outputs": [
        {
          "name": "stderr",
          "output_type": "stream",
          "text": [
            "/usr/local/lib/python3.10/dist-packages/sklearn/linear_model/_logistic.py:458: ConvergenceWarning: lbfgs failed to converge (status=1):\n",
            "STOP: TOTAL NO. of ITERATIONS REACHED LIMIT.\n",
            "\n",
            "Increase the number of iterations (max_iter) or scale the data as shown in:\n",
            "    https://scikit-learn.org/stable/modules/preprocessing.html\n",
            "Please also refer to the documentation for alternative solver options:\n",
            "    https://scikit-learn.org/stable/modules/linear_model.html#logistic-regression\n",
            "  n_iter_i = _check_optimize_result(\n"
          ]
        },
        {
          "data": {
            "text/html": [
              "<style>#sk-container-id-2 {color: black;background-color: white;}#sk-container-id-2 pre{padding: 0;}#sk-container-id-2 div.sk-toggleable {background-color: white;}#sk-container-id-2 label.sk-toggleable__label {cursor: pointer;display: block;width: 100%;margin-bottom: 0;padding: 0.3em;box-sizing: border-box;text-align: center;}#sk-container-id-2 label.sk-toggleable__label-arrow:before {content: \"▸\";float: left;margin-right: 0.25em;color: #696969;}#sk-container-id-2 label.sk-toggleable__label-arrow:hover:before {color: black;}#sk-container-id-2 div.sk-estimator:hover label.sk-toggleable__label-arrow:before {color: black;}#sk-container-id-2 div.sk-toggleable__content {max-height: 0;max-width: 0;overflow: hidden;text-align: left;background-color: #f0f8ff;}#sk-container-id-2 div.sk-toggleable__content pre {margin: 0.2em;color: black;border-radius: 0.25em;background-color: #f0f8ff;}#sk-container-id-2 input.sk-toggleable__control:checked~div.sk-toggleable__content {max-height: 200px;max-width: 100%;overflow: auto;}#sk-container-id-2 input.sk-toggleable__control:checked~label.sk-toggleable__label-arrow:before {content: \"▾\";}#sk-container-id-2 div.sk-estimator input.sk-toggleable__control:checked~label.sk-toggleable__label {background-color: #d4ebff;}#sk-container-id-2 div.sk-label input.sk-toggleable__control:checked~label.sk-toggleable__label {background-color: #d4ebff;}#sk-container-id-2 input.sk-hidden--visually {border: 0;clip: rect(1px 1px 1px 1px);clip: rect(1px, 1px, 1px, 1px);height: 1px;margin: -1px;overflow: hidden;padding: 0;position: absolute;width: 1px;}#sk-container-id-2 div.sk-estimator {font-family: monospace;background-color: #f0f8ff;border: 1px dotted black;border-radius: 0.25em;box-sizing: border-box;margin-bottom: 0.5em;}#sk-container-id-2 div.sk-estimator:hover {background-color: #d4ebff;}#sk-container-id-2 div.sk-parallel-item::after {content: \"\";width: 100%;border-bottom: 1px solid gray;flex-grow: 1;}#sk-container-id-2 div.sk-label:hover label.sk-toggleable__label {background-color: #d4ebff;}#sk-container-id-2 div.sk-serial::before {content: \"\";position: absolute;border-left: 1px solid gray;box-sizing: border-box;top: 0;bottom: 0;left: 50%;z-index: 0;}#sk-container-id-2 div.sk-serial {display: flex;flex-direction: column;align-items: center;background-color: white;padding-right: 0.2em;padding-left: 0.2em;position: relative;}#sk-container-id-2 div.sk-item {position: relative;z-index: 1;}#sk-container-id-2 div.sk-parallel {display: flex;align-items: stretch;justify-content: center;background-color: white;position: relative;}#sk-container-id-2 div.sk-item::before, #sk-container-id-2 div.sk-parallel-item::before {content: \"\";position: absolute;border-left: 1px solid gray;box-sizing: border-box;top: 0;bottom: 0;left: 50%;z-index: -1;}#sk-container-id-2 div.sk-parallel-item {display: flex;flex-direction: column;z-index: 1;position: relative;background-color: white;}#sk-container-id-2 div.sk-parallel-item:first-child::after {align-self: flex-end;width: 50%;}#sk-container-id-2 div.sk-parallel-item:last-child::after {align-self: flex-start;width: 50%;}#sk-container-id-2 div.sk-parallel-item:only-child::after {width: 0;}#sk-container-id-2 div.sk-dashed-wrapped {border: 1px dashed gray;margin: 0 0.4em 0.5em 0.4em;box-sizing: border-box;padding-bottom: 0.4em;background-color: white;}#sk-container-id-2 div.sk-label label {font-family: monospace;font-weight: bold;display: inline-block;line-height: 1.2em;}#sk-container-id-2 div.sk-label-container {text-align: center;}#sk-container-id-2 div.sk-container {/* jupyter's `normalize.less` sets `[hidden] { display: none; }` but bootstrap.min.css set `[hidden] { display: none !important; }` so we also need the `!important` here to be able to override the default hidden behavior on the sphinx rendered scikit-learn.org. See: https://github.com/scikit-learn/scikit-learn/issues/21755 */display: inline-block !important;position: relative;}#sk-container-id-2 div.sk-text-repr-fallback {display: none;}</style><div id=\"sk-container-id-2\" class=\"sk-top-container\"><div class=\"sk-text-repr-fallback\"><pre>StackingClassifier(estimators=[(&#x27;CatBoost_simple&#x27;,\n",
              "                                Pipeline(steps=[(&#x27;pipeline&#x27;,\n",
              "                                                 Pipeline(steps=[(&#x27;selector&#x27;,\n",
              "                                                                  &lt;__main__.CustomSelectColumns object at 0x795864c7ad10&gt;),\n",
              "                                                                 (&#x27;preprocessor&#x27;,\n",
              "                                                                  &lt;__main__.CustomTransformer object at 0x795864c799c0&gt;),\n",
              "                                                                 (&#x27;tfidf&#x27;,\n",
              "                                                                  &lt;__main__.TfidfEmbeddingVectorizer object at 0x795864c783d0&gt;)])),\n",
              "                                                (&#x27;catboostclassifier&#x27;,\n",
              "                                                 &lt;catboost.core.CatBoostClassi...\n",
              "                                                                  &lt;__main__.CustomTransformer object at 0x7957f761eda0&gt;),\n",
              "                                                                 (&#x27;tfidf&#x27;,\n",
              "                                                                  &lt;__main__.TfidfEmbeddingVectorizer object at 0x7957f761efb0&gt;)])),\n",
              "                                                (&#x27;onevsrestclassifier&#x27;,\n",
              "                                                 OneVsRestClassifier(estimator=LogisticRegression(C=2.9,\n",
              "                                                                                                  max_iter=5700,\n",
              "                                                                                                  multi_class=&#x27;ovr&#x27;,\n",
              "                                                                                                  n_jobs=-1,\n",
              "                                                                                                  random_state=7575)))]))],\n",
              "                   final_estimator=LogisticRegression(max_iter=200,\n",
              "                                                      verbose=False),\n",
              "                   n_jobs=-1, verbose=False)</pre><b>In a Jupyter environment, please rerun this cell to show the HTML representation or trust the notebook. <br />On GitHub, the HTML representation is unable to render, please try loading this page with nbviewer.org.</b></div><div class=\"sk-container\" hidden><div class=\"sk-item sk-dashed-wrapped\"><div class=\"sk-label-container\"><div class=\"sk-label sk-toggleable\"><input class=\"sk-toggleable__control sk-hidden--visually\" id=\"sk-estimator-id-15\" type=\"checkbox\" ><label for=\"sk-estimator-id-15\" class=\"sk-toggleable__label sk-toggleable__label-arrow\">StackingClassifier</label><div class=\"sk-toggleable__content\"><pre>StackingClassifier(estimators=[(&#x27;CatBoost_simple&#x27;,\n",
              "                                Pipeline(steps=[(&#x27;pipeline&#x27;,\n",
              "                                                 Pipeline(steps=[(&#x27;selector&#x27;,\n",
              "                                                                  &lt;__main__.CustomSelectColumns object at 0x795864c7ad10&gt;),\n",
              "                                                                 (&#x27;preprocessor&#x27;,\n",
              "                                                                  &lt;__main__.CustomTransformer object at 0x795864c799c0&gt;),\n",
              "                                                                 (&#x27;tfidf&#x27;,\n",
              "                                                                  &lt;__main__.TfidfEmbeddingVectorizer object at 0x795864c783d0&gt;)])),\n",
              "                                                (&#x27;catboostclassifier&#x27;,\n",
              "                                                 &lt;catboost.core.CatBoostClassi...\n",
              "                                                                  &lt;__main__.CustomTransformer object at 0x7957f761eda0&gt;),\n",
              "                                                                 (&#x27;tfidf&#x27;,\n",
              "                                                                  &lt;__main__.TfidfEmbeddingVectorizer object at 0x7957f761efb0&gt;)])),\n",
              "                                                (&#x27;onevsrestclassifier&#x27;,\n",
              "                                                 OneVsRestClassifier(estimator=LogisticRegression(C=2.9,\n",
              "                                                                                                  max_iter=5700,\n",
              "                                                                                                  multi_class=&#x27;ovr&#x27;,\n",
              "                                                                                                  n_jobs=-1,\n",
              "                                                                                                  random_state=7575)))]))],\n",
              "                   final_estimator=LogisticRegression(max_iter=200,\n",
              "                                                      verbose=False),\n",
              "                   n_jobs=-1, verbose=False)</pre></div></div></div><div class=\"sk-serial\"><div class=\"sk-item\"><div class=\"sk-parallel\"><div class=\"sk-parallel-item\"><div class=\"sk-item\"><div class=\"sk-label-container\"><div class=\"sk-label sk-toggleable\"><label>CatBoost_simple</label></div></div><div class=\"sk-serial\"><div class=\"sk-item\"><div class=\"sk-serial\"><div class=\"sk-item\"><div class=\"sk-label-container\"><div class=\"sk-label sk-toggleable\"><input class=\"sk-toggleable__control sk-hidden--visually\" id=\"sk-estimator-id-16\" type=\"checkbox\" ><label for=\"sk-estimator-id-16\" class=\"sk-toggleable__label sk-toggleable__label-arrow\">pipeline: Pipeline</label><div class=\"sk-toggleable__content\"><pre>Pipeline(steps=[(&#x27;selector&#x27;,\n",
              "                 &lt;__main__.CustomSelectColumns object at 0x795864c7ad10&gt;),\n",
              "                (&#x27;preprocessor&#x27;,\n",
              "                 &lt;__main__.CustomTransformer object at 0x795864c799c0&gt;),\n",
              "                (&#x27;tfidf&#x27;,\n",
              "                 &lt;__main__.TfidfEmbeddingVectorizer object at 0x795864c783d0&gt;)])</pre></div></div></div><div class=\"sk-serial\"><div class=\"sk-item\"><div class=\"sk-estimator sk-toggleable\"><input class=\"sk-toggleable__control sk-hidden--visually\" id=\"sk-estimator-id-17\" type=\"checkbox\" ><label for=\"sk-estimator-id-17\" class=\"sk-toggleable__label sk-toggleable__label-arrow\">CustomSelectColumns</label><div class=\"sk-toggleable__content\"><pre>&lt;__main__.CustomSelectColumns object at 0x795864c7ad10&gt;</pre></div></div></div><div class=\"sk-item\"><div class=\"sk-estimator sk-toggleable\"><input class=\"sk-toggleable__control sk-hidden--visually\" id=\"sk-estimator-id-18\" type=\"checkbox\" ><label for=\"sk-estimator-id-18\" class=\"sk-toggleable__label sk-toggleable__label-arrow\">CustomTransformer</label><div class=\"sk-toggleable__content\"><pre>&lt;__main__.CustomTransformer object at 0x795864c799c0&gt;</pre></div></div></div><div class=\"sk-item\"><div class=\"sk-estimator sk-toggleable\"><input class=\"sk-toggleable__control sk-hidden--visually\" id=\"sk-estimator-id-19\" type=\"checkbox\" ><label for=\"sk-estimator-id-19\" class=\"sk-toggleable__label sk-toggleable__label-arrow\">TfidfEmbeddingVectorizer</label><div class=\"sk-toggleable__content\"><pre>&lt;__main__.TfidfEmbeddingVectorizer object at 0x795864c783d0&gt;</pre></div></div></div></div></div><div class=\"sk-item\"><div class=\"sk-estimator sk-toggleable\"><input class=\"sk-toggleable__control sk-hidden--visually\" id=\"sk-estimator-id-20\" type=\"checkbox\" ><label for=\"sk-estimator-id-20\" class=\"sk-toggleable__label sk-toggleable__label-arrow\">CatBoostClassifier</label><div class=\"sk-toggleable__content\"><pre>&lt;catboost.core.CatBoostClassifier object at 0x7957f744ff10&gt;</pre></div></div></div></div></div></div></div></div><div class=\"sk-parallel-item\"><div class=\"sk-item\"><div class=\"sk-label-container\"><div class=\"sk-label sk-toggleable\"><label>OVR_Log_Reg</label></div></div><div class=\"sk-serial\"><div class=\"sk-item\"><div class=\"sk-serial\"><div class=\"sk-item\"><div class=\"sk-label-container\"><div class=\"sk-label sk-toggleable\"><input class=\"sk-toggleable__control sk-hidden--visually\" id=\"sk-estimator-id-21\" type=\"checkbox\" ><label for=\"sk-estimator-id-21\" class=\"sk-toggleable__label sk-toggleable__label-arrow\">pipeline: Pipeline</label><div class=\"sk-toggleable__content\"><pre>Pipeline(steps=[(&#x27;selector&#x27;,\n",
              "                 &lt;__main__.CustomSelectColumns object at 0x7957f761ff70&gt;),\n",
              "                (&#x27;preprocessor&#x27;,\n",
              "                 &lt;__main__.CustomTransformer object at 0x7957f761eda0&gt;),\n",
              "                (&#x27;tfidf&#x27;,\n",
              "                 &lt;__main__.TfidfEmbeddingVectorizer object at 0x7957f761efb0&gt;)])</pre></div></div></div><div class=\"sk-serial\"><div class=\"sk-item\"><div class=\"sk-estimator sk-toggleable\"><input class=\"sk-toggleable__control sk-hidden--visually\" id=\"sk-estimator-id-22\" type=\"checkbox\" ><label for=\"sk-estimator-id-22\" class=\"sk-toggleable__label sk-toggleable__label-arrow\">CustomSelectColumns</label><div class=\"sk-toggleable__content\"><pre>&lt;__main__.CustomSelectColumns object at 0x7957f761ff70&gt;</pre></div></div></div><div class=\"sk-item\"><div class=\"sk-estimator sk-toggleable\"><input class=\"sk-toggleable__control sk-hidden--visually\" id=\"sk-estimator-id-23\" type=\"checkbox\" ><label for=\"sk-estimator-id-23\" class=\"sk-toggleable__label sk-toggleable__label-arrow\">CustomTransformer</label><div class=\"sk-toggleable__content\"><pre>&lt;__main__.CustomTransformer object at 0x7957f761eda0&gt;</pre></div></div></div><div class=\"sk-item\"><div class=\"sk-estimator sk-toggleable\"><input class=\"sk-toggleable__control sk-hidden--visually\" id=\"sk-estimator-id-24\" type=\"checkbox\" ><label for=\"sk-estimator-id-24\" class=\"sk-toggleable__label sk-toggleable__label-arrow\">TfidfEmbeddingVectorizer</label><div class=\"sk-toggleable__content\"><pre>&lt;__main__.TfidfEmbeddingVectorizer object at 0x7957f761efb0&gt;</pre></div></div></div></div></div><div class=\"sk-item sk-dashed-wrapped\"><div class=\"sk-label-container\"><div class=\"sk-label sk-toggleable\"><input class=\"sk-toggleable__control sk-hidden--visually\" id=\"sk-estimator-id-25\" type=\"checkbox\" ><label for=\"sk-estimator-id-25\" class=\"sk-toggleable__label sk-toggleable__label-arrow\">onevsrestclassifier: OneVsRestClassifier</label><div class=\"sk-toggleable__content\"><pre>OneVsRestClassifier(estimator=LogisticRegression(C=2.9, max_iter=5700,\n",
              "                                                 multi_class=&#x27;ovr&#x27;, n_jobs=-1,\n",
              "                                                 random_state=7575))</pre></div></div></div><div class=\"sk-parallel\"><div class=\"sk-parallel-item\"><div class=\"sk-item\"><div class=\"sk-label-container\"><div class=\"sk-label sk-toggleable\"><input class=\"sk-toggleable__control sk-hidden--visually\" id=\"sk-estimator-id-26\" type=\"checkbox\" ><label for=\"sk-estimator-id-26\" class=\"sk-toggleable__label sk-toggleable__label-arrow\">estimator: LogisticRegression</label><div class=\"sk-toggleable__content\"><pre>LogisticRegression(C=2.9, max_iter=5700, multi_class=&#x27;ovr&#x27;, n_jobs=-1,\n",
              "                   random_state=7575)</pre></div></div></div><div class=\"sk-serial\"><div class=\"sk-item\"><div class=\"sk-estimator sk-toggleable\"><input class=\"sk-toggleable__control sk-hidden--visually\" id=\"sk-estimator-id-27\" type=\"checkbox\" ><label for=\"sk-estimator-id-27\" class=\"sk-toggleable__label sk-toggleable__label-arrow\">LogisticRegression</label><div class=\"sk-toggleable__content\"><pre>LogisticRegression(C=2.9, max_iter=5700, multi_class=&#x27;ovr&#x27;, n_jobs=-1,\n",
              "                   random_state=7575)</pre></div></div></div></div></div></div></div></div></div></div></div></div></div></div></div><div class=\"sk-item\"><div class=\"sk-parallel\"><div class=\"sk-parallel-item\"><div class=\"sk-item\"><div class=\"sk-label-container\"><div class=\"sk-label sk-toggleable\"><label>final_estimator</label></div></div><div class=\"sk-serial\"><div class=\"sk-item\"><div class=\"sk-estimator sk-toggleable\"><input class=\"sk-toggleable__control sk-hidden--visually\" id=\"sk-estimator-id-28\" type=\"checkbox\" ><label for=\"sk-estimator-id-28\" class=\"sk-toggleable__label sk-toggleable__label-arrow\">LogisticRegression</label><div class=\"sk-toggleable__content\"><pre>LogisticRegression(max_iter=200, verbose=False)</pre></div></div></div></div></div></div></div></div></div></div></div></div>"
            ],
            "text/plain": [
              "StackingClassifier(estimators=[('CatBoost_simple',\n",
              "                                Pipeline(steps=[('pipeline',\n",
              "                                                 Pipeline(steps=[('selector',\n",
              "                                                                  <__main__.CustomSelectColumns object at 0x795864c7ad10>),\n",
              "                                                                 ('preprocessor',\n",
              "                                                                  <__main__.CustomTransformer object at 0x795864c799c0>),\n",
              "                                                                 ('tfidf',\n",
              "                                                                  <__main__.TfidfEmbeddingVectorizer object at 0x795864c783d0>)])),\n",
              "                                                ('catboostclassifier',\n",
              "                                                 <catboost.core.CatBoostClassi...\n",
              "                                                                  <__main__.CustomTransformer object at 0x7957f761eda0>),\n",
              "                                                                 ('tfidf',\n",
              "                                                                  <__main__.TfidfEmbeddingVectorizer object at 0x7957f761efb0>)])),\n",
              "                                                ('onevsrestclassifier',\n",
              "                                                 OneVsRestClassifier(estimator=LogisticRegression(C=2.9,\n",
              "                                                                                                  max_iter=5700,\n",
              "                                                                                                  multi_class='ovr',\n",
              "                                                                                                  n_jobs=-1,\n",
              "                                                                                                  random_state=7575)))]))],\n",
              "                   final_estimator=LogisticRegression(max_iter=200,\n",
              "                                                      verbose=False),\n",
              "                   n_jobs=-1, verbose=False)"
            ]
          },
          "execution_count": 20,
          "metadata": {},
          "output_type": "execute_result"
        }
      ],
      "source": [
        "stacking_classifier.fit(X_train, y_train_num)"
      ]
    },
    {
      "cell_type": "code",
      "execution_count": null,
      "metadata": {
        "colab": {
          "background_save": true
        },
        "id": "A7dHUkm4bmOu"
      },
      "outputs": [],
      "source": [
        "# сохраняем модель в файл\n",
        "with open('stacking_classifier0_2.pkl', 'wb') as file:\n",
        "    pickle.dump(stacking_classifier, file)"
      ]
    },
    {
      "cell_type": "code",
      "execution_count": 24,
      "metadata": {
        "id": "8mYHYAnHb_-E",
        "colab": {
          "base_uri": "https://localhost:8080/"
        },
        "outputId": "7f7cdcfe-6243-4359-d705-3cad5b00f78a"
      },
      "outputs": [
        {
          "output_type": "stream",
          "name": "stdout",
          "text": [
            "               precision    recall  f1-score   support\n",
            "\n",
            "         авто       0.65      0.28      0.39       150\n",
            "       бизнес       0.53      0.41      0.46       401\n",
            "       власть       0.56      0.36      0.44       910\n",
            "        город       0.74      0.72      0.73      1949\n",
            "     общество       0.59      0.69      0.64      3315\n",
            "     политика       0.42      0.14      0.21       235\n",
            " происшествия       0.82      0.87      0.84      3769\n",
            "        спорт       0.92      0.80      0.86       393\n",
            "строительство       0.84      0.80      0.82       114\n",
            "      финансы       0.59      0.36      0.45       132\n",
            "\n",
            "     accuracy                           0.70     11368\n",
            "    macro avg       0.67      0.54      0.58     11368\n",
            " weighted avg       0.70      0.70      0.69     11368\n",
            "\n"
          ]
        }
      ],
      "source": [
        "y_pred_num = stacking_classifier.predict(X_test)\n",
        "print(classification_report(y_test_num, y_pred_num, target_names=le.classes_))"
      ]
    },
    {
      "cell_type": "code",
      "execution_count": 32,
      "metadata": {
        "id": "lZTa-7F1cKfl",
        "colab": {
          "base_uri": "https://localhost:8080/",
          "height": 175
        },
        "outputId": "18bde5fa-2c18-494d-9bf2-be581d241dba"
      },
      "outputs": [
        {
          "output_type": "execute_result",
          "data": {
            "text/plain": [
              "                           model   ROC_AUC  Precision_micro  Precision_macro  \\\n",
              "0  OVR_LogisticRegresstion_Tuned  0.941353         0.696517         0.676391   \n",
              "0         OVR_RandomForest_Tuned  0.925151         0.659923         0.567086   \n",
              "0          Catboost_simple_Tuned  0.935875         0.679627         0.671470   \n",
              "0                   Stacking_clf  0.935875         0.702234         0.665266   \n",
              "\n",
              "   Recall_micro  Recall_macro  F1_micro  F1_macro  F1_weighted   Logloss  \n",
              "0      0.696517      0.500157  0.696517  0.536798     0.679938  6.181519  \n",
              "0      0.659923      0.543854  0.659923  0.549522     0.656548  1.147723  \n",
              "0      0.679627      0.471568  0.679627  0.517719     0.666233  0.859879  \n",
              "0      0.702234      0.542795  0.702234  0.583015     0.693002  0.859879  "
            ],
            "text/html": [
              "\n",
              "  <div id=\"df-8939278f-54ac-441d-aa29-6592dc1b1c71\" class=\"colab-df-container\">\n",
              "    <div>\n",
              "<style scoped>\n",
              "    .dataframe tbody tr th:only-of-type {\n",
              "        vertical-align: middle;\n",
              "    }\n",
              "\n",
              "    .dataframe tbody tr th {\n",
              "        vertical-align: top;\n",
              "    }\n",
              "\n",
              "    .dataframe thead th {\n",
              "        text-align: right;\n",
              "    }\n",
              "</style>\n",
              "<table border=\"1\" class=\"dataframe\">\n",
              "  <thead>\n",
              "    <tr style=\"text-align: right;\">\n",
              "      <th></th>\n",
              "      <th>model</th>\n",
              "      <th>ROC_AUC</th>\n",
              "      <th>Precision_micro</th>\n",
              "      <th>Precision_macro</th>\n",
              "      <th>Recall_micro</th>\n",
              "      <th>Recall_macro</th>\n",
              "      <th>F1_micro</th>\n",
              "      <th>F1_macro</th>\n",
              "      <th>F1_weighted</th>\n",
              "      <th>Logloss</th>\n",
              "    </tr>\n",
              "  </thead>\n",
              "  <tbody>\n",
              "    <tr>\n",
              "      <th>0</th>\n",
              "      <td>OVR_LogisticRegresstion_Tuned</td>\n",
              "      <td>0.941353</td>\n",
              "      <td>0.696517</td>\n",
              "      <td>0.676391</td>\n",
              "      <td>0.696517</td>\n",
              "      <td>0.500157</td>\n",
              "      <td>0.696517</td>\n",
              "      <td>0.536798</td>\n",
              "      <td>0.679938</td>\n",
              "      <td>6.181519</td>\n",
              "    </tr>\n",
              "    <tr>\n",
              "      <th>0</th>\n",
              "      <td>OVR_RandomForest_Tuned</td>\n",
              "      <td>0.925151</td>\n",
              "      <td>0.659923</td>\n",
              "      <td>0.567086</td>\n",
              "      <td>0.659923</td>\n",
              "      <td>0.543854</td>\n",
              "      <td>0.659923</td>\n",
              "      <td>0.549522</td>\n",
              "      <td>0.656548</td>\n",
              "      <td>1.147723</td>\n",
              "    </tr>\n",
              "    <tr>\n",
              "      <th>0</th>\n",
              "      <td>Catboost_simple_Tuned</td>\n",
              "      <td>0.935875</td>\n",
              "      <td>0.679627</td>\n",
              "      <td>0.671470</td>\n",
              "      <td>0.679627</td>\n",
              "      <td>0.471568</td>\n",
              "      <td>0.679627</td>\n",
              "      <td>0.517719</td>\n",
              "      <td>0.666233</td>\n",
              "      <td>0.859879</td>\n",
              "    </tr>\n",
              "    <tr>\n",
              "      <th>0</th>\n",
              "      <td>Stacking_clf</td>\n",
              "      <td>0.935875</td>\n",
              "      <td>0.702234</td>\n",
              "      <td>0.665266</td>\n",
              "      <td>0.702234</td>\n",
              "      <td>0.542795</td>\n",
              "      <td>0.702234</td>\n",
              "      <td>0.583015</td>\n",
              "      <td>0.693002</td>\n",
              "      <td>0.859879</td>\n",
              "    </tr>\n",
              "  </tbody>\n",
              "</table>\n",
              "</div>\n",
              "    <div class=\"colab-df-buttons\">\n",
              "\n",
              "  <div class=\"colab-df-container\">\n",
              "    <button class=\"colab-df-convert\" onclick=\"convertToInteractive('df-8939278f-54ac-441d-aa29-6592dc1b1c71')\"\n",
              "            title=\"Convert this dataframe to an interactive table.\"\n",
              "            style=\"display:none;\">\n",
              "\n",
              "  <svg xmlns=\"http://www.w3.org/2000/svg\" height=\"24px\" viewBox=\"0 -960 960 960\">\n",
              "    <path d=\"M120-120v-720h720v720H120Zm60-500h600v-160H180v160Zm220 220h160v-160H400v160Zm0 220h160v-160H400v160ZM180-400h160v-160H180v160Zm440 0h160v-160H620v160ZM180-180h160v-160H180v160Zm440 0h160v-160H620v160Z\"/>\n",
              "  </svg>\n",
              "    </button>\n",
              "\n",
              "  <style>\n",
              "    .colab-df-container {\n",
              "      display:flex;\n",
              "      gap: 12px;\n",
              "    }\n",
              "\n",
              "    .colab-df-convert {\n",
              "      background-color: #E8F0FE;\n",
              "      border: none;\n",
              "      border-radius: 50%;\n",
              "      cursor: pointer;\n",
              "      display: none;\n",
              "      fill: #1967D2;\n",
              "      height: 32px;\n",
              "      padding: 0 0 0 0;\n",
              "      width: 32px;\n",
              "    }\n",
              "\n",
              "    .colab-df-convert:hover {\n",
              "      background-color: #E2EBFA;\n",
              "      box-shadow: 0px 1px 2px rgba(60, 64, 67, 0.3), 0px 1px 3px 1px rgba(60, 64, 67, 0.15);\n",
              "      fill: #174EA6;\n",
              "    }\n",
              "\n",
              "    .colab-df-buttons div {\n",
              "      margin-bottom: 4px;\n",
              "    }\n",
              "\n",
              "    [theme=dark] .colab-df-convert {\n",
              "      background-color: #3B4455;\n",
              "      fill: #D2E3FC;\n",
              "    }\n",
              "\n",
              "    [theme=dark] .colab-df-convert:hover {\n",
              "      background-color: #434B5C;\n",
              "      box-shadow: 0px 1px 3px 1px rgba(0, 0, 0, 0.15);\n",
              "      filter: drop-shadow(0px 1px 2px rgba(0, 0, 0, 0.3));\n",
              "      fill: #FFFFFF;\n",
              "    }\n",
              "  </style>\n",
              "\n",
              "    <script>\n",
              "      const buttonEl =\n",
              "        document.querySelector('#df-8939278f-54ac-441d-aa29-6592dc1b1c71 button.colab-df-convert');\n",
              "      buttonEl.style.display =\n",
              "        google.colab.kernel.accessAllowed ? 'block' : 'none';\n",
              "\n",
              "      async function convertToInteractive(key) {\n",
              "        const element = document.querySelector('#df-8939278f-54ac-441d-aa29-6592dc1b1c71');\n",
              "        const dataTable =\n",
              "          await google.colab.kernel.invokeFunction('convertToInteractive',\n",
              "                                                    [key], {});\n",
              "        if (!dataTable) return;\n",
              "\n",
              "        const docLinkHtml = 'Like what you see? Visit the ' +\n",
              "          '<a target=\"_blank\" href=https://colab.research.google.com/notebooks/data_table.ipynb>data table notebook</a>'\n",
              "          + ' to learn more about interactive tables.';\n",
              "        element.innerHTML = '';\n",
              "        dataTable['output_type'] = 'display_data';\n",
              "        await google.colab.output.renderOutput(dataTable, element);\n",
              "        const docLink = document.createElement('div');\n",
              "        docLink.innerHTML = docLinkHtml;\n",
              "        element.appendChild(docLink);\n",
              "      }\n",
              "    </script>\n",
              "  </div>\n",
              "\n",
              "\n",
              "<div id=\"df-1104c4db-cf8c-4d2e-bed9-a349a7ceade5\">\n",
              "  <button class=\"colab-df-quickchart\" onclick=\"quickchart('df-1104c4db-cf8c-4d2e-bed9-a349a7ceade5')\"\n",
              "            title=\"Suggest charts\"\n",
              "            style=\"display:none;\">\n",
              "\n",
              "<svg xmlns=\"http://www.w3.org/2000/svg\" height=\"24px\"viewBox=\"0 0 24 24\"\n",
              "     width=\"24px\">\n",
              "    <g>\n",
              "        <path d=\"M19 3H5c-1.1 0-2 .9-2 2v14c0 1.1.9 2 2 2h14c1.1 0 2-.9 2-2V5c0-1.1-.9-2-2-2zM9 17H7v-7h2v7zm4 0h-2V7h2v10zm4 0h-2v-4h2v4z\"/>\n",
              "    </g>\n",
              "</svg>\n",
              "  </button>\n",
              "\n",
              "<style>\n",
              "  .colab-df-quickchart {\n",
              "      --bg-color: #E8F0FE;\n",
              "      --fill-color: #1967D2;\n",
              "      --hover-bg-color: #E2EBFA;\n",
              "      --hover-fill-color: #174EA6;\n",
              "      --disabled-fill-color: #AAA;\n",
              "      --disabled-bg-color: #DDD;\n",
              "  }\n",
              "\n",
              "  [theme=dark] .colab-df-quickchart {\n",
              "      --bg-color: #3B4455;\n",
              "      --fill-color: #D2E3FC;\n",
              "      --hover-bg-color: #434B5C;\n",
              "      --hover-fill-color: #FFFFFF;\n",
              "      --disabled-bg-color: #3B4455;\n",
              "      --disabled-fill-color: #666;\n",
              "  }\n",
              "\n",
              "  .colab-df-quickchart {\n",
              "    background-color: var(--bg-color);\n",
              "    border: none;\n",
              "    border-radius: 50%;\n",
              "    cursor: pointer;\n",
              "    display: none;\n",
              "    fill: var(--fill-color);\n",
              "    height: 32px;\n",
              "    padding: 0;\n",
              "    width: 32px;\n",
              "  }\n",
              "\n",
              "  .colab-df-quickchart:hover {\n",
              "    background-color: var(--hover-bg-color);\n",
              "    box-shadow: 0 1px 2px rgba(60, 64, 67, 0.3), 0 1px 3px 1px rgba(60, 64, 67, 0.15);\n",
              "    fill: var(--button-hover-fill-color);\n",
              "  }\n",
              "\n",
              "  .colab-df-quickchart-complete:disabled,\n",
              "  .colab-df-quickchart-complete:disabled:hover {\n",
              "    background-color: var(--disabled-bg-color);\n",
              "    fill: var(--disabled-fill-color);\n",
              "    box-shadow: none;\n",
              "  }\n",
              "\n",
              "  .colab-df-spinner {\n",
              "    border: 2px solid var(--fill-color);\n",
              "    border-color: transparent;\n",
              "    border-bottom-color: var(--fill-color);\n",
              "    animation:\n",
              "      spin 1s steps(1) infinite;\n",
              "  }\n",
              "\n",
              "  @keyframes spin {\n",
              "    0% {\n",
              "      border-color: transparent;\n",
              "      border-bottom-color: var(--fill-color);\n",
              "      border-left-color: var(--fill-color);\n",
              "    }\n",
              "    20% {\n",
              "      border-color: transparent;\n",
              "      border-left-color: var(--fill-color);\n",
              "      border-top-color: var(--fill-color);\n",
              "    }\n",
              "    30% {\n",
              "      border-color: transparent;\n",
              "      border-left-color: var(--fill-color);\n",
              "      border-top-color: var(--fill-color);\n",
              "      border-right-color: var(--fill-color);\n",
              "    }\n",
              "    40% {\n",
              "      border-color: transparent;\n",
              "      border-right-color: var(--fill-color);\n",
              "      border-top-color: var(--fill-color);\n",
              "    }\n",
              "    60% {\n",
              "      border-color: transparent;\n",
              "      border-right-color: var(--fill-color);\n",
              "    }\n",
              "    80% {\n",
              "      border-color: transparent;\n",
              "      border-right-color: var(--fill-color);\n",
              "      border-bottom-color: var(--fill-color);\n",
              "    }\n",
              "    90% {\n",
              "      border-color: transparent;\n",
              "      border-bottom-color: var(--fill-color);\n",
              "    }\n",
              "  }\n",
              "</style>\n",
              "\n",
              "  <script>\n",
              "    async function quickchart(key) {\n",
              "      const quickchartButtonEl =\n",
              "        document.querySelector('#' + key + ' button');\n",
              "      quickchartButtonEl.disabled = true;  // To prevent multiple clicks.\n",
              "      quickchartButtonEl.classList.add('colab-df-spinner');\n",
              "      try {\n",
              "        const charts = await google.colab.kernel.invokeFunction(\n",
              "            'suggestCharts', [key], {});\n",
              "      } catch (error) {\n",
              "        console.error('Error during call to suggestCharts:', error);\n",
              "      }\n",
              "      quickchartButtonEl.classList.remove('colab-df-spinner');\n",
              "      quickchartButtonEl.classList.add('colab-df-quickchart-complete');\n",
              "    }\n",
              "    (() => {\n",
              "      let quickchartButtonEl =\n",
              "        document.querySelector('#df-1104c4db-cf8c-4d2e-bed9-a349a7ceade5 button');\n",
              "      quickchartButtonEl.style.display =\n",
              "        google.colab.kernel.accessAllowed ? 'block' : 'none';\n",
              "    })();\n",
              "  </script>\n",
              "</div>\n",
              "    </div>\n",
              "  </div>\n"
            ],
            "application/vnd.google.colaboratory.intrinsic+json": {
              "type": "dataframe",
              "variable_name": "metrics",
              "summary": "{\n  \"name\": \"metrics\",\n  \"rows\": 4,\n  \"fields\": [\n    {\n      \"column\": \"model\",\n      \"properties\": {\n        \"dtype\": \"string\",\n        \"num_unique_values\": 4,\n        \"samples\": [\n          \"OVR_RandomForest_Tuned\",\n          \"Stacking_clf\",\n          \"OVR_LogisticRegresstion_Tuned\"\n        ],\n        \"semantic_type\": \"\",\n        \"description\": \"\"\n      }\n    },\n    {\n      \"column\": \"ROC_AUC\",\n      \"properties\": {\n        \"dtype\": \"number\",\n        \"std\": 0.00678584181652123,\n        \"min\": 0.9251506231903296,\n        \"max\": 0.9413531089355205,\n        \"num_unique_values\": 3,\n        \"samples\": [\n          0.9413531089355205,\n          0.9251506231903296,\n          0.9358753514002173\n        ],\n        \"semantic_type\": \"\",\n        \"description\": \"\"\n      }\n    },\n    {\n      \"column\": \"Precision_micro\",\n      \"properties\": {\n        \"dtype\": \"number\",\n        \"std\": 0.01903222257313525,\n        \"min\": 0.6599225897255454,\n        \"max\": 0.7022343420126671,\n        \"num_unique_values\": 4,\n        \"samples\": [\n          0.6599225897255454,\n          0.7022343420126671,\n          0.6965165376495426\n        ],\n        \"semantic_type\": \"\",\n        \"description\": \"\"\n      }\n    },\n    {\n      \"column\": \"Precision_macro\",\n      \"properties\": {\n        \"dtype\": \"number\",\n        \"std\": 0.05217705424972568,\n        \"min\": 0.5670859606339466,\n        \"max\": 0.6763906315822686,\n        \"num_unique_values\": 4,\n        \"samples\": [\n          0.5670859606339466,\n          0.6652663141945514,\n          0.6763906315822686\n        ],\n        \"semantic_type\": \"\",\n        \"description\": \"\"\n      }\n    },\n    {\n      \"column\": \"Recall_micro\",\n      \"properties\": {\n        \"dtype\": \"number\",\n        \"std\": 0.01903222257313525,\n        \"min\": 0.6599225897255454,\n        \"max\": 0.7022343420126671,\n        \"num_unique_values\": 4,\n        \"samples\": [\n          0.6599225897255454,\n          0.7022343420126671,\n          0.6965165376495426\n        ],\n        \"semantic_type\": \"\",\n        \"description\": \"\"\n      }\n    },\n    {\n      \"column\": \"Recall_macro\",\n      \"properties\": {\n        \"dtype\": \"number\",\n        \"std\": 0.03517170308392105,\n        \"min\": 0.4715679110105774,\n        \"max\": 0.5438543238686161,\n        \"num_unique_values\": 4,\n        \"samples\": [\n          0.5438543238686161,\n          0.542795041032889,\n          0.5001566701719314\n        ],\n        \"semantic_type\": \"\",\n        \"description\": \"\"\n      }\n    },\n    {\n      \"column\": \"F1_micro\",\n      \"properties\": {\n        \"dtype\": \"number\",\n        \"std\": 0.01903222257313525,\n        \"min\": 0.6599225897255454,\n        \"max\": 0.7022343420126671,\n        \"num_unique_values\": 4,\n        \"samples\": [\n          0.6599225897255454,\n          0.7022343420126671,\n          0.6965165376495426\n        ],\n        \"semantic_type\": \"\",\n        \"description\": \"\"\n      }\n    },\n    {\n      \"column\": \"F1_macro\",\n      \"properties\": {\n        \"dtype\": \"number\",\n        \"std\": 0.02747519133746762,\n        \"min\": 0.517718912227509,\n        \"max\": 0.5830148225948292,\n        \"num_unique_values\": 4,\n        \"samples\": [\n          0.5495217599639323,\n          0.5830148225948292,\n          0.5367983632563589\n        ],\n        \"semantic_type\": \"\",\n        \"description\": \"\"\n      }\n    },\n    {\n      \"column\": \"F1_weighted\",\n      \"properties\": {\n        \"dtype\": \"number\",\n        \"std\": 0.015929493863378826,\n        \"min\": 0.6565477736639416,\n        \"max\": 0.6930023891872886,\n        \"num_unique_values\": 4,\n        \"samples\": [\n          0.6565477736639416,\n          0.6930023891872886,\n          0.6799382362762878\n        ],\n        \"semantic_type\": \"\",\n        \"description\": \"\"\n      }\n    },\n    {\n      \"column\": \"Logloss\",\n      \"properties\": {\n        \"dtype\": \"number\",\n        \"std\": 2.6163669347822323,\n        \"min\": 0.8598790763879767,\n        \"max\": 6.181518909015978,\n        \"num_unique_values\": 3,\n        \"samples\": [\n          6.181518909015978,\n          1.1477229180943367,\n          0.8598790763879767\n        ],\n        \"semantic_type\": \"\",\n        \"description\": \"\"\n      }\n    }\n  ]\n}"
            }
          },
          "metadata": {},
          "execution_count": 32
        }
      ],
      "source": [
        "y_pred_num = stacking_classifier.predict(X_test)\n",
        "y_score = pipeline_catboost.predict_proba(X_test)\n",
        "\n",
        "metrics = pd.concat([\n",
        "    metrics,\n",
        "    get_metrics_multiclass(y_test_bin=y_test_bin,\n",
        "                       y_test=y_test_num,\n",
        "                       y_pred=y_pred_num,\n",
        "                       y_prob=y_score,\n",
        "                       name='Stacking_clf',\n",
        "                       type_multi='ovr')\n",
        "])\n",
        "\n",
        "metrics"
      ]
    },
    {
      "cell_type": "markdown",
      "metadata": {
        "id": "aw9ee78fF2RZ"
      },
      "source": [
        "# **Выводы:**\n"
      ]
    },
    {
      "cell_type": "code",
      "execution_count": 33,
      "metadata": {
        "colab": {
          "base_uri": "https://localhost:8080/",
          "height": 206
        },
        "id": "Mb5aXSsDZhBx",
        "outputId": "99c9c336-4387-494a-a175-3237c75c9057"
      },
      "outputs": [
        {
          "output_type": "execute_result",
          "data": {
            "text/plain": [
              "<pandas.io.formats.style.Styler at 0x7957f30bd510>"
            ],
            "text/html": [
              "<style type=\"text/css\">\n",
              "#T_e26b3_row0_col7 {\n",
              "  background-color: yellow;\n",
              "}\n",
              "</style>\n",
              "<table id=\"T_e26b3\" class=\"dataframe\">\n",
              "  <thead>\n",
              "    <tr>\n",
              "      <th class=\"blank level0\" >&nbsp;</th>\n",
              "      <th id=\"T_e26b3_level0_col0\" class=\"col_heading level0 col0\" >ROC_AUC</th>\n",
              "      <th id=\"T_e26b3_level0_col1\" class=\"col_heading level0 col1\" >Precision_micro</th>\n",
              "      <th id=\"T_e26b3_level0_col2\" class=\"col_heading level0 col2\" >Precision_macro</th>\n",
              "      <th id=\"T_e26b3_level0_col3\" class=\"col_heading level0 col3\" >Recall_micro</th>\n",
              "      <th id=\"T_e26b3_level0_col4\" class=\"col_heading level0 col4\" >Recall_macro</th>\n",
              "      <th id=\"T_e26b3_level0_col5\" class=\"col_heading level0 col5\" >F1_micro</th>\n",
              "      <th id=\"T_e26b3_level0_col6\" class=\"col_heading level0 col6\" >F1_macro</th>\n",
              "      <th id=\"T_e26b3_level0_col7\" class=\"col_heading level0 col7\" >F1_weighted</th>\n",
              "      <th id=\"T_e26b3_level0_col8\" class=\"col_heading level0 col8\" >Logloss</th>\n",
              "    </tr>\n",
              "    <tr>\n",
              "      <th class=\"index_name level0\" >model</th>\n",
              "      <th class=\"blank col0\" >&nbsp;</th>\n",
              "      <th class=\"blank col1\" >&nbsp;</th>\n",
              "      <th class=\"blank col2\" >&nbsp;</th>\n",
              "      <th class=\"blank col3\" >&nbsp;</th>\n",
              "      <th class=\"blank col4\" >&nbsp;</th>\n",
              "      <th class=\"blank col5\" >&nbsp;</th>\n",
              "      <th class=\"blank col6\" >&nbsp;</th>\n",
              "      <th class=\"blank col7\" >&nbsp;</th>\n",
              "      <th class=\"blank col8\" >&nbsp;</th>\n",
              "    </tr>\n",
              "  </thead>\n",
              "  <tbody>\n",
              "    <tr>\n",
              "      <th id=\"T_e26b3_level0_row0\" class=\"row_heading level0 row0\" >Stacking_clf</th>\n",
              "      <td id=\"T_e26b3_row0_col0\" class=\"data row0 col0\" >0.935875</td>\n",
              "      <td id=\"T_e26b3_row0_col1\" class=\"data row0 col1\" >0.702234</td>\n",
              "      <td id=\"T_e26b3_row0_col2\" class=\"data row0 col2\" >0.665266</td>\n",
              "      <td id=\"T_e26b3_row0_col3\" class=\"data row0 col3\" >0.702234</td>\n",
              "      <td id=\"T_e26b3_row0_col4\" class=\"data row0 col4\" >0.542795</td>\n",
              "      <td id=\"T_e26b3_row0_col5\" class=\"data row0 col5\" >0.702234</td>\n",
              "      <td id=\"T_e26b3_row0_col6\" class=\"data row0 col6\" >0.583015</td>\n",
              "      <td id=\"T_e26b3_row0_col7\" class=\"data row0 col7\" >0.693002</td>\n",
              "      <td id=\"T_e26b3_row0_col8\" class=\"data row0 col8\" >0.859879</td>\n",
              "    </tr>\n",
              "    <tr>\n",
              "      <th id=\"T_e26b3_level0_row1\" class=\"row_heading level0 row1\" >OVR_LogisticRegresstion_Tuned</th>\n",
              "      <td id=\"T_e26b3_row1_col0\" class=\"data row1 col0\" >0.941353</td>\n",
              "      <td id=\"T_e26b3_row1_col1\" class=\"data row1 col1\" >0.696517</td>\n",
              "      <td id=\"T_e26b3_row1_col2\" class=\"data row1 col2\" >0.676391</td>\n",
              "      <td id=\"T_e26b3_row1_col3\" class=\"data row1 col3\" >0.696517</td>\n",
              "      <td id=\"T_e26b3_row1_col4\" class=\"data row1 col4\" >0.500157</td>\n",
              "      <td id=\"T_e26b3_row1_col5\" class=\"data row1 col5\" >0.696517</td>\n",
              "      <td id=\"T_e26b3_row1_col6\" class=\"data row1 col6\" >0.536798</td>\n",
              "      <td id=\"T_e26b3_row1_col7\" class=\"data row1 col7\" >0.679938</td>\n",
              "      <td id=\"T_e26b3_row1_col8\" class=\"data row1 col8\" >6.181519</td>\n",
              "    </tr>\n",
              "    <tr>\n",
              "      <th id=\"T_e26b3_level0_row2\" class=\"row_heading level0 row2\" >Catboost_simple_Tuned</th>\n",
              "      <td id=\"T_e26b3_row2_col0\" class=\"data row2 col0\" >0.935875</td>\n",
              "      <td id=\"T_e26b3_row2_col1\" class=\"data row2 col1\" >0.679627</td>\n",
              "      <td id=\"T_e26b3_row2_col2\" class=\"data row2 col2\" >0.671470</td>\n",
              "      <td id=\"T_e26b3_row2_col3\" class=\"data row2 col3\" >0.679627</td>\n",
              "      <td id=\"T_e26b3_row2_col4\" class=\"data row2 col4\" >0.471568</td>\n",
              "      <td id=\"T_e26b3_row2_col5\" class=\"data row2 col5\" >0.679627</td>\n",
              "      <td id=\"T_e26b3_row2_col6\" class=\"data row2 col6\" >0.517719</td>\n",
              "      <td id=\"T_e26b3_row2_col7\" class=\"data row2 col7\" >0.666233</td>\n",
              "      <td id=\"T_e26b3_row2_col8\" class=\"data row2 col8\" >0.859879</td>\n",
              "    </tr>\n",
              "    <tr>\n",
              "      <th id=\"T_e26b3_level0_row3\" class=\"row_heading level0 row3\" >OVR_RandomForest_Tuned</th>\n",
              "      <td id=\"T_e26b3_row3_col0\" class=\"data row3 col0\" >0.925151</td>\n",
              "      <td id=\"T_e26b3_row3_col1\" class=\"data row3 col1\" >0.659923</td>\n",
              "      <td id=\"T_e26b3_row3_col2\" class=\"data row3 col2\" >0.567086</td>\n",
              "      <td id=\"T_e26b3_row3_col3\" class=\"data row3 col3\" >0.659923</td>\n",
              "      <td id=\"T_e26b3_row3_col4\" class=\"data row3 col4\" >0.543854</td>\n",
              "      <td id=\"T_e26b3_row3_col5\" class=\"data row3 col5\" >0.659923</td>\n",
              "      <td id=\"T_e26b3_row3_col6\" class=\"data row3 col6\" >0.549522</td>\n",
              "      <td id=\"T_e26b3_row3_col7\" class=\"data row3 col7\" >0.656548</td>\n",
              "      <td id=\"T_e26b3_row3_col8\" class=\"data row3 col8\" >1.147723</td>\n",
              "    </tr>\n",
              "  </tbody>\n",
              "</table>\n"
            ]
          },
          "metadata": {},
          "execution_count": 33
        }
      ],
      "source": [
        "metrics = metrics.reset_index(drop=True)\n",
        "metrics = metrics.set_index(\"model\")\n",
        "metrics = metrics.sort_values(\"F1_weighted\", ascending=False)\n",
        "\n",
        "def highlight_max(s):\n",
        "    is_max = s == s.max()\n",
        "    return [\"background-color: yellow\" if v else \"\" for v in is_max]\n",
        "\n",
        "styled_metrics = metrics.style.apply(highlight_max, subset=[\"F1_weighted\"])\n",
        "\n",
        "styled_metrics"
      ]
    },
    {
      "cell_type": "markdown",
      "source": [
        "![image.png](data:image/png;base64,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)"
      ],
      "metadata": {
        "id": "pHHjooNqMtqU"
      }
    },
    {
      "cell_type": "markdown",
      "source": [
        "- Произвели подбор гиперпараметров для различных моделей\n",
        "- Видим улучшения метрик, впрочем всё равно результаты не слишком хорошие.\n",
        "- Слишком большое сходство между основными тематиками и малое количество объектов в небольших топиках\n",
        "- Время применения стекинга при заданных параметрах на 2 базовых классификатора и один мета - 5 часов. При этом был получен лучший результат из всех алгоритмов.\n",
        "- Вероятно улучшения модели можно получить за счёт увеличения количества новостей, использования дополнительных данных со страниц (например, не брал фото), использования векторизирования слов при помощи bert или других современных моделей, дополнительного поиска гиперпараметров для моделей, возможно подбор других моделей."
      ],
      "metadata": {
        "id": "NxBL69HPMAwL"
      }
    }
  ],
  "metadata": {
    "colab": {
      "provenance": [],
      "toc_visible": true,
      "authorship_tag": "ABX9TyPDTnei38pHpBSUjkobe6C9",
      "include_colab_link": true
    },
    "kernelspec": {
      "display_name": "Python 3",
      "name": "python3"
    },
    "language_info": {
      "name": "python"
    }
  },
  "nbformat": 4,
  "nbformat_minor": 0
}