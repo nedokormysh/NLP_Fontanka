{
  "nbformat": 4,
  "nbformat_minor": 0,
  "metadata": {
    "colab": {
      "provenance": []
    },
    "kernelspec": {
      "name": "python3",
      "display_name": "Python 3"
    },
    "language_info": {
      "name": "python"
    }
  },
  "cells": [
    {
      "cell_type": "code",
      "execution_count": null,
      "metadata": {
        "id": "WG_ou7WCu02z"
      },
      "outputs": [],
      "source": [
        "# %%capture\n",
        "# !pip install selenium"
      ]
    },
    {
      "cell_type": "markdown",
      "source": [
        "Хотим спарсить новостные данные с сайта fontanka.ru"
      ],
      "metadata": {
        "id": "DZt29XQBwFVH"
      }
    },
    {
      "cell_type": "code",
      "source": [
        "import re\n",
        "import time\n",
        "# import datetime\n",
        "import numpy as np\n",
        "import pandas as pd\n",
        "from tqdm import tqdm\n",
        "from bs4 import BeautifulSoup\n",
        "# from selenium import webdriver\n",
        "# from selenium.webdriver.common.by import By\n",
        "from dataclasses import dataclass\n",
        "import requests\n",
        "from datetime import datetime, date, timedelta\n",
        "import logging\n",
        "import sys\n",
        "\n",
        "import asyncio\n",
        "import aiohttp\n",
        "from datetime import date, timedelta"
      ],
      "metadata": {
        "id": "noeSqxSyv1f-"
      },
      "execution_count": null,
      "outputs": []
    },
    {
      "cell_type": "code",
      "source": [
        "logger = logging.getLogger(__name__)\n",
        "handler = logging.StreamHandler(sys.stdout)\n",
        "logger.setLevel(logging.INFO) #DEBUG\n",
        "logger.addHandler(handler)\n",
        "logger.propagate = False\n",
        "\n",
        "if not logger.hasHandlers():\n",
        "        logger.addHandler(logger)"
      ],
      "metadata": {
        "id": "wk9WjtAEwhR-"
      },
      "execution_count": null,
      "outputs": []
    },
    {
      "cell_type": "markdown",
      "source": [
        "Будем пробегать по датам в архиве сайта fontanka.ru. Не будем брать longreads, т.к. это зачастую рекламные записи. В основную функцию будем посылать дату с какого по какое число мы хотим забрать новости."
      ],
      "metadata": {
        "id": "v7hZq86bwwLh"
      }
    },
    {
      "cell_type": "code",
      "source": [
        "def parse_date(date_string):\n",
        "    '''\n",
        "    Функция для парсинга даты\n",
        "    '''\n",
        "    month_map = {\n",
        "        'января': '01',\n",
        "        'февраля': '02',\n",
        "        'марта': '03',\n",
        "        'апреля': '04',\n",
        "        'мая': '05',\n",
        "        'июня': '06',\n",
        "        'июля': '07',\n",
        "        'августа': '08',\n",
        "        'сентября': '09',\n",
        "        'октября': '10',\n",
        "        'ноября': '11',\n",
        "        'декабря': '12'\n",
        "    }\n",
        "    try:\n",
        "        day, month_word, year, time = date_string.split(' ')\n",
        "        # print(day, month_word, year, time)\n",
        "        year = year.replace(',', '')\n",
        "        month = month_map[month_word]\n",
        "        formatted_date = f\"{day}.{month}.{year} {time}\"\n",
        "        # print(formatted_date)\n",
        "        return datetime.strptime(formatted_date, '%d.%m.%Y %H:%M')\n",
        "    except Exception as e:\n",
        "        print(f\"Не удалось разобрать дату: {date_string}, ошибка: {e}\")\n",
        "        return None"
      ],
      "metadata": {
        "id": "OfkdSPPBwyI4"
      },
      "execution_count": null,
      "outputs": []
    },
    {
      "cell_type": "code",
      "source": [
        "def collect_data_from_page(url):\n",
        "    print(f\"Start collecting data for {url}\")\n",
        "    info = []\n",
        "\n",
        "    try:\n",
        "        response = requests.get(url)\n",
        "        tree = BeautifulSoup(response.content, 'html.parser')\n",
        "        # print(tree)\n",
        "        articles = tree.find_all('li', {'class': 'IPafn'})\n",
        "        # print(articles)\n",
        "\n",
        "        # for article in tqdm(articles):\n",
        "        for article in (articles):\n",
        "            topic = article.find_all('a', {'class': 'IPmv IPl7'})\n",
        "            # print(topic)\n",
        "            subclass = article.find_all('a', {'class': 'IPef'})\n",
        "\n",
        "            # не будем смотреть новости, у которых нет темы\n",
        "            if len(topic) == 0:\n",
        "                continue\n",
        "            # забираем тему нашей статьи\n",
        "            topic = topic[0].get('title')\n",
        "\n",
        "            # не будем использовать рекламные статьи\n",
        "            if 'Афиша Plus' in topic:\n",
        "                continue\n",
        "\n",
        "            # забираем название\n",
        "            title = subclass[0].text\n",
        "\n",
        "            suburl = subclass[0].get('href')\n",
        "\n",
        "            if 'longreads' in suburl \\\n",
        "                or 'doctorpiter' in suburl \\\n",
        "                or 'https' in suburl \\\n",
        "                or 'vk' in suburl \\\n",
        "                or 'amp' in suburl:\n",
        "                continue\n",
        "\n",
        "            # переходим на страницу нашей статьи\n",
        "            suburl = 'https://www.fontanka.ru'+ suburl\n",
        "\n",
        "            response_inner = requests.get(suburl)\n",
        "            tree_inner = BeautifulSoup(response_inner.content, 'html.parser')\n",
        "\n",
        "            logger.debug(suburl)\n",
        "\n",
        "            check_add = tree_inner.find_all('div', {'class': 'NBzj MVzj'})\n",
        "\n",
        "            # не будем использовать рекламные статьи - у них нет секции\n",
        "            # комментариев\n",
        "\n",
        "            if len(check_add) == 0:\n",
        "                continue\n",
        "\n",
        "            content_ = tree_inner.find_all('div', {'class': 'CFah JFa3 JFah'})\n",
        "\n",
        "            content_txt = []\n",
        "            [content_txt.append(el.text) for el in content_]\n",
        "\n",
        "            content = ' '.join(content_txt)\n",
        "            views = int(tree_inner.find_all('span',\\\n",
        "                              {'class': 'CNm3 primaryOverlineMobile'})[0].text)\n",
        "            date_time = tree_inner.find_all('span', \\\n",
        "                              {'itemprop': 'datePublished'})[0].text\n",
        "\n",
        "            date_time = parse_date(date_time)\n",
        "\n",
        "            comments = int(tree_inner.find_all('div',\n",
        "                                               {'class': 'NBzj MVzj'})[0].text)\n",
        "\n",
        "            row = {'url': url,\n",
        "                   'title': title,\n",
        "                   'content': content,\n",
        "                   'topic': topic,\n",
        "                   'datetime': date_time,\n",
        "                   'views': views,\n",
        "                   'comments_amount': comments}\n",
        "\n",
        "            info.append(row)\n",
        "\n",
        "        return info\n",
        "\n",
        "    except requests.RequestException as e:\n",
        "        # Сокращенное сообщение об ошибке\n",
        "        print(f\"Ошибка при получении данных со страницы {url}: \\\n",
        "                             {e.response.status_code} {e.response.reason}\")\n",
        "        return None"
      ],
      "metadata": {
        "id": "Vsz5j6o4AGRA"
      },
      "execution_count": null,
      "outputs": []
    },
    {
      "cell_type": "code",
      "source": [
        "# df_ = pd.DataFrame(collect_data_from_page('https://www.fontanka.ru/2022/12/01/news.html'))"
      ],
      "metadata": {
        "id": "_UpBd_M3Akjl"
      },
      "execution_count": null,
      "outputs": []
    },
    {
      "cell_type": "code",
      "source": [
        "def main():\n",
        "    i = 0\n",
        "\n",
        "    # пустой датафрейм, в который будем сохранять результаты\n",
        "    df_main = pd.DataFrame()\n",
        "\n",
        "    # задаём даты начала и конца обработки\n",
        "    start = date(2022, 11, 1)\n",
        "    finish = date(2022, 12, 1)\n",
        "\n",
        "    base_url = 'https://www.fontanka.ru/'\n",
        "    info = []\n",
        "\n",
        "    start_time = time.time()\n",
        "    for day in tqdm(range((finish - start).days)):\n",
        "        i += 1\n",
        "\n",
        "        # Добавляем случайную задержку\n",
        "        wait_time =  0 + np.random.choice([1, 2])\n",
        "        print(f\" Добавляем {wait_time} секунд перед обработкой следующей страницы\")\n",
        "        time.sleep(wait_time)\n",
        "\n",
        "        particular_date = (start + timedelta(days=day)).strftime('%Y/%m/%d')\n",
        "        url = f'{base_url}{particular_date}/news.html'\n",
        "        logger.debug(url)\n",
        "        df_ = pd.DataFrame(collect_data_from_page(url))\n",
        "        frames = [df_main, df_]\n",
        "        logger.info(f'За {particular_date} день мы добавили {df_.shape[0]} запись(-ей)')\n",
        "        df_main = pd.concat(frames)\n",
        "\n",
        "        print(f'Всего у нас {df_main.shape[0]} записей')\n",
        "\n",
        "        if i % 15 == 0:\n",
        "            df_main.to_csv('fontanka_12-1.csv', index=False)\n",
        "            print(f'Сохранились!')\n",
        "\n",
        "    stop_time = time.time()\n",
        "    all_time = stop_time - start_time\n",
        "    ty_res = time.gmtime(all_time)\n",
        "\n",
        "\n",
        "    print(f'На обработку {i} страницы(-иц) ушло \\\n",
        "    {time.strftime(\"%H:%M:%S\", ty_res)} времени')\n",
        "\n",
        "    return df_main\n",
        "\n",
        "\n",
        "if __name__ == '__main__':\n",
        "    res = main()\n",
        "    res.to_csv('fontanka_full_12.csv', index=False)"
      ],
      "metadata": {
        "colab": {
          "base_uri": "https://localhost:8080/"
        },
        "id": "V7cO8-lhKVrE",
        "outputId": "fb5b85fe-3791-46d3-ad0b-f27b34a0ccd9"
      },
      "execution_count": null,
      "outputs": [
        {
          "output_type": "stream",
          "name": "stderr",
          "text": [
            "\r  0%|          | 0/30 [00:00<?, ?it/s]"
          ]
        },
        {
          "output_type": "stream",
          "name": "stdout",
          "text": [
            " Добавляем 1 секунд перед обработкой следующей страницы\n",
            "Start collecting data for https://www.fontanka.ru/2022/11/01/news.html\n",
            "За 2022/11/01 день мы добавили 68 запись(-ей)\n"
          ]
        },
        {
          "output_type": "stream",
          "name": "stderr",
          "text": [
            "\r  3%|▎         | 1/30 [02:12<1:03:57, 132.32s/it]"
          ]
        },
        {
          "output_type": "stream",
          "name": "stdout",
          "text": [
            "Всего у нас 68 записей\n",
            " Добавляем 2 секунд перед обработкой следующей страницы\n",
            "Start collecting data for https://www.fontanka.ru/2022/11/02/news.html\n",
            "За 2022/11/02 день мы добавили 76 запись(-ей)\n"
          ]
        },
        {
          "output_type": "stream",
          "name": "stderr",
          "text": [
            "\r  7%|▋         | 2/30 [04:13<58:48, 126.01s/it]  "
          ]
        },
        {
          "output_type": "stream",
          "name": "stdout",
          "text": [
            "Всего у нас 144 записей\n",
            " Добавляем 1 секунд перед обработкой следующей страницы\n",
            "Start collecting data for https://www.fontanka.ru/2022/11/03/news.html\n",
            "За 2022/11/03 день мы добавили 74 запись(-ей)\n"
          ]
        },
        {
          "output_type": "stream",
          "name": "stderr",
          "text": [
            "\r 10%|█         | 3/30 [06:18<56:23, 125.31s/it]"
          ]
        },
        {
          "output_type": "stream",
          "name": "stdout",
          "text": [
            "Всего у нас 218 записей\n",
            " Добавляем 1 секунд перед обработкой следующей страницы\n",
            "Start collecting data for https://www.fontanka.ru/2022/11/04/news.html\n",
            "За 2022/11/04 день мы добавили 43 запись(-ей)\n"
          ]
        },
        {
          "output_type": "stream",
          "name": "stderr",
          "text": [
            "\r 13%|█▎        | 4/30 [07:21<43:39, 100.75s/it]"
          ]
        },
        {
          "output_type": "stream",
          "name": "stdout",
          "text": [
            "Всего у нас 261 записей\n",
            " Добавляем 1 секунд перед обработкой следующей страницы\n",
            "Start collecting data for https://www.fontanka.ru/2022/11/05/news.html\n",
            "За 2022/11/05 день мы добавили 44 запись(-ей)\n"
          ]
        },
        {
          "output_type": "stream",
          "name": "stderr",
          "text": [
            "\r 17%|█▋        | 5/30 [08:29<37:03, 88.95s/it] "
          ]
        },
        {
          "output_type": "stream",
          "name": "stdout",
          "text": [
            "Всего у нас 305 записей\n",
            " Добавляем 1 секунд перед обработкой следующей страницы\n",
            "Start collecting data for https://www.fontanka.ru/2022/11/06/news.html\n",
            "За 2022/11/06 день мы добавили 40 запись(-ей)\n"
          ]
        },
        {
          "output_type": "stream",
          "name": "stderr",
          "text": [
            "\r 20%|██        | 6/30 [09:30<31:46, 79.42s/it]"
          ]
        },
        {
          "output_type": "stream",
          "name": "stdout",
          "text": [
            "Всего у нас 345 записей\n",
            " Добавляем 1 секунд перед обработкой следующей страницы\n",
            "Start collecting data for https://www.fontanka.ru/2022/11/07/news.html\n",
            "За 2022/11/07 день мы добавили 73 запись(-ей)\n"
          ]
        },
        {
          "output_type": "stream",
          "name": "stderr",
          "text": [
            "\r 23%|██▎       | 7/30 [11:31<35:41, 93.09s/it]"
          ]
        },
        {
          "output_type": "stream",
          "name": "stdout",
          "text": [
            "Всего у нас 418 записей\n",
            " Добавляем 2 секунд перед обработкой следующей страницы\n",
            "Start collecting data for https://www.fontanka.ru/2022/11/08/news.html\n",
            "За 2022/11/08 день мы добавили 69 запись(-ей)\n"
          ]
        },
        {
          "output_type": "stream",
          "name": "stderr",
          "text": [
            "\r 27%|██▋       | 8/30 [13:27<36:47, 100.36s/it]"
          ]
        },
        {
          "output_type": "stream",
          "name": "stdout",
          "text": [
            "Всего у нас 487 записей\n",
            " Добавляем 1 секунд перед обработкой следующей страницы\n",
            "Start collecting data for https://www.fontanka.ru/2022/11/09/news.html\n",
            "За 2022/11/09 день мы добавили 77 запись(-ей)\n"
          ]
        },
        {
          "output_type": "stream",
          "name": "stderr",
          "text": [
            "\r 30%|███       | 9/30 [15:30<37:32, 107.28s/it]"
          ]
        },
        {
          "output_type": "stream",
          "name": "stdout",
          "text": [
            "Всего у нас 564 записей\n",
            " Добавляем 1 секунд перед обработкой следующей страницы\n",
            "Start collecting data for https://www.fontanka.ru/2022/11/10/news.html\n",
            "За 2022/11/10 день мы добавили 69 запись(-ей)\n"
          ]
        },
        {
          "output_type": "stream",
          "name": "stderr",
          "text": [
            "\r 33%|███▎      | 10/30 [17:33<37:27, 112.37s/it]"
          ]
        },
        {
          "output_type": "stream",
          "name": "stdout",
          "text": [
            "Всего у нас 633 записей\n",
            " Добавляем 2 секунд перед обработкой следующей страницы\n",
            "Start collecting data for https://www.fontanka.ru/2022/11/11/news.html\n",
            "За 2022/11/11 день мы добавили 69 запись(-ей)\n"
          ]
        },
        {
          "output_type": "stream",
          "name": "stderr",
          "text": [
            "\r 37%|███▋      | 11/30 [19:37<36:42, 115.91s/it]"
          ]
        },
        {
          "output_type": "stream",
          "name": "stdout",
          "text": [
            "Всего у нас 702 записей\n",
            " Добавляем 2 секунд перед обработкой следующей страницы\n",
            "Start collecting data for https://www.fontanka.ru/2022/11/12/news.html\n",
            "За 2022/11/12 день мы добавили 66 запись(-ей)\n"
          ]
        },
        {
          "output_type": "stream",
          "name": "stderr",
          "text": [
            "\r 40%|████      | 12/30 [21:13<32:55, 109.75s/it]"
          ]
        },
        {
          "output_type": "stream",
          "name": "stdout",
          "text": [
            "Всего у нас 768 записей\n",
            " Добавляем 1 секунд перед обработкой следующей страницы\n",
            "Start collecting data for https://www.fontanka.ru/2022/11/13/news.html\n",
            "За 2022/11/13 день мы добавили 0 запись(-ей)\n"
          ]
        },
        {
          "output_type": "stream",
          "name": "stderr",
          "text": [
            "\r 43%|████▎     | 13/30 [21:17<21:59, 77.62s/it] "
          ]
        },
        {
          "output_type": "stream",
          "name": "stdout",
          "text": [
            "Всего у нас 768 записей\n",
            " Добавляем 1 секунд перед обработкой следующей страницы\n",
            "Start collecting data for https://www.fontanka.ru/2022/11/14/news.html\n",
            "За 2022/11/14 день мы добавили 73 запись(-ей)\n"
          ]
        },
        {
          "output_type": "stream",
          "name": "stderr",
          "text": [
            "\r 47%|████▋     | 14/30 [23:24<24:41, 92.59s/it]"
          ]
        },
        {
          "output_type": "stream",
          "name": "stdout",
          "text": [
            "Всего у нас 841 записей\n",
            " Добавляем 2 секунд перед обработкой следующей страницы\n",
            "Start collecting data for https://www.fontanka.ru/2022/11/15/news.html\n",
            "За 2022/11/15 день мы добавили 73 запись(-ей)\n"
          ]
        },
        {
          "output_type": "stream",
          "name": "stderr",
          "text": [
            "\r 50%|█████     | 15/30 [25:31<25:43, 102.88s/it]"
          ]
        },
        {
          "output_type": "stream",
          "name": "stdout",
          "text": [
            "Всего у нас 914 записей\n",
            "Сохранились!\n",
            " Добавляем 2 секунд перед обработкой следующей страницы\n",
            "Start collecting data for https://www.fontanka.ru/2022/11/16/news.html\n",
            "За 2022/11/16 день мы добавили 76 запись(-ей)\n"
          ]
        },
        {
          "output_type": "stream",
          "name": "stderr",
          "text": [
            "\r 53%|█████▎    | 16/30 [27:33<25:24, 108.90s/it]"
          ]
        },
        {
          "output_type": "stream",
          "name": "stdout",
          "text": [
            "Всего у нас 990 записей\n",
            " Добавляем 2 секунд перед обработкой следующей страницы\n",
            "Start collecting data for https://www.fontanka.ru/2022/11/17/news.html\n",
            "За 2022/11/17 день мы добавили 75 запись(-ей)\n"
          ]
        },
        {
          "output_type": "stream",
          "name": "stderr",
          "text": [
            "\r 57%|█████▋    | 17/30 [29:43<24:58, 115.24s/it]"
          ]
        },
        {
          "output_type": "stream",
          "name": "stdout",
          "text": [
            "Всего у нас 1065 записей\n",
            " Добавляем 2 секунд перед обработкой следующей страницы\n",
            "Start collecting data for https://www.fontanka.ru/2022/11/18/news.html\n",
            "За 2022/11/18 день мы добавили 77 запись(-ей)\n"
          ]
        },
        {
          "output_type": "stream",
          "name": "stderr",
          "text": [
            "\r 60%|██████    | 18/30 [31:48<23:35, 117.98s/it]"
          ]
        },
        {
          "output_type": "stream",
          "name": "stdout",
          "text": [
            "Всего у нас 1142 записей\n",
            " Добавляем 2 секунд перед обработкой следующей страницы\n",
            "Start collecting data for https://www.fontanka.ru/2022/11/19/news.html\n",
            "За 2022/11/19 день мы добавили 41 запись(-ей)\n"
          ]
        },
        {
          "output_type": "stream",
          "name": "stderr",
          "text": [
            "\r 63%|██████▎   | 19/30 [32:53<18:44, 102.19s/it]"
          ]
        },
        {
          "output_type": "stream",
          "name": "stdout",
          "text": [
            "Всего у нас 1183 записей\n",
            " Добавляем 2 секунд перед обработкой следующей страницы\n",
            "Start collecting data for https://www.fontanka.ru/2022/11/20/news.html\n",
            "За 2022/11/20 день мы добавили 44 запись(-ей)\n"
          ]
        },
        {
          "output_type": "stream",
          "name": "stderr",
          "text": [
            "\r 67%|██████▋   | 20/30 [34:02<15:22, 92.29s/it] "
          ]
        },
        {
          "output_type": "stream",
          "name": "stdout",
          "text": [
            "Всего у нас 1227 записей\n",
            " Добавляем 1 секунд перед обработкой следующей страницы\n",
            "Start collecting data for https://www.fontanka.ru/2022/11/21/news.html\n",
            "За 2022/11/21 день мы добавили 76 запись(-ей)\n"
          ]
        },
        {
          "output_type": "stream",
          "name": "stderr",
          "text": [
            "\r 70%|███████   | 21/30 [36:16<15:42, 104.68s/it]"
          ]
        },
        {
          "output_type": "stream",
          "name": "stdout",
          "text": [
            "Всего у нас 1303 записей\n",
            " Добавляем 2 секунд перед обработкой следующей страницы\n",
            "Start collecting data for https://www.fontanka.ru/2022/11/22/news.html\n",
            "За 2022/11/22 день мы добавили 73 запись(-ей)\n"
          ]
        },
        {
          "output_type": "stream",
          "name": "stderr",
          "text": [
            "\r 73%|███████▎  | 22/30 [38:17<14:36, 109.59s/it]"
          ]
        },
        {
          "output_type": "stream",
          "name": "stdout",
          "text": [
            "Всего у нас 1376 записей\n",
            " Добавляем 1 секунд перед обработкой следующей страницы\n",
            "Start collecting data for https://www.fontanka.ru/2022/11/23/news.html\n",
            "За 2022/11/23 день мы добавили 74 запись(-ей)\n"
          ]
        },
        {
          "output_type": "stream",
          "name": "stderr",
          "text": [
            "\r 77%|███████▋  | 23/30 [40:25<13:26, 115.15s/it]"
          ]
        },
        {
          "output_type": "stream",
          "name": "stdout",
          "text": [
            "Всего у нас 1450 записей\n",
            " Добавляем 2 секунд перед обработкой следующей страницы\n",
            "Start collecting data for https://www.fontanka.ru/2022/11/24/news.html\n",
            "За 2022/11/24 день мы добавили 73 запись(-ей)\n"
          ]
        },
        {
          "output_type": "stream",
          "name": "stderr",
          "text": [
            "\r 80%|████████  | 24/30 [42:37<12:00, 120.10s/it]"
          ]
        },
        {
          "output_type": "stream",
          "name": "stdout",
          "text": [
            "Всего у нас 1523 записей\n",
            " Добавляем 2 секунд перед обработкой следующей страницы\n",
            "Start collecting data for https://www.fontanka.ru/2022/11/25/news.html\n",
            "За 2022/11/25 день мы добавили 66 запись(-ей)\n"
          ]
        },
        {
          "output_type": "stream",
          "name": "stderr",
          "text": [
            "\r 83%|████████▎ | 25/30 [44:35<09:57, 119.43s/it]"
          ]
        },
        {
          "output_type": "stream",
          "name": "stdout",
          "text": [
            "Всего у нас 1589 записей\n",
            " Добавляем 1 секунд перед обработкой следующей страницы\n",
            "Start collecting data for https://www.fontanka.ru/2022/11/26/news.html\n",
            "За 2022/11/26 день мы добавили 27 запись(-ей)\n"
          ]
        },
        {
          "output_type": "stream",
          "name": "stderr",
          "text": [
            "\r 87%|████████▋ | 26/30 [45:27<06:36, 99.24s/it] "
          ]
        },
        {
          "output_type": "stream",
          "name": "stdout",
          "text": [
            "Всего у нас 1616 записей\n",
            " Добавляем 2 секунд перед обработкой следующей страницы\n",
            "Start collecting data for https://www.fontanka.ru/2022/11/27/news.html\n",
            "За 2022/11/27 день мы добавили 51 запись(-ей)\n"
          ]
        },
        {
          "output_type": "stream",
          "name": "stderr",
          "text": [
            "\r 90%|█████████ | 27/30 [46:51<04:43, 94.58s/it]"
          ]
        },
        {
          "output_type": "stream",
          "name": "stdout",
          "text": [
            "Всего у нас 1667 записей\n",
            " Добавляем 2 секунд перед обработкой следующей страницы\n",
            "Start collecting data for https://www.fontanka.ru/2022/11/28/news.html\n",
            "За 2022/11/28 день мы добавили 73 запись(-ей)\n"
          ]
        },
        {
          "output_type": "stream",
          "name": "stderr",
          "text": [
            "\r 93%|█████████▎| 28/30 [49:03<03:32, 106.08s/it]"
          ]
        },
        {
          "output_type": "stream",
          "name": "stdout",
          "text": [
            "Всего у нас 1740 записей\n",
            " Добавляем 2 секунд перед обработкой следующей страницы\n",
            "Start collecting data for https://www.fontanka.ru/2022/11/29/news.html\n",
            "За 2022/11/29 день мы добавили 71 запись(-ей)\n"
          ]
        },
        {
          "output_type": "stream",
          "name": "stderr",
          "text": [
            "\r 97%|█████████▋| 29/30 [51:12<01:52, 112.87s/it]"
          ]
        },
        {
          "output_type": "stream",
          "name": "stdout",
          "text": [
            "Всего у нас 1811 записей\n",
            " Добавляем 1 секунд перед обработкой следующей страницы\n",
            "Start collecting data for https://www.fontanka.ru/2022/11/30/news.html\n",
            "За 2022/11/30 день мы добавили 75 запись(-ей)\n"
          ]
        },
        {
          "output_type": "stream",
          "name": "stderr",
          "text": [
            "100%|██████████| 30/30 [53:17<00:00, 106.60s/it]"
          ]
        },
        {
          "output_type": "stream",
          "name": "stdout",
          "text": [
            "Всего у нас 1886 записей\n",
            "Сохранились!\n",
            "На обработку 30 страницы(-иц) ушло     00:53:17 времени\n"
          ]
        },
        {
          "output_type": "stream",
          "name": "stderr",
          "text": [
            "\n"
          ]
        }
      ]
    },
    {
      "cell_type": "code",
      "source": [
        "df = pd.read_csv('/content/fontanka_12-1.csv')"
      ],
      "metadata": {
        "id": "R5XEO-VTxZCH"
      },
      "execution_count": null,
      "outputs": []
    },
    {
      "cell_type": "code",
      "source": [
        "df.head()"
      ],
      "metadata": {
        "id": "Ndr5gNyZxfAd"
      },
      "execution_count": null,
      "outputs": []
    },
    {
      "cell_type": "markdown",
      "source": [
        "# Асинхронная реализация"
      ],
      "metadata": {
        "id": "DgsJVLcKQtZm"
      }
    },
    {
      "cell_type": "markdown",
      "source": [
        "Реализована в скрипте parsing.py. Здесь приведён только код."
      ],
      "metadata": {
        "id": "hIh_N0ePwaB9"
      }
    },
    {
      "cell_type": "code",
      "source": [
        "import asyncio\n",
        "import aiohttp\n",
        "import pandas as pd\n",
        "from bs4 import BeautifulSoup\n",
        "import logging\n",
        "from datetime import datetime, date, timedelta\n",
        "from tqdm.asyncio import tqdm\n",
        "import random\n",
        "import aioconsole\n",
        "from typing import Optional, NoReturn, List, Dict\n",
        "import csv\n",
        "\n",
        "# создаём логгер\n",
        "logger = logging.getLogger(__name__)\n",
        "\n",
        "# Настраиваем вывод логов в консоль\n",
        "console_handler = logging.StreamHandler()\n",
        "console_handler.setLevel(logging.ERROR)\n",
        "console_handler.setFormatter(logging.Formatter('%(asctime)s - %(name)s - %(levelname)s - %(message)s'))\n",
        "logger.addHandler(console_handler)\n",
        "\n",
        "# Настраиваем вывод логов в файл\n",
        "file_handler = logging.FileHandler('my_log_file.log')\n",
        "file_handler.setLevel(logging.DEBUG)\n",
        "file_handler.setFormatter(logging.Formatter('%(asctime)s - %(name)s - %(levelname)s - %(message)s'))\n",
        "logger.addHandler(file_handler)\n",
        "\n",
        "# Устанавливаем уровень логирования для логгера\n",
        "logger.setLevel(logging.DEBUG)\n",
        "\n",
        "\n",
        "def parse_date(date_string: str) -> Optional[datetime]:\n",
        "    \"\"\"\n",
        "    Функция парсинга даты из строкового представления\n",
        "    :param date_string: строка с датой\n",
        "    :return: datetime представление даты\n",
        "    \"\"\"\n",
        "    logger.debug('Парсинг даты')\n",
        "\n",
        "    month_map = {\n",
        "        'января': '01',\n",
        "        'февраля': '02',\n",
        "        'марта': '03',\n",
        "        'апреля': '04',\n",
        "        'мая': '05',\n",
        "        'июня': '06',\n",
        "        'июля': '07',\n",
        "        'августа': '08',\n",
        "        'сентября': '09',\n",
        "        'октября': '10',\n",
        "        'ноября': '11',\n",
        "        'декабря': '12'\n",
        "    }\n",
        "    try:\n",
        "        day, month_word, year, time = date_string.split(' ')\n",
        "        year = year.replace(',', '')\n",
        "        month = month_map[month_word]\n",
        "        formatted_date = f\"{day}.{month}.{year} {time}\"\n",
        "        return datetime.strptime(formatted_date, '%d.%m.%Y %H:%M')\n",
        "    except Exception as e:\n",
        "        print(f\"Не удалось разобрать дату: {date_string}, ошибка: {e}\")\n",
        "        logger.error(f\"Не удалось разобрать дату: {date_string}\")\n",
        "        return None\n",
        "\n",
        "\n",
        "async def print_progress(progress: int) -> NoReturn:\n",
        "    \"\"\"\n",
        "    Функция печати прогресса в консоль\n",
        "    :param progress: текущий прогресс в процентах\n",
        "    :return: None\n",
        "    \"\"\"\n",
        "    try:\n",
        "        await aioconsole.aprint(f\"\\rПрогресс: {progress}%\", end=\"\")\n",
        "    except Exception as e:\n",
        "        # logger.debug(f\"Ошибка при печати прогресса: {e}\")\n",
        "        logger.error(f\"Ошибка при печати прогресса: {e}\")\n",
        "\n",
        "\n",
        "async def collect_data_from_page(url: str, semaphore: asyncio.Semaphore) -> List[Dict]:\n",
        "    \"\"\"\n",
        "    Функция сбора данных с новостной страницы\n",
        "    :param url: URL страницы\n",
        "    :param semaphore: семафор для ограничения количества одновременных запросов\n",
        "    :return: список словарей с данными о новостях\n",
        "    \"\"\"\n",
        "    logger.info(f\"Старт сбора данных для {url}\")\n",
        "    async with aiohttp.ClientSession() as session:\n",
        "        async with semaphore:\n",
        "            try:\n",
        "                async with session.get(url) as response:\n",
        "                    html = await response.text()\n",
        "                    tree = BeautifulSoup(html, 'html.parser')\n",
        "                    articles = tree.find_all('li', {'class': 'IPafn'})\n",
        "                    info = []\n",
        "                    for article in articles:\n",
        "                        topic = article.find_all('a', {'class': 'IPmv IPl7'})\n",
        "                        subclass = article.find_all('a', {'class': 'IPef'})\n",
        "                        if len(topic) == 0:\n",
        "                            continue\n",
        "                        topic = topic[0].get('title')\n",
        "                        if 'Афиша Plus' in topic:\n",
        "                            continue\n",
        "                        title = subclass[0].text\n",
        "                        suburl = subclass[0].get('href')\n",
        "                        if 'longreads' in suburl or 'doctorpiter' in suburl or 'https' in suburl or 'vk' in suburl or 'amp' in suburl:\n",
        "                            continue\n",
        "                        suburl = 'https://www.fontanka.ru' + suburl\n",
        "                        async with session.get(suburl) as response_inner:\n",
        "                            html_inner = await response_inner.text()\n",
        "                            tree_inner = BeautifulSoup(html_inner, 'html.parser')\n",
        "                            check_add = tree_inner.find_all('div', {'class': 'NBzj MVzj'})\n",
        "                            if len(check_add) == 0:\n",
        "                                continue\n",
        "                            content_ = tree_inner.find_all('div', {'class': 'CFah JFa3 JFah'})\n",
        "                            content_txt = []\n",
        "                            [content_txt.append(el.text) for el in content_]\n",
        "                            content = ' '.join(content_txt)\n",
        "                            views = int(tree_inner.find_all('span', {'class': 'CNm3 primaryOverlineMobile'})[0].text)\n",
        "                            date_time = tree_inner.find_all('span', {'itemprop': 'datePublished'})[0].text\n",
        "                            date_time = parse_date(date_time)\n",
        "                            comments = int(tree_inner.find_all('div', {'class': 'NBzj MVzj'})[0].text)\n",
        "                            row = {'url': url,\n",
        "                                   'title': title,\n",
        "                                   'content': content,\n",
        "                                   'topic': topic,\n",
        "                                   'datetime': date_time,\n",
        "                                   'views': views,\n",
        "                                   'comments_amount': comments}\n",
        "                            info.append(row)\n",
        "                    logger.info(f\"Данные для {url} собраны\")\n",
        "                    await asyncio.sleep(random.uniform(1, 3))\n",
        "                    return info\n",
        "            except Exception as e:\n",
        "                logger.info(f\"Ошибка при сборе данных для {url}: {e}\")\n",
        "                logger.error(f\"Ошибка при сборе данных для {url}: {e}\")\n",
        "                return []\n",
        "\n",
        "\n",
        "async def main() -> NoReturn:\n",
        "    \"\"\"\n",
        "    Функция выполняет сбор данных с новостных страниц и сохраняет их в CSV-файл\n",
        "    \"\"\"\n",
        "    # пустой датафрейм, в который будем сохранять результаты\n",
        "    df_main = pd.DataFrame()\n",
        "    logger.info('Поехали')\n",
        "\n",
        "    # задаём даты начала и конца обработки\n",
        "    start = date(2022, 11, 1)\n",
        "    finish = date(2022, 12, 1)\n",
        "\n",
        "    # создаём список дат в диапазоне от start до finish\n",
        "    dates = [start + timedelta(days=i) for i in range((finish - start).days)]\n",
        "\n",
        "    # создаём список URL-адресов на основе списка дат\n",
        "    urls = ['https://www.fontanka.ru/{}/news.html'.format(date.strftime('%Y/%m/%d')) for date in dates]\n",
        "\n",
        "    semaphore = asyncio.Semaphore(10) # Ограничиваем количество одновременных запросов\n",
        "\n",
        "    # создаём список тасков для асинхронного выполнения\n",
        "    tasks = [asyncio.create_task(collect_data_from_page(url, semaphore)) for url in urls]\n",
        "\n",
        "    # Создаём экземпляр tqdm с общей длиной задач\n",
        "    progress_bar = tqdm(total=len(tasks))\n",
        "\n",
        "    try:\n",
        "        results = []\n",
        "        total_news = 0\n",
        "        for i, task in enumerate(asyncio.as_completed(tasks)):\n",
        "            try:\n",
        "                result = await task\n",
        "                results.append(result)\n",
        "                total_news += len(result)\n",
        "            except aiohttp.client_exceptions.ServerDisconnectedError:\n",
        "                print(\"Сервер отключился, пропускаем этот URL\")\n",
        "            progress = int(100 * (i + 1) / len(tasks))\n",
        "            await print_progress(progress)  # выводим в консоль процент обработки\n",
        "\n",
        "        print(f\"\\nВсего собрано новостей: {total_news}\")\n",
        "\n",
        "        df_main = pd.concat([pd.DataFrame(result) for result in results])\n",
        "\n",
        "        # сохраняем результаты в файл\n",
        "        df_main.to_csv('fontanka_full.csv', index=False)\n",
        "\n",
        "        print('Общий результат сохранён')\n",
        "    except Exception as e:\n",
        "        print(f\"Ошибка при выполнении программы: {e}\")\n",
        "        logger.error(f\"Ошибка при выполнении программы: {e}\")\n",
        "\n",
        "    print('Общий результат сохранён')\n",
        "\n",
        "\n",
        "if __name__ == '__main__':\n",
        "    asyncio.run(main())"
      ],
      "metadata": {
        "id": "2y7vVJBQ4aAH"
      },
      "execution_count": null,
      "outputs": []
    }
  ]
}